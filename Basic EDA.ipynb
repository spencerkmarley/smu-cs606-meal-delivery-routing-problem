{
 "cells": [
  {
   "cell_type": "code",
   "execution_count": 16,
   "metadata": {},
   "outputs": [],
   "source": [
    "import math\n",
    "import os \n",
    "import pandas as pd "
   ]
  },
  {
   "cell_type": "code",
   "execution_count": 4,
   "metadata": {},
   "outputs": [],
   "source": [
    "# EDA"
   ]
  },
  {
   "cell_type": "code",
   "execution_count": 2,
   "metadata": {},
   "outputs": [],
   "source": [
    "def preprocess_information(file_name: str) -> pd.DataFrame:\n",
    "    couriers = open(file_name)\n",
    "    couriers = [i.split(\"\\t\") for i in couriers]\n",
    "    couriers = [[j.strip() for j in i] for i in couriers]\n",
    "    couriers_df = pd.DataFrame(couriers[1:], columns = couriers[0])\n",
    "    return couriers_df\n"
   ]
  },
  {
   "cell_type": "code",
   "execution_count": 4,
   "metadata": {},
   "outputs": [],
   "source": [
    "instance_parameters = preprocess_information(\"data/0o50t75s1p100/instance_parameters.txt\").astype(int)"
   ]
  },
  {
   "cell_type": "code",
   "execution_count": 5,
   "metadata": {},
   "outputs": [],
   "source": [
    "meters_per_min, pickup_service_minutes, dropoff_service_minutes, target_click_to_door, maximum_click_to_door, pay_per_order, guaranteed_pay_per_hour = instance_parameters.iloc[0]"
   ]
  },
  {
   "cell_type": "code",
   "execution_count": 6,
   "metadata": {},
   "outputs": [
    {
     "data": {
      "text/html": [
       "<div>\n",
       "<style scoped>\n",
       "    .dataframe tbody tr th:only-of-type {\n",
       "        vertical-align: middle;\n",
       "    }\n",
       "\n",
       "    .dataframe tbody tr th {\n",
       "        vertical-align: top;\n",
       "    }\n",
       "\n",
       "    .dataframe thead th {\n",
       "        text-align: right;\n",
       "    }\n",
       "</style>\n",
       "<table border=\"1\" class=\"dataframe\">\n",
       "  <thead>\n",
       "    <tr style=\"text-align: right;\">\n",
       "      <th></th>\n",
       "      <th>meters_per_minute</th>\n",
       "      <th>pickup service minutes</th>\n",
       "      <th>dropoff service minutes</th>\n",
       "      <th>target click-to-door</th>\n",
       "      <th>maximum click-to-door</th>\n",
       "      <th>pay per order</th>\n",
       "      <th>guaranteed pay per hour</th>\n",
       "    </tr>\n",
       "  </thead>\n",
       "  <tbody>\n",
       "    <tr>\n",
       "      <th>0</th>\n",
       "      <td>427</td>\n",
       "      <td>4</td>\n",
       "      <td>4</td>\n",
       "      <td>40</td>\n",
       "      <td>90</td>\n",
       "      <td>10</td>\n",
       "      <td>15</td>\n",
       "    </tr>\n",
       "  </tbody>\n",
       "</table>\n",
       "</div>"
      ],
      "text/plain": [
       "   meters_per_minute  pickup service minutes  dropoff service minutes  \\\n",
       "0                427                       4                        4   \n",
       "\n",
       "   target click-to-door  maximum click-to-door  pay per order  \\\n",
       "0                    40                     90             10   \n",
       "\n",
       "   guaranteed pay per hour  \n",
       "0                       15  "
      ]
     },
     "execution_count": 6,
     "metadata": {},
     "output_type": "execute_result"
    }
   ],
   "source": [
    "instance_parameters"
   ]
  },
  {
   "cell_type": "code",
   "execution_count": 8,
   "metadata": {},
   "outputs": [],
   "source": [
    "couriers = preprocess_information(\"data/0o50t75s1p100/couriers.txt\")"
   ]
  },
  {
   "cell_type": "code",
   "execution_count": 9,
   "metadata": {},
   "outputs": [],
   "source": [
    "orders = preprocess_information(\"data/0o50t75s1p100/orders.txt\")"
   ]
  },
  {
   "cell_type": "code",
   "execution_count": 10,
   "metadata": {},
   "outputs": [],
   "source": [
    "restaurants = preprocess_information(\"data/0o50t75s1p100/restaurants.txt\")"
   ]
  },
  {
   "cell_type": "code",
   "execution_count": 11,
   "metadata": {},
   "outputs": [],
   "source": [
    "restaurants.columns = ['restaurant', 'restaurant_x', 'restaurant_y']"
   ]
  },
  {
   "cell_type": "code",
   "execution_count": 12,
   "metadata": {},
   "outputs": [],
   "source": [
    "order_restaurant = orders.merge(restaurants, left_on = 'restaurant', right_on = 'restaurant', how = 'inner')"
   ]
  },
  {
   "cell_type": "code",
   "execution_count": 13,
   "metadata": {},
   "outputs": [],
   "source": [
    "order_restaurant['x'] = order_restaurant['x'].astype(int)\n",
    "order_restaurant['y'] = order_restaurant['y'].astype(int)\n",
    "order_restaurant['restaurant_x'] = order_restaurant['restaurant_x'].astype(int)\n",
    "order_restaurant['restaurant_y'] = order_restaurant['restaurant_y'].astype(int)"
   ]
  },
  {
   "cell_type": "code",
   "execution_count": 14,
   "metadata": {},
   "outputs": [],
   "source": [
    "def calculate_euclidean_distance(source_x, source_y, destination_x, destination_y):\n",
    "    return ((source_x - destination_x)**2 + (source_y - destination_y) ** 2) ** 0.5\n"
   ]
  },
  {
   "cell_type": "code",
   "execution_count": 17,
   "metadata": {},
   "outputs": [],
   "source": [
    "order_restaurant['euclidean_distance'] = order_restaurant.apply(lambda x: math.dist((x['x'],x['y']),(x['restaurant_x'], x['restaurant_y'])), axis = 1)"
   ]
  },
  {
   "cell_type": "code",
   "execution_count": 18,
   "metadata": {},
   "outputs": [],
   "source": [
    "def generate_schedule(on_time : int, off_time : int) -> list:\n",
    "    return [i for i in range(on_time, off_time + 1)]"
   ]
  },
  {
   "cell_type": "code",
   "execution_count": 19,
   "metadata": {},
   "outputs": [],
   "source": [
    "order_restaurant['time_taken_to_travel'] = order_restaurant['euclidean_distance'].apply(lambda x: x/meters_per_min)"
   ]
  },
  {
   "cell_type": "code",
   "execution_count": 20,
   "metadata": {},
   "outputs": [],
   "source": [
    "courier_can_pick_order = {} \n",
    "courier_current_location = {} \n",
    "courier_time_taken = {} \n",
    "\n",
    "for _, v in couriers.iterrows():\n",
    "    courier, current_x, current_y, on_time, off_time = v\n",
    "    courier_current_location[courier] = (int(current_x), int(current_y))\n",
    "\n",
    "\n",
    "\n",
    "for _, v in couriers.iterrows():\n",
    "    courier, current_x, current_y, on_time, off_time = v\n",
    "    schedule_range = generate_schedule(int(on_time), int(off_time))\n",
    "    \n",
    "    for _, x in order_restaurant.iterrows():\n",
    "        order, destination_x, destination_y, placement_time, restaurant, ready_time, source_x, source_y, euclidean_distance, time_taken_to_travel = x\n",
    "\n",
    "\n",
    "        if ready_time <= off_time and ready_time >= on_time:\n",
    "            if courier not in courier_can_pick_order.keys():\n",
    "                courier_can_pick_order[courier] = [order]\n",
    "            else:\n",
    "                courier_can_pick_order[courier].append(order)"
   ]
  },
  {
   "cell_type": "code",
   "execution_count": 21,
   "metadata": {},
   "outputs": [
    {
     "ename": "KeyError",
     "evalue": "'c16'",
     "output_type": "error",
     "traceback": [
      "\u001b[0;31m---------------------------------------------------------------------------\u001b[0m",
      "\u001b[0;31mKeyError\u001b[0m                                  Traceback (most recent call last)",
      "\u001b[0;32m/var/folders/hq/bxqz4b9d4psc5x5f3f7dcr5w0000gn/T/ipykernel_29633/4150172037.py\u001b[0m in \u001b[0;36m<module>\u001b[0;34m\u001b[0m\n\u001b[1;32m     25\u001b[0m                 \u001b[0mall_orders\u001b[0m\u001b[0;34m.\u001b[0m\u001b[0mremove\u001b[0m\u001b[0;34m(\u001b[0m\u001b[0morder_id\u001b[0m\u001b[0;34m)\u001b[0m\u001b[0;34m\u001b[0m\u001b[0;34m\u001b[0m\u001b[0m\n\u001b[1;32m     26\u001b[0m             \u001b[0;32melse\u001b[0m\u001b[0;34m:\u001b[0m\u001b[0;34m\u001b[0m\u001b[0;34m\u001b[0m\u001b[0m\n\u001b[0;32m---> 27\u001b[0;31m                 \u001b[0mprevious_order_id\u001b[0m \u001b[0;34m=\u001b[0m \u001b[0mcourier_order_assigned\u001b[0m\u001b[0;34m[\u001b[0m\u001b[0mcourier_id\u001b[0m\u001b[0;34m]\u001b[0m\u001b[0;34m\u001b[0m\u001b[0;34m\u001b[0m\u001b[0m\n\u001b[0m\u001b[1;32m     28\u001b[0m                 \u001b[0mall_orders\u001b[0m\u001b[0;34m.\u001b[0m\u001b[0mappend\u001b[0m\u001b[0;34m(\u001b[0m\u001b[0mprevious_order_id\u001b[0m\u001b[0;34m)\u001b[0m\u001b[0;34m\u001b[0m\u001b[0;34m\u001b[0m\u001b[0m\n\u001b[1;32m     29\u001b[0m \u001b[0;34m\u001b[0m\u001b[0m\n",
      "\u001b[0;31mKeyError\u001b[0m: 'c16'"
     ]
    }
   ],
   "source": [
    "all_orders = list(order_restaurant['order'])\n",
    "\n",
    "courier_time_taken = {} \n",
    "courier_order_assigned = {} \n",
    "for courier_id, order_list in courier_can_pick_order.items():\n",
    "\n",
    "    smallest_time_taken = 1e9\n",
    "\n",
    "    for order_id in order_list:\n",
    "        order_subset = order_restaurant[order_restaurant['order'] == order_id]\n",
    "        current_x, current_y = courier_current_location[courier_id]\n",
    "        order_x, order_y, restaurant_x, restaurant_y = order_subset['x'].iloc[0], order_subset['y'].iloc[0], order_subset['restaurant_x'].iloc[0], order_subset['restaurant_y'].iloc[0]\n",
    "        \n",
    "        initial_travel_distance = calculate_euclidean_distance(current_x, current_y, restaurant_x, restaurant_y)\n",
    "        order_travel_distance = order_subset['euclidean_distance'].iloc[0]\n",
    "\n",
    "        total_travel_distance = initial_travel_distance + order_travel_distance\n",
    "        total_time_taken = total_travel_distance/meters_per_min\n",
    "\n",
    "        if total_time_taken < smallest_time_taken:\n",
    "            if order_id in all_orders:\n",
    "                smallest_time_taken = total_time_taken \n",
    "                courier_time_taken[courier_id] = smallest_time_taken\n",
    "                courier_order_assigned[courier_id] = order_id \n",
    "                all_orders.remove(order_id)\n",
    "            else:\n",
    "                previous_order_id = courier_order_assigned[courier_id]\n",
    "                all_orders.append(previous_order_id)\n",
    "                \n",
    "                smallest_time_taken = total_time_taken \n",
    "                courier_time_taken[courier_id] = smallest_time_taken\n",
    "                courier_order_assigned[courier_id] = order_id \n",
    "                all_orders.remove(order_id)\n"
   ]
  },
  {
   "cell_type": "code",
   "execution_count": 24,
   "metadata": {},
   "outputs": [
    {
     "data": {
      "text/plain": [
       "236"
      ]
     },
     "execution_count": 24,
     "metadata": {},
     "output_type": "execute_result"
    }
   ],
   "source": [
    "len(all_orders)"
   ]
  },
  {
   "cell_type": "code",
   "execution_count": 23,
   "metadata": {},
   "outputs": [
    {
     "data": {
      "text/plain": [
       "(9292, 1183)"
      ]
     },
     "execution_count": 23,
     "metadata": {},
     "output_type": "execute_result"
    }
   ],
   "source": [
    "current_x, current_y"
   ]
  },
  {
   "cell_type": "code",
   "execution_count": 22,
   "metadata": {},
   "outputs": [
    {
     "data": {
      "text/plain": [
       "{'c1': (9755, 1693),\n",
       " 'c2': (3049, 7734),\n",
       " 'c3': (8343, 752),\n",
       " 'c4': (5471, 0),\n",
       " 'c5': (10252, 2493),\n",
       " 'c6': (7038, 26),\n",
       " 'c7': (10663, 5087),\n",
       " 'c8': (8256, 8490),\n",
       " 'c9': (9212, 1109),\n",
       " 'c10': (8464, 562),\n",
       " 'c11': (2922, 1330),\n",
       " 'c12': (9028, 952),\n",
       " 'c13': (1661, 4683),\n",
       " 'c14': (1687, 4999),\n",
       " 'c15': (9774, 1718),\n",
       " 'c16': (9292, 1183),\n",
       " 'c17': (2883, 6253),\n",
       " 'c18': (8941, 1446),\n",
       " 'c19': (7488, 6328),\n",
       " 'c20': (5190, 3023),\n",
       " 'c21': (9803, 3525),\n",
       " 'c22': (2096, 2524),\n",
       " 'c23': (5668, 2563),\n",
       " 'c24': (2579, 1730),\n",
       " 'c25': (7223, 8872),\n",
       " 'c26': (2457, 6197),\n",
       " 'c27': (7922, 293),\n",
       " 'c28': (1740, 3600),\n",
       " 'c29': (2353, 5855),\n",
       " 'c30': (5376, 2954),\n",
       " 'c31': (2163, 5416),\n",
       " 'c32': (5223, 8891),\n",
       " 'c33': (9434, 6880),\n",
       " 'c34': (9587, 1490),\n",
       " 'c35': (3559, 8157),\n",
       " 'c36': (4697, 194),\n",
       " 'c37': (3698, 2338),\n",
       " 'c38': (4304, 1224),\n",
       " 'c39': (2337, 6855),\n",
       " 'c40': (7381, 2226),\n",
       " 'c41': (3053, 7738),\n",
       " 'c42': (9621, 1530),\n",
       " 'c43': (5406, 11),\n",
       " 'c44': (4963, 8135),\n",
       " 'c45': (9658, 1573),\n",
       " 'c46': (4971, 109),\n",
       " 'c47': (3259, 7924),\n",
       " 'c48': (8610, 651),\n",
       " 'c49': (10643, 3715),\n",
       " 'c50': (1963, 6106),\n",
       " 'c51': (3083, 4282),\n",
       " 'c52': (4662, 8731),\n",
       " 'c53': (3713, 677),\n",
       " 'c54': (4012, 4404),\n",
       " 'c55': (3175, 1087),\n",
       " 'c56': (9972, 1998),\n",
       " 'c57': (6324, 3843),\n",
       " 'c58': (7313, 88),\n",
       " 'c59': (9894, 1883),\n",
       " 'c60': (3073, 5511),\n",
       " 'c61': (4274, 2901)}"
      ]
     },
     "execution_count": 22,
     "metadata": {},
     "output_type": "execute_result"
    }
   ],
   "source": [
    "courier_current_location"
   ]
  },
  {
   "cell_type": "code",
   "execution_count": 143,
   "metadata": {},
   "outputs": [
    {
     "data": {
      "text/html": [
       "<div>\n",
       "<style scoped>\n",
       "    .dataframe tbody tr th:only-of-type {\n",
       "        vertical-align: middle;\n",
       "    }\n",
       "\n",
       "    .dataframe tbody tr th {\n",
       "        vertical-align: top;\n",
       "    }\n",
       "\n",
       "    .dataframe thead th {\n",
       "        text-align: right;\n",
       "    }\n",
       "</style>\n",
       "<table border=\"1\" class=\"dataframe\">\n",
       "  <thead>\n",
       "    <tr style=\"text-align: right;\">\n",
       "      <th></th>\n",
       "      <th>order</th>\n",
       "      <th>x</th>\n",
       "      <th>y</th>\n",
       "      <th>placement_time</th>\n",
       "      <th>restaurant</th>\n",
       "      <th>ready_time</th>\n",
       "      <th>restaurant_x</th>\n",
       "      <th>restaurant_y</th>\n",
       "      <th>euclidean_distance</th>\n",
       "      <th>time_taken_to_travel</th>\n",
       "    </tr>\n",
       "  </thead>\n",
       "  <tbody>\n",
       "    <tr>\n",
       "      <th>0</th>\n",
       "      <td>o1</td>\n",
       "      <td>8317</td>\n",
       "      <td>5587</td>\n",
       "      <td>743</td>\n",
       "      <td>r1</td>\n",
       "      <td>753</td>\n",
       "      <td>7818</td>\n",
       "      <td>3668</td>\n",
       "      <td>1982.816683</td>\n",
       "      <td>4.643599</td>\n",
       "    </tr>\n",
       "    <tr>\n",
       "      <th>1</th>\n",
       "      <td>o8</td>\n",
       "      <td>7202</td>\n",
       "      <td>4887</td>\n",
       "      <td>612</td>\n",
       "      <td>r1</td>\n",
       "      <td>622</td>\n",
       "      <td>7818</td>\n",
       "      <td>3668</td>\n",
       "      <td>1365.802694</td>\n",
       "      <td>3.198601</td>\n",
       "    </tr>\n",
       "    <tr>\n",
       "      <th>2</th>\n",
       "      <td>o21</td>\n",
       "      <td>6589</td>\n",
       "      <td>3457</td>\n",
       "      <td>336</td>\n",
       "      <td>r1</td>\n",
       "      <td>346</td>\n",
       "      <td>7818</td>\n",
       "      <td>3668</td>\n",
       "      <td>1246.981155</td>\n",
       "      <td>2.920331</td>\n",
       "    </tr>\n",
       "    <tr>\n",
       "      <th>3</th>\n",
       "      <td>o26</td>\n",
       "      <td>6302</td>\n",
       "      <td>5401</td>\n",
       "      <td>623</td>\n",
       "      <td>r1</td>\n",
       "      <td>633</td>\n",
       "      <td>7818</td>\n",
       "      <td>3668</td>\n",
       "      <td>2302.508415</td>\n",
       "      <td>5.392291</td>\n",
       "    </tr>\n",
       "    <tr>\n",
       "      <th>4</th>\n",
       "      <td>o38</td>\n",
       "      <td>10350</td>\n",
       "      <td>4937</td>\n",
       "      <td>594</td>\n",
       "      <td>r1</td>\n",
       "      <td>614</td>\n",
       "      <td>7818</td>\n",
       "      <td>3668</td>\n",
       "      <td>2832.204971</td>\n",
       "      <td>6.632799</td>\n",
       "    </tr>\n",
       "    <tr>\n",
       "      <th>...</th>\n",
       "      <td>...</td>\n",
       "      <td>...</td>\n",
       "      <td>...</td>\n",
       "      <td>...</td>\n",
       "      <td>...</td>\n",
       "      <td>...</td>\n",
       "      <td>...</td>\n",
       "      <td>...</td>\n",
       "      <td>...</td>\n",
       "      <td>...</td>\n",
       "    </tr>\n",
       "    <tr>\n",
       "      <th>247</th>\n",
       "      <td>o234</td>\n",
       "      <td>10441</td>\n",
       "      <td>2921</td>\n",
       "      <td>92</td>\n",
       "      <td>r90</td>\n",
       "      <td>116</td>\n",
       "      <td>8515</td>\n",
       "      <td>5778</td>\n",
       "      <td>3445.565991</td>\n",
       "      <td>8.069241</td>\n",
       "    </tr>\n",
       "    <tr>\n",
       "      <th>248</th>\n",
       "      <td>o239</td>\n",
       "      <td>5088</td>\n",
       "      <td>5063</td>\n",
       "      <td>715</td>\n",
       "      <td>r90</td>\n",
       "      <td>728</td>\n",
       "      <td>8515</td>\n",
       "      <td>5778</td>\n",
       "      <td>3500.793339</td>\n",
       "      <td>8.198579</td>\n",
       "    </tr>\n",
       "    <tr>\n",
       "      <th>249</th>\n",
       "      <td>o235</td>\n",
       "      <td>9093</td>\n",
       "      <td>4164</td>\n",
       "      <td>201</td>\n",
       "      <td>r91</td>\n",
       "      <td>202</td>\n",
       "      <td>8694</td>\n",
       "      <td>5518</td>\n",
       "      <td>1411.565443</td>\n",
       "      <td>3.305774</td>\n",
       "    </tr>\n",
       "    <tr>\n",
       "      <th>250</th>\n",
       "      <td>o249</td>\n",
       "      <td>7327</td>\n",
       "      <td>7640</td>\n",
       "      <td>610</td>\n",
       "      <td>r92</td>\n",
       "      <td>640</td>\n",
       "      <td>9344</td>\n",
       "      <td>5622</td>\n",
       "      <td>2853.175950</td>\n",
       "      <td>6.681911</td>\n",
       "    </tr>\n",
       "    <tr>\n",
       "      <th>251</th>\n",
       "      <td>o251</td>\n",
       "      <td>5424</td>\n",
       "      <td>5846</td>\n",
       "      <td>557</td>\n",
       "      <td>r93</td>\n",
       "      <td>568</td>\n",
       "      <td>4271</td>\n",
       "      <td>5055</td>\n",
       "      <td>1398.245329</td>\n",
       "      <td>3.274579</td>\n",
       "    </tr>\n",
       "  </tbody>\n",
       "</table>\n",
       "<p>252 rows × 10 columns</p>\n",
       "</div>"
      ],
      "text/plain": [
       "    order      x     y placement_time restaurant ready_time  restaurant_x  \\\n",
       "0      o1   8317  5587            743         r1        753          7818   \n",
       "1      o8   7202  4887            612         r1        622          7818   \n",
       "2     o21   6589  3457            336         r1        346          7818   \n",
       "3     o26   6302  5401            623         r1        633          7818   \n",
       "4     o38  10350  4937            594         r1        614          7818   \n",
       "..    ...    ...   ...            ...        ...        ...           ...   \n",
       "247  o234  10441  2921             92        r90        116          8515   \n",
       "248  o239   5088  5063            715        r90        728          8515   \n",
       "249  o235   9093  4164            201        r91        202          8694   \n",
       "250  o249   7327  7640            610        r92        640          9344   \n",
       "251  o251   5424  5846            557        r93        568          4271   \n",
       "\n",
       "     restaurant_y  euclidean_distance  time_taken_to_travel  \n",
       "0            3668         1982.816683              4.643599  \n",
       "1            3668         1365.802694              3.198601  \n",
       "2            3668         1246.981155              2.920331  \n",
       "3            3668         2302.508415              5.392291  \n",
       "4            3668         2832.204971              6.632799  \n",
       "..            ...                 ...                   ...  \n",
       "247          5778         3445.565991              8.069241  \n",
       "248          5778         3500.793339              8.198579  \n",
       "249          5518         1411.565443              3.305774  \n",
       "250          5622         2853.175950              6.681911  \n",
       "251          5055         1398.245329              3.274579  \n",
       "\n",
       "[252 rows x 10 columns]"
      ]
     },
     "execution_count": 143,
     "metadata": {},
     "output_type": "execute_result"
    }
   ],
   "source": [
    "order_restaurant"
   ]
  },
  {
   "cell_type": "code",
   "execution_count": 90,
   "metadata": {},
   "outputs": [],
   "source": [
    "# Heuristic - start from the nearest and continue "
   ]
  },
  {
   "cell_type": "code",
   "execution_count": 91,
   "metadata": {},
   "outputs": [
    {
     "ename": "SyntaxError",
     "evalue": "invalid syntax (4163469444.py, line 6)",
     "output_type": "error",
     "traceback": [
      "\u001b[1;36m  Input \u001b[1;32mIn [91]\u001b[1;36m\u001b[0m\n\u001b[1;33m    def check_valid(self, )\u001b[0m\n\u001b[1;37m                           ^\u001b[0m\n\u001b[1;31mSyntaxError\u001b[0m\u001b[1;31m:\u001b[0m invalid syntax\n"
     ]
    }
   ],
   "source": [
    "class plan_route:\n",
    "    def __init__(self, order_restaurant, couriers):\n",
    "        self.couriers = couriers \n",
    "        self.order_restaurant = order_restaurant\n",
    "    \n",
    "    def check_valid(self, )``"
   ]
  },
  {
   "cell_type": "code",
   "execution_count": null,
   "metadata": {},
   "outputs": [],
   "source": []
  }
 ],
 "metadata": {
  "kernelspec": {
   "display_name": "Python 3",
   "language": "python",
   "name": "python3"
  },
  "language_info": {
   "codemirror_mode": {
    "name": "ipython",
    "version": 3
   },
   "file_extension": ".py",
   "mimetype": "text/x-python",
   "name": "python",
   "nbconvert_exporter": "python",
   "pygments_lexer": "ipython3",
   "version": "3.9.13"
  },
  "orig_nbformat": 4,
  "vscode": {
   "interpreter": {
    "hash": "a2d2861141850217fd46eaa9dc85c9ecbff2e93ebbd2a6137c7da66416df5b9f"
   }
  }
 },
 "nbformat": 4,
 "nbformat_minor": 2
}
