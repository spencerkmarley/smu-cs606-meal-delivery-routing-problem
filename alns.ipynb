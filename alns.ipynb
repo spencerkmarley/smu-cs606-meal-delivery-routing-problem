{
 "cells": [
  {
   "cell_type": "code",
   "execution_count": 1,
   "metadata": {
    "collapsed": true
   },
   "outputs": [],
   "source": [
    "import copy\n",
    "\n",
    "import alns\n",
    "import numpy as np\n",
    "from functions.part1 import part1\n",
    "from classes.deliveryrouting import DeliveryRouting"
   ]
  },
  {
   "cell_type": "code",
   "execution_count": 2,
   "outputs": [],
   "source": [
    "instance_dir = \"data/0o50t75s1p100\"\n",
    "dr, final_result = part1(instance_dir)\n",
    "dr.final_result = final_result"
   ],
   "metadata": {
    "collapsed": false
   }
  },
  {
   "cell_type": "code",
   "execution_count": 12,
   "outputs": [],
   "source": [
    "def random_destroy(State : DeliveryRouting, rnd_state : np.random.seed = np.random.seed(42)):\n",
    "    destroyed = copy.deepcopy(State)\n",
    "\n",
    "    order_destroyed = np.random.choice(destroyed.orders)\n",
    "    destroyed.unassigned = order_destroyed\n",
    "\n",
    "\n",
    "    for time, routes in destroyed.final_result.items():\n",
    "        for route in routes:\n",
    "            for bundle in route:\n",
    "                if order_destroyed in bundle.bundle:\n",
    "                    bundle.bundle.remove(order_destroyed)\n",
    "                # if len(bundle.bundle) == 0:\n",
    "                #     route.remove(bundle)\n",
    "    return destroyed"
   ],
   "metadata": {
    "collapsed": false
   }
  },
  {
   "cell_type": "code",
   "execution_count": 27,
   "outputs": [],
   "source": [
    "def greedy_assign(State: DeliveryRouting):\n",
    "    repaired = copy.deepcopy(State)\n",
    "    destroyed_order = repaired.unassigned\n",
    "\n",
    "    min_time = 1e9\n",
    "    done = False\n",
    "    for time, routes in repaired.final_result.items():\n",
    "        for route in routes:\n",
    "            for bundle in route:\n",
    "                if destroyed_order.ready_time >= time:\n",
    "                    if len(bundle.bundle) > 0:\n",
    "                        if destroyed_order.restaurant_id == bundle.bundle[-1].restaurant_id:\n",
    "                            if bundle.get_route_cost(repaired.meters_per_minute, repaired.locations) < min_time:\n",
    "                                min_time = bundle.get_route_cost(repaired.meters_per_minute, repaired.locations)\n",
    "                                best_route = bundle\n",
    "                                done = True\n",
    "    if not done:\n",
    "        for time, routes in repaired.final_result.items():\n",
    "            for route in routes:\n",
    "                for bundle in route:\n",
    "                    if destroyed_order.ready_time >= time:\n",
    "                        if bundle.get_route_cost(repaired.meters_per_minute, repaired.locations) < min_time:\n",
    "                            min_time = bundle.get_route_cost(repaired.meters_per_minute, repaired.locations)\n",
    "                            best_route = bundle\n",
    "\n",
    "    best_route.bundle.append(destroyed_order)\n",
    "    return repaired\n"
   ],
   "metadata": {
    "collapsed": false
   }
  }
 ],
 "metadata": {
  "kernelspec": {
   "display_name": "Python 3",
   "language": "python",
   "name": "python3"
  },
  "language_info": {
   "codemirror_mode": {
    "name": "ipython",
    "version": 2
   },
   "file_extension": ".py",
   "mimetype": "text/x-python",
   "name": "python",
   "nbconvert_exporter": "python",
   "pygments_lexer": "ipython2",
   "version": "2.7.6"
  }
 },
 "nbformat": 4,
 "nbformat_minor": 0
}
