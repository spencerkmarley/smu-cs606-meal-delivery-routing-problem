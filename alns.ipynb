{
 "cells": [
  {
   "cell_type": "code",
   "execution_count": 8,
   "outputs": [],
   "source": [
    "import copy\n",
    "\n",
    "from alns import ALNS\n",
    "from alns.select import RouletteWheel\n",
    "from alns.stop import MaxRuntime\n",
    "from alns.accept import HillClimbing\n",
    "\n",
    "import numpy as np\n",
    "import pandas as pd\n",
    "from classes.deliveryrouting import DeliveryRouting"
   ],
   "metadata": {
    "collapsed": false
   }
  },
  {
   "cell_type": "code",
   "execution_count": 8,
   "outputs": [],
   "source": [],
   "metadata": {
    "collapsed": false
   }
  },
  {
   "cell_type": "code",
   "execution_count": 9,
   "outputs": [],
   "source": [
    "def random_destroy(State : DeliveryRouting, rnd_state : np.random.seed = np.random.seed(42)):\n",
    "    destroyed = copy.deepcopy(State)\n",
    "    destroyed.current_solution = copy.deepcopy(destroyed.final_result)\n",
    "\n",
    "    order_to_destroy = np.random.choice(destroyed.orders, 10)\n",
    "    destroyed.unassigned = order_to_destroy\n",
    "\n",
    "    mapping = []\n",
    "\n",
    "    for order_destroyed in order_to_destroy:\n",
    "        for time, routes in destroyed.final_result.items():\n",
    "            for route in routes:\n",
    "                for bundle in route:\n",
    "                    if order_destroyed in bundle.bundle:\n",
    "                        bundle.bundle.remove(order_destroyed)\n",
    "                        mapping.append(dict(time = time, order = order_destroyed))\n",
    "\n",
    "    destroyed.removed = mapping\n",
    "    return destroyed"
   ],
   "metadata": {
    "collapsed": false
   }
  },
  {
   "cell_type": "code",
   "execution_count": 10,
   "outputs": [],
   "source": [
    "def greedy_assign(State: DeliveryRouting, rnd_state : np.random.seed = np.random.seed(42)):\n",
    "    repaired = copy.deepcopy(State)\n",
    "    destroyed_order = repaired.unassigned\n",
    "\n",
    "    for i in repaired.removed:\n",
    "        time, destroyed_order = i.values()\n",
    "        source_restaurant_id = destroyed_order.restaurant_id\n",
    "\n",
    "        min_time = 1e9\n",
    "\n",
    "        routes = repaired.final_result[time]\n",
    "        for route in routes:\n",
    "            for bundle in route:\n",
    "                if len(bundle.bundle) > 0:\n",
    "                    restaurant_id = bundle.bundle[0].restaurant_id\n",
    "                    if restaurant_id == source_restaurant_id:\n",
    "                        for i in range(len(bundle.bundle)):\n",
    "                            temp_bundle = copy.deepcopy(bundle)\n",
    "                            temp_bundle.bundle.insert(i, destroyed_order)\n",
    "\n",
    "                            if temp_bundle.get_route_cost(repaired.meters_per_minute, repaired.locations) < min_time:\n",
    "                                min_time = temp_bundle.get_route_cost(repaired.meters_per_minute, repaired.locations)\n",
    "                                best_route = route.index(bundle)\n",
    "                                best_position = i\n",
    "                                best_routes = routes.index(route)\n",
    "                else:\n",
    "                    best_routes = routes.index(route)\n",
    "                    best_route = route.index(bundle)\n",
    "                    best_position = 0\n",
    "\n",
    "        to_check = repaired.final_result[time][best_routes][best_route]\n",
    "        to_check.bundle.insert(best_position, destroyed_order)\n",
    "\n",
    "    return repaired"
   ],
   "metadata": {
    "collapsed": false
   }
  },
  {
   "cell_type": "code",
   "execution_count": 11,
   "outputs": [],
   "source": [
    "import os\n",
    "import numpy.random as rnd"
   ],
   "metadata": {
    "collapsed": false
   }
  },
  {
   "cell_type": "code",
   "execution_count": 27,
   "outputs": [],
   "source": [
    "output = {}\n",
    "for file in os.listdir(\"data\"):\n",
    "    instance_dir = os.path.join(\"data\", file)\n",
    "    dr = DeliveryRouting(instance_dir)\n",
    "    dr.driver_code()\n",
    "    alns = ALNS(rnd.RandomState(42))\n",
    "    alns.add_destroy_operator(random_destroy)\n",
    "    alns.add_repair_operator(greedy_assign)\n",
    "\n",
    "    init = dr\n",
    "    select = RouletteWheel([8, 4, 2, 1], 0.8, 1, 1)\n",
    "    accept = HillClimbing()\n",
    "    stop = MaxRuntime(30)\n",
    "\n",
    "    result = alns.iterate(init, select, accept, stop)\n",
    "    output[file] = result.statistics.objectives"
   ],
   "metadata": {
    "collapsed": false
   }
  },
  {
   "cell_type": "code",
   "execution_count": 31,
   "outputs": [],
   "source": [
    "import json\n",
    "\n",
    "output_dup = copy.deepcopy(output)\n",
    "\n",
    "for k, v in output.items():\n",
    "    output[k] = list(v)\n",
    "\n",
    "with open(\"output.json\", \"w\") as f:\n",
    "    json.dump(output, f)"
   ],
   "metadata": {
    "collapsed": false
   }
  },
  {
   "cell_type": "code",
   "execution_count": 41,
   "outputs": [],
   "source": [
    "final = []\n",
    "for k, v in output.items():\n",
    "    final.append(dict(instance = k, cost_reduction = v[0] - np.min(v), cost = np.argmin(v)))"
   ],
   "metadata": {
    "collapsed": false
   }
  },
  {
   "cell_type": "code",
   "execution_count": 42,
   "outputs": [],
   "source": [
    "final_df = pd.DataFrame(final)"
   ],
   "metadata": {
    "collapsed": false
   }
  },
  {
   "cell_type": "code",
   "execution_count": 49,
   "outputs": [
    {
     "data": {
      "text/plain": "Empty DataFrame\nColumns: [instance, cost_reduction, cost]\nIndex: []",
      "text/html": "<div>\n<style scoped>\n    .dataframe tbody tr th:only-of-type {\n        vertical-align: middle;\n    }\n\n    .dataframe tbody tr th {\n        vertical-align: top;\n    }\n\n    .dataframe thead th {\n        text-align: right;\n    }\n</style>\n<table border=\"1\" class=\"dataframe\">\n  <thead>\n    <tr style=\"text-align: right;\">\n      <th></th>\n      <th>instance</th>\n      <th>cost_reduction</th>\n      <th>cost</th>\n    </tr>\n  </thead>\n  <tbody>\n  </tbody>\n</table>\n</div>"
     },
     "execution_count": 49,
     "metadata": {},
     "output_type": "execute_result"
    }
   ],
   "source": [
    "final_df[final_df['cost_reduction'] < 0]"
   ],
   "metadata": {
    "collapsed": false
   }
  },
  {
   "cell_type": "code",
   "execution_count": 53,
   "outputs": [
    {
     "data": {
      "text/plain": "Text(0.5, 0.98, 'Cost reduction for 30 seconds runtime')"
     },
     "execution_count": 53,
     "metadata": {},
     "output_type": "execute_result"
    },
    {
     "data": {
      "text/plain": "<Figure size 500x500 with 1 Axes>",
      "image/png": "[encoded data removed]"
     },
     "metadata": {},
     "output_type": "display_data"
    }
   ],
   "source": [
    "import seaborn as sns\n",
    "plot = sns.displot(data = final_df, x = 'cost_reduction')\n",
    "plot.fig.suptitle(\"Cost reduction for 30 seconds runtime\")"
   ],
   "metadata": {
    "collapsed": false
   }
  },
  {
   "cell_type": "code",
   "execution_count": 54,
   "outputs": [
    {
     "data": {
      "text/plain": "<Figure size 640x480 with 1 Axes>",
      "image/png": "[encoded data removed]"
     },
     "metadata": {},
     "output_type": "display_data"
    }
   ],
   "source": [
    "import seaborn as sns\n",
    "plot = sns.ecdfplot(data = final_df, x = 'cost_reduction').set_title(\"Cost reduction for 30 seconds runtime\")"
   ],
   "metadata": {
    "collapsed": false
   }
  },
  {
   "cell_type": "code",
   "execution_count": 57,
   "outputs": [
    {
     "data": {
      "text/plain": "           instance  cost_reduction  cost\n165  0o50t100s1p100          1114.0   361",
      "text/html": "<div>\n<style scoped>\n    .dataframe tbody tr th:only-of-type {\n        vertical-align: middle;\n    }\n\n    .dataframe tbody tr th {\n        vertical-align: top;\n    }\n\n    .dataframe thead th {\n        text-align: right;\n    }\n</style>\n<table border=\"1\" class=\"dataframe\">\n  <thead>\n    <tr style=\"text-align: right;\">\n      <th></th>\n      <th>instance</th>\n      <th>cost_reduction</th>\n      <th>cost</th>\n    </tr>\n  </thead>\n  <tbody>\n    <tr>\n      <th>165</th>\n      <td>0o50t100s1p100</td>\n      <td>1114.0</td>\n      <td>361</td>\n    </tr>\n  </tbody>\n</table>\n</div>"
     },
     "execution_count": 57,
     "metadata": {},
     "output_type": "execute_result"
    }
   ],
   "source": [
    "final_df[final_df['cost_reduction']==final_df['cost_reduction'].max()]"
   ],
   "metadata": {
    "collapsed": false
   }
  },
  {
   "cell_type": "code",
   "execution_count": null,
   "outputs": [],
   "source": [],
   "metadata": {
    "collapsed": false
   }
  }
 ],
 "metadata": {
  "kernelspec": {
   "display_name": "Python 3",
   "language": "python",
   "name": "python3"
  },
  "language_info": {
   "codemirror_mode": {
    "name": "ipython",
    "version": 2
   },
   "file_extension": ".py",
   "mimetype": "text/x-python",
   "name": "python",
   "nbconvert_exporter": "python",
   "pygments_lexer": "ipython2",
   "version": "2.7.6"
  }
 },
 "nbformat": 4,
 "nbformat_minor": 0
}
