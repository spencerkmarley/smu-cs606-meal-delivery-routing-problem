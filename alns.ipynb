{
 "cells": [
  {
   "cell_type": "code",
   "execution_count": 10,
   "metadata": {
    "collapsed": true
   },
   "outputs": [],
   "source": [
    "import copy\n",
    "\n",
    "import alns\n",
    "import numpy as np\n",
    "from functions.part1 import part1\n",
    "from classes.deliveryrouting import DeliveryRouting"
   ]
  },
  {
   "cell_type": "code",
   "execution_count": 11,
   "outputs": [],
   "source": [
    "instance_dir = \"data/0o50t75s1p100\"\n",
    "dr, final_result = part1(instance_dir)\n",
    "dr.final_result = final_result"
   ],
   "metadata": {
    "collapsed": false
   }
  },
  {
   "cell_type": "code",
   "execution_count": 12,
   "outputs": [],
   "source": [
    "def random_destroy(State : DeliveryRouting, rnd_state : np.random.seed = np.random.seed(42)):\n",
    "    destroyed = copy.deepcopy(State)\n",
    "\n",
    "    order_destroyed = np.random.choice(destroyed.orders)\n",
    "    destroyed.unassigned = order_destroyed\n",
    "\n",
    "\n",
    "    for time, routes in destroyed.final_result.items():\n",
    "        for route in routes:\n",
    "            for bundle in route:\n",
    "                if order_destroyed in bundle.bundle:\n",
    "                    bundle.bundle.remove(order_destroyed)\n",
    "\n",
    "    return destroyed"
   ],
   "metadata": {
    "collapsed": false
   }
  },
  {
   "cell_type": "code",
   "execution_count": 13,
   "outputs": [],
   "source": [
    "d = random_destroy(dr)"
   ],
   "metadata": {
    "collapsed": false
   }
  },
  {
   "cell_type": "code",
   "execution_count": null,
   "outputs": [],
   "source": [],
   "metadata": {
    "collapsed": false
   }
  }
 ],
 "metadata": {
  "kernelspec": {
   "display_name": "Python 3",
   "language": "python",
   "name": "python3"
  },
  "language_info": {
   "codemirror_mode": {
    "name": "ipython",
    "version": 2
   },
   "file_extension": ".py",
   "mimetype": "text/x-python",
   "name": "python",
   "nbconvert_exporter": "python",
   "pygments_lexer": "ipython2",
   "version": "2.7.6"
  }
 },
 "nbformat": 4,
 "nbformat_minor": 0
}
