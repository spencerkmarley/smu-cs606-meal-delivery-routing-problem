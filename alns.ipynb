{
 "cells": [
  {
   "cell_type": "code",
   "execution_count": 21,
   "metadata": {
    "collapsed": true
   },
   "outputs": [],
   "source": [
    "import copy\n",
    "\n",
    "from alns import ALNS\n",
    "from alns.select import RouletteWheel\n",
    "from alns.stop import MaxRuntime\n",
    "from alns.accept import RecordToRecordTravel\n",
    "\n",
    "import numpy as np\n",
    "from functions.part1 import part1\n",
    "from classes.deliveryrouting import DeliveryRouting"
   ]
  },
  {
   "cell_type": "code",
   "execution_count": 22,
   "outputs": [],
   "source": [
    "instance_dir = \"data/0o50t75s1p100\"\n",
    "dr = DeliveryRouting(instance_dir)\n",
    "dr.driver_code()"
   ],
   "metadata": {
    "collapsed": false
   }
  },
  {
   "cell_type": "code",
   "execution_count": 23,
   "outputs": [],
   "source": [
    "def random_destroy(State : DeliveryRouting, rnd_state : np.random.seed = np.random.seed(42)):\n",
    "    destroyed = copy.deepcopy(State)\n",
    "\n",
    "    order_destroyed = np.random.choice(destroyed.orders)\n",
    "    destroyed.unassigned = order_destroyed\n",
    "\n",
    "\n",
    "    for time, routes in destroyed.final_result.items():\n",
    "        for route in routes:\n",
    "            for bundle in route:\n",
    "                if order_destroyed in bundle.bundle:\n",
    "                    bundle.bundle.remove(order_destroyed)\n",
    "                # if len(bundle.bundle) == 0:\n",
    "                #     route.remove(bundle)\n",
    "    return destroyed"
   ],
   "metadata": {
    "collapsed": false
   }
  },
  {
   "cell_type": "code",
   "execution_count": 49,
   "outputs": [],
   "source": [
    "def greedy_assign(State: DeliveryRouting, rnd_state : np.random.seed = np.random.seed(42)):\n",
    "    repaired = copy.deepcopy(State)\n",
    "    destroyed_order = repaired.unassigned\n",
    "\n",
    "    min_time = 1e9\n",
    "    done = False\n",
    "    for time, routes in repaired.final_result.items():\n",
    "        for route in routes:\n",
    "            for bundle in route:\n",
    "                if destroyed_order.ready_time >= time:\n",
    "                    if len(bundle.bundle) > 0:\n",
    "                        if destroyed_order.restaurant_id == bundle.bundle[-1].restaurant_id:\n",
    "                            if bundle.get_route_cost(repaired.meters_per_minute, repaired.locations) < min_time:\n",
    "                                min_time = bundle.get_route_cost(repaired.meters_per_minute, repaired.locations)\n",
    "                                best_route = bundle\n",
    "                                done = True\n",
    "    if not done:\n",
    "        for time, routes in repaired.final_result.items():\n",
    "            for route in routes:\n",
    "                for bundle in route:\n",
    "                    if destroyed_order.ready_time >= time:\n",
    "                        if bundle.get_route_cost(repaired.meters_per_minute, repaired.locations) < min_time:\n",
    "                            min_time = bundle.get_route_cost(repaired.meters_per_minute, repaired.locations)\n",
    "                            best_route = bundle\n",
    "\n",
    "    print(destroyed_order.id)\n",
    "    best_route.bundle.append(destroyed_order)\n",
    "    return repaired\n"
   ],
   "metadata": {
    "collapsed": false
   }
  },
  {
   "cell_type": "code",
   "execution_count": 50,
   "outputs": [],
   "source": [
    "import numpy.random as rnd\n",
    "\n",
    "alns = ALNS(rnd.RandomState(42))\n",
    "alns.add_destroy_operator(random_destroy)\n",
    "alns.add_repair_operator(greedy_assign)"
   ],
   "metadata": {
    "collapsed": false
   }
  },
  {
   "cell_type": "code",
   "execution_count": 51,
   "outputs": [
    {
     "name": "stdout",
     "output_type": "stream",
     "text": [
      "o191\n",
      "o33\n",
      "o182\n",
      "o111\n",
      "o195\n",
      "o163\n",
      "o41\n",
      "o117\n",
      "o191\n",
      "o208\n",
      "o61\n",
      "o65\n",
      "o166\n",
      "o54\n",
      "o178\n",
      "o203\n",
      "o189\n",
      "o192\n",
      "o235\n",
      "o216\n",
      "o233\n",
      "o146\n",
      "o10\n",
      "o178\n",
      "o84\n",
      "o240\n",
      "o132\n",
      "o215\n",
      "o44\n",
      "o40\n",
      "o117\n",
      "o243\n",
      "o55\n",
      "o150\n",
      "o118\n",
      "o84\n",
      "o179\n",
      "o142\n",
      "o69\n",
      "o151\n",
      "o251\n",
      "o7\n",
      "o40\n",
      "o59\n",
      "o111\n",
      "o42\n",
      "o42\n",
      "o29\n",
      "o42\n",
      "o144\n",
      "o196\n",
      "o148\n",
      "o91\n",
      "o156\n",
      "o96\n",
      "o216\n",
      "o78\n",
      "o144\n",
      "o22\n",
      "o117\n",
      "o164\n",
      "o249\n",
      "o114\n"
     ]
    },
    {
     "ename": "KeyboardInterrupt",
     "evalue": "",
     "output_type": "error",
     "traceback": [
      "\u001B[0;31m---------------------------------------------------------------------------\u001B[0m",
      "\u001B[0;31mKeyboardInterrupt\u001B[0m                         Traceback (most recent call last)",
      "Cell \u001B[0;32mIn[51], line 6\u001B[0m\n\u001B[1;32m      3\u001B[0m accept \u001B[38;5;241m=\u001B[39m RecordToRecordTravel\u001B[38;5;241m.\u001B[39mautofit(init\u001B[38;5;241m.\u001B[39mobjective(), \u001B[38;5;241m0.02\u001B[39m, \u001B[38;5;241m0\u001B[39m, \u001B[38;5;241m9000\u001B[39m)\n\u001B[1;32m      4\u001B[0m stop \u001B[38;5;241m=\u001B[39m MaxRuntime(\u001B[38;5;241m10\u001B[39m)\n\u001B[0;32m----> 6\u001B[0m result \u001B[38;5;241m=\u001B[39m \u001B[43malns\u001B[49m\u001B[38;5;241;43m.\u001B[39;49m\u001B[43miterate\u001B[49m\u001B[43m(\u001B[49m\u001B[43minit\u001B[49m\u001B[43m,\u001B[49m\u001B[43m \u001B[49m\u001B[43mselect\u001B[49m\u001B[43m,\u001B[49m\u001B[43m \u001B[49m\u001B[43maccept\u001B[49m\u001B[43m,\u001B[49m\u001B[43m \u001B[49m\u001B[43mstop\u001B[49m\u001B[43m)\u001B[49m\n",
      "File \u001B[0;32m/Library/Frameworks/Python.framework/Versions/3.9/lib/python3.9/site-packages/alns/ALNS.py:211\u001B[0m, in \u001B[0;36mALNS.iterate\u001B[0;34m(self, initial_solution, op_select, accept, stop, **kwargs)\u001B[0m\n\u001B[1;32m    208\u001B[0m destroyed \u001B[38;5;241m=\u001B[39m d_operator(curr, \u001B[38;5;28mself\u001B[39m\u001B[38;5;241m.\u001B[39m_rnd_state, \u001B[38;5;241m*\u001B[39m\u001B[38;5;241m*\u001B[39mkwargs)\n\u001B[1;32m    209\u001B[0m cand \u001B[38;5;241m=\u001B[39m r_operator(destroyed, \u001B[38;5;28mself\u001B[39m\u001B[38;5;241m.\u001B[39m_rnd_state, \u001B[38;5;241m*\u001B[39m\u001B[38;5;241m*\u001B[39mkwargs)\n\u001B[0;32m--> 211\u001B[0m best, curr, outcome \u001B[38;5;241m=\u001B[39m \u001B[38;5;28;43mself\u001B[39;49m\u001B[38;5;241;43m.\u001B[39;49m\u001B[43m_eval_cand\u001B[49m\u001B[43m(\u001B[49m\n\u001B[1;32m    212\u001B[0m \u001B[43m    \u001B[49m\u001B[43maccept\u001B[49m\u001B[43m,\u001B[49m\u001B[43m \u001B[49m\u001B[43mbest\u001B[49m\u001B[43m,\u001B[49m\u001B[43m \u001B[49m\u001B[43mcurr\u001B[49m\u001B[43m,\u001B[49m\u001B[43m \u001B[49m\u001B[43mcand\u001B[49m\u001B[43m,\u001B[49m\u001B[43m \u001B[49m\u001B[38;5;241;43m*\u001B[39;49m\u001B[38;5;241;43m*\u001B[39;49m\u001B[43mkwargs\u001B[49m\n\u001B[1;32m    213\u001B[0m \u001B[43m\u001B[49m\u001B[43m)\u001B[49m\n\u001B[1;32m    215\u001B[0m op_select\u001B[38;5;241m.\u001B[39mupdate(cand, d_idx, r_idx, outcome)\n\u001B[1;32m    217\u001B[0m stats\u001B[38;5;241m.\u001B[39mcollect_objective(curr\u001B[38;5;241m.\u001B[39mobjective())\n",
      "File \u001B[0;32m/Library/Frameworks/Python.framework/Versions/3.9/lib/python3.9/site-packages/alns/ALNS.py:279\u001B[0m, in \u001B[0;36mALNS._eval_cand\u001B[0;34m(self, accept, best, curr, cand, **kwargs)\u001B[0m\n\u001B[1;32m    258\u001B[0m \u001B[38;5;28;01mdef\u001B[39;00m \u001B[38;5;21m_eval_cand\u001B[39m(\n\u001B[1;32m    259\u001B[0m     \u001B[38;5;28mself\u001B[39m,\n\u001B[1;32m    260\u001B[0m     accept: AcceptanceCriterion,\n\u001B[0;32m   (...)\u001B[0m\n\u001B[1;32m    264\u001B[0m     \u001B[38;5;241m*\u001B[39m\u001B[38;5;241m*\u001B[39mkwargs,\n\u001B[1;32m    265\u001B[0m ) \u001B[38;5;241m-\u001B[39m\u001B[38;5;241m>\u001B[39m Tuple[State, State, Outcome]:\n\u001B[1;32m    266\u001B[0m     \u001B[38;5;124;03m\"\"\"\u001B[39;00m\n\u001B[1;32m    267\u001B[0m \u001B[38;5;124;03m    Considers the candidate solution by comparing it against the best and\u001B[39;00m\n\u001B[1;32m    268\u001B[0m \u001B[38;5;124;03m    current solutions. Candidate solutions are accepted based on the\u001B[39;00m\n\u001B[0;32m   (...)\u001B[0m\n\u001B[1;32m    277\u001B[0m \u001B[38;5;124;03m        index.\u001B[39;00m\n\u001B[1;32m    278\u001B[0m \u001B[38;5;124;03m    \"\"\"\u001B[39;00m\n\u001B[0;32m--> 279\u001B[0m     outcome \u001B[38;5;241m=\u001B[39m \u001B[38;5;28;43mself\u001B[39;49m\u001B[38;5;241;43m.\u001B[39;49m\u001B[43m_determine_outcome\u001B[49m\u001B[43m(\u001B[49m\u001B[43maccept\u001B[49m\u001B[43m,\u001B[49m\u001B[43m \u001B[49m\u001B[43mbest\u001B[49m\u001B[43m,\u001B[49m\u001B[43m \u001B[49m\u001B[43mcurr\u001B[49m\u001B[43m,\u001B[49m\u001B[43m \u001B[49m\u001B[43mcand\u001B[49m\u001B[43m)\u001B[49m\n\u001B[1;32m    280\u001B[0m     func \u001B[38;5;241m=\u001B[39m \u001B[38;5;28mself\u001B[39m\u001B[38;5;241m.\u001B[39m_on_outcome\u001B[38;5;241m.\u001B[39mget(outcome)\n\u001B[1;32m    282\u001B[0m     \u001B[38;5;28;01mif\u001B[39;00m callable(func):\n",
      "File \u001B[0;32m/Library/Frameworks/Python.framework/Versions/3.9/lib/python3.9/site-packages/alns/ALNS.py:311\u001B[0m, in \u001B[0;36mALNS._determine_outcome\u001B[0;34m(self, accept, best, curr, cand)\u001B[0m\n\u001B[1;32m    308\u001B[0m     \u001B[38;5;28;01mif\u001B[39;00m cand\u001B[38;5;241m.\u001B[39mobjective() \u001B[38;5;241m<\u001B[39m curr\u001B[38;5;241m.\u001B[39mobjective():\n\u001B[1;32m    309\u001B[0m         outcome \u001B[38;5;241m=\u001B[39m Outcome\u001B[38;5;241m.\u001B[39mBETTER\n\u001B[0;32m--> 311\u001B[0m \u001B[38;5;28;01mif\u001B[39;00m cand\u001B[38;5;241m.\u001B[39mobjective() \u001B[38;5;241m<\u001B[39m \u001B[43mbest\u001B[49m\u001B[38;5;241;43m.\u001B[39;49m\u001B[43mobjective\u001B[49m\u001B[43m(\u001B[49m\u001B[43m)\u001B[49m:  \u001B[38;5;66;03m# candidate is new best\u001B[39;00m\n\u001B[1;32m    312\u001B[0m     logger\u001B[38;5;241m.\u001B[39minfo(\u001B[38;5;124mf\u001B[39m\u001B[38;5;124m\"\u001B[39m\u001B[38;5;124mNew best with objective \u001B[39m\u001B[38;5;132;01m{\u001B[39;00mcand\u001B[38;5;241m.\u001B[39mobjective()\u001B[38;5;132;01m:\u001B[39;00m\u001B[38;5;124m.2f\u001B[39m\u001B[38;5;132;01m}\u001B[39;00m\u001B[38;5;124m.\u001B[39m\u001B[38;5;124m\"\u001B[39m)\n\u001B[1;32m    313\u001B[0m     outcome \u001B[38;5;241m=\u001B[39m Outcome\u001B[38;5;241m.\u001B[39mBEST\n",
      "File \u001B[0;32m~/Desktop/CS606 Project/smu-cs606-meal-delivery-routing-problem/classes/deliveryrouting.py:248\u001B[0m, in \u001B[0;36mDeliveryRouting.objective\u001B[0;34m(self)\u001B[0m\n\u001B[1;32m    246\u001B[0m     \u001B[38;5;28;01mfor\u001B[39;00m route \u001B[38;5;129;01min\u001B[39;00m routes:\n\u001B[1;32m    247\u001B[0m         \u001B[38;5;28;01mfor\u001B[39;00m bundle \u001B[38;5;129;01min\u001B[39;00m route:\n\u001B[0;32m--> 248\u001B[0m             \u001B[38;5;28mself\u001B[39m\u001B[38;5;241m.\u001B[39mtotal_cost \u001B[38;5;241m+\u001B[39m\u001B[38;5;241m=\u001B[39m \u001B[43mbundle\u001B[49m\u001B[38;5;241;43m.\u001B[39;49m\u001B[43mget_route_cost\u001B[49m\u001B[43m(\u001B[49m\u001B[38;5;28;43mself\u001B[39;49m\u001B[38;5;241;43m.\u001B[39;49m\u001B[43mmeters_per_minute\u001B[49m\u001B[43m,\u001B[49m\u001B[38;5;28;43mself\u001B[39;49m\u001B[38;5;241;43m.\u001B[39;49m\u001B[43mlocations\u001B[49m\u001B[43m)\u001B[49m\n\u001B[1;32m    249\u001B[0m \u001B[38;5;28;01mreturn\u001B[39;00m \u001B[38;5;28mself\u001B[39m\u001B[38;5;241m.\u001B[39mtotal_cost\n",
      "File \u001B[0;32m~/Desktop/CS606 Project/smu-cs606-meal-delivery-routing-problem/classes/route.py:113\u001B[0m, in \u001B[0;36mRoute.get_route_cost\u001B[0;34m(self, meters_per_minute, locations)\u001B[0m\n\u001B[1;32m    108\u001B[0m \u001B[38;5;124;03m'''\u001B[39;00m\n\u001B[1;32m    109\u001B[0m \u001B[38;5;124;03mCalculate the route cost\u001B[39;00m\n\u001B[1;32m    110\u001B[0m \u001B[38;5;124;03m'''\u001B[39;00m\n\u001B[1;32m    112\u001B[0m \u001B[38;5;66;03m# route cost = total travel time + beta * total service delay + gamma * total service waiting\u001B[39;00m\n\u001B[0;32m--> 113\u001B[0m route_cost \u001B[38;5;241m=\u001B[39m \u001B[38;5;28;43mself\u001B[39;49m\u001B[38;5;241;43m.\u001B[39;49m\u001B[43mget_total_travel_time\u001B[49m\u001B[43m(\u001B[49m\u001B[43mmeters_per_minute\u001B[49m\u001B[43m,\u001B[49m\u001B[43m \u001B[49m\u001B[43mlocations\u001B[49m\u001B[43m)\u001B[49m \u001B[38;5;241m+\u001B[39m \u001B[38;5;28mself\u001B[39m\u001B[38;5;241m.\u001B[39mbeta \u001B[38;5;241m*\u001B[39m \u001B[38;5;28mself\u001B[39m\u001B[38;5;241m.\u001B[39mget_total_service_delay(meters_per_minute, locations) \u001B[38;5;241m+\u001B[39m \u001B[38;5;28mself\u001B[39m\u001B[38;5;241m.\u001B[39mgamma \u001B[38;5;241m*\u001B[39m \u001B[38;5;28mself\u001B[39m\u001B[38;5;241m.\u001B[39mget_total_service_waiting(meters_per_minute, locations)\n\u001B[1;32m    115\u001B[0m \u001B[38;5;28;01mreturn\u001B[39;00m route_cost\n",
      "File \u001B[0;32m~/Desktop/CS606 Project/smu-cs606-meal-delivery-routing-problem/classes/route.py:46\u001B[0m, in \u001B[0;36mRoute.get_total_travel_time\u001B[0;34m(self, meters_per_minute, locations)\u001B[0m\n\u001B[1;32m     43\u001B[0m total_travel_time \u001B[38;5;241m=\u001B[39m \u001B[38;5;241m0\u001B[39m \u001B[38;5;66;03m# initiate total travel time\u001B[39;00m\n\u001B[1;32m     45\u001B[0m \u001B[38;5;28;01mfor\u001B[39;00m i \u001B[38;5;129;01min\u001B[39;00m \u001B[38;5;28mrange\u001B[39m(\u001B[38;5;28mlen\u001B[39m(travel_points)\u001B[38;5;241m-\u001B[39m\u001B[38;5;241m1\u001B[39m): \u001B[38;5;66;03m# loop through all travel points except the first one\u001B[39;00m\n\u001B[0;32m---> 46\u001B[0m     total_travel_time \u001B[38;5;241m+\u001B[39m\u001B[38;5;241m=\u001B[39m \u001B[43mtravel_time\u001B[49m\u001B[43m(\u001B[49m\u001B[43mtravel_points\u001B[49m\u001B[43m[\u001B[49m\u001B[43mi\u001B[49m\u001B[43m]\u001B[49m\u001B[43m,\u001B[49m\u001B[43m \u001B[49m\u001B[43mtravel_points\u001B[49m\u001B[43m[\u001B[49m\u001B[43mi\u001B[49m\u001B[38;5;241;43m+\u001B[39;49m\u001B[38;5;241;43m1\u001B[39;49m\u001B[43m]\u001B[49m\u001B[43m,\u001B[49m\u001B[43m \u001B[49m\u001B[43mmeters_per_minute\u001B[49m\u001B[43m,\u001B[49m\u001B[43m \u001B[49m\u001B[43mlocations\u001B[49m\u001B[43m)\u001B[49m \u001B[38;5;66;03m# add the travel time between the current travel point and the next travel point to the total travel time\u001B[39;00m\n\u001B[1;32m     48\u001B[0m \u001B[38;5;28;01mreturn\u001B[39;00m total_travel_time\n",
      "File \u001B[0;32m~/Desktop/CS606 Project/smu-cs606-meal-delivery-routing-problem/functions/travel_time.py:19\u001B[0m, in \u001B[0;36mtravel_time\u001B[0;34m(origin_id, destination_id, meters_per_minute, locations)\u001B[0m\n\u001B[1;32m      4\u001B[0m \u001B[38;5;28;01mdef\u001B[39;00m \u001B[38;5;21mtravel_time\u001B[39m(origin_id : \u001B[38;5;28mstr\u001B[39m, destination_id : \u001B[38;5;28mstr\u001B[39m , meters_per_minute : \u001B[38;5;28mint\u001B[39m, locations : pd\u001B[38;5;241m.\u001B[39mDataFrame):\n\u001B[1;32m      5\u001B[0m     \u001B[38;5;124;03m\"\"\"\u001B[39;00m\n\u001B[1;32m      6\u001B[0m \u001B[38;5;124;03m    Calculate the travel time between two locations.\u001B[39;00m\n\u001B[1;32m      7\u001B[0m \u001B[38;5;124;03m    Args:\u001B[39;00m\n\u001B[0;32m   (...)\u001B[0m\n\u001B[1;32m     15\u001B[0m \u001B[38;5;124;03m    :param locations:\u001B[39;00m\n\u001B[1;32m     16\u001B[0m \u001B[38;5;124;03m    \"\"\"\u001B[39;00m\n\u001B[1;32m     18\u001B[0m     dist \u001B[38;5;241m=\u001B[39m np\u001B[38;5;241m.\u001B[39msqrt((locations\u001B[38;5;241m.\u001B[39mat[destination_id, \u001B[38;5;124m'\u001B[39m\u001B[38;5;124mx\u001B[39m\u001B[38;5;124m'\u001B[39m] \u001B[38;5;241m-\u001B[39m locations\u001B[38;5;241m.\u001B[39mat[origin_id, \u001B[38;5;124m'\u001B[39m\u001B[38;5;124mx\u001B[39m\u001B[38;5;124m'\u001B[39m])\u001B[38;5;241m*\u001B[39m\u001B[38;5;241m*\u001B[39m\u001B[38;5;241m2\u001B[39m\\\n\u001B[0;32m---> 19\u001B[0m                 \u001B[38;5;241m+\u001B[39m (locations\u001B[38;5;241m.\u001B[39mat[destination_id, \u001B[38;5;124m'\u001B[39m\u001B[38;5;124my\u001B[39m\u001B[38;5;124m'\u001B[39m] \u001B[38;5;241m-\u001B[39m \u001B[43mlocations\u001B[49m\u001B[38;5;241;43m.\u001B[39;49m\u001B[43mat\u001B[49m\u001B[43m[\u001B[49m\u001B[43morigin_id\u001B[49m\u001B[43m,\u001B[49m\u001B[43m \u001B[49m\u001B[38;5;124;43m'\u001B[39;49m\u001B[38;5;124;43my\u001B[39;49m\u001B[38;5;124;43m'\u001B[39;49m\u001B[43m]\u001B[49m)\u001B[38;5;241m*\u001B[39m\u001B[38;5;241m*\u001B[39m\u001B[38;5;241m2\u001B[39m) \u001B[38;5;66;03m# calculate the distance between the origin and the destination\u001B[39;00m\n\u001B[1;32m     21\u001B[0m     tt \u001B[38;5;241m=\u001B[39m np\u001B[38;5;241m.\u001B[39mceil(dist\u001B[38;5;241m/\u001B[39mmeters_per_minute) \u001B[38;5;66;03m# calculate the travel time between the origin and the destination\u001B[39;00m\n\u001B[1;32m     23\u001B[0m     \u001B[38;5;28;01mreturn\u001B[39;00m tt\n",
      "File \u001B[0;32m/Library/Frameworks/Python.framework/Versions/3.9/lib/python3.9/site-packages/pandas/core/indexing.py:2425\u001B[0m, in \u001B[0;36m_AtIndexer.__getitem__\u001B[0;34m(self, key)\u001B[0m\n\u001B[1;32m   2423\u001B[0m \u001B[38;5;28;01mdef\u001B[39;00m \u001B[38;5;21m__getitem__\u001B[39m(\u001B[38;5;28mself\u001B[39m, key):\n\u001B[0;32m-> 2425\u001B[0m     \u001B[38;5;28;01mif\u001B[39;00m \u001B[38;5;28;43mself\u001B[39;49m\u001B[38;5;241;43m.\u001B[39;49m\u001B[43mndim\u001B[49m \u001B[38;5;241m==\u001B[39m \u001B[38;5;241m2\u001B[39m \u001B[38;5;129;01mand\u001B[39;00m \u001B[38;5;129;01mnot\u001B[39;00m \u001B[38;5;28mself\u001B[39m\u001B[38;5;241m.\u001B[39m_axes_are_unique:\n\u001B[1;32m   2426\u001B[0m         \u001B[38;5;66;03m# GH#33041 fall back to .loc\u001B[39;00m\n\u001B[1;32m   2427\u001B[0m         \u001B[38;5;28;01mif\u001B[39;00m \u001B[38;5;129;01mnot\u001B[39;00m \u001B[38;5;28misinstance\u001B[39m(key, \u001B[38;5;28mtuple\u001B[39m) \u001B[38;5;129;01mor\u001B[39;00m \u001B[38;5;129;01mnot\u001B[39;00m \u001B[38;5;28mall\u001B[39m(is_scalar(x) \u001B[38;5;28;01mfor\u001B[39;00m x \u001B[38;5;129;01min\u001B[39;00m key):\n\u001B[1;32m   2428\u001B[0m             \u001B[38;5;28;01mraise\u001B[39;00m \u001B[38;5;167;01mValueError\u001B[39;00m(\u001B[38;5;124m\"\u001B[39m\u001B[38;5;124mInvalid call for scalar access (getting)!\u001B[39m\u001B[38;5;124m\"\u001B[39m)\n",
      "File \u001B[0;32m/Library/Frameworks/Python.framework/Versions/3.9/lib/python3.9/site-packages/pandas/_libs/indexing.pyx:23\u001B[0m, in \u001B[0;36mpandas._libs.indexing.NDFrameIndexerBase.ndim.__get__\u001B[0;34m()\u001B[0m\n",
      "File \u001B[0;32m/Library/Frameworks/Python.framework/Versions/3.9/lib/python3.9/site-packages/pandas/core/generic.py:664\u001B[0m, in \u001B[0;36mNDFrame.ndim\u001B[0;34m(self)\u001B[0m\n\u001B[1;32m    660\u001B[0m     \u001B[38;5;66;03m# we do it this way because if we have reversed axes, then\u001B[39;00m\n\u001B[1;32m    661\u001B[0m     \u001B[38;5;66;03m# the block manager shows then reversed\u001B[39;00m\n\u001B[1;32m    662\u001B[0m     \u001B[38;5;28;01mreturn\u001B[39;00m [\u001B[38;5;28mself\u001B[39m\u001B[38;5;241m.\u001B[39m_get_axis(a) \u001B[38;5;28;01mfor\u001B[39;00m a \u001B[38;5;129;01min\u001B[39;00m \u001B[38;5;28mself\u001B[39m\u001B[38;5;241m.\u001B[39m_AXIS_ORDERS]\n\u001B[0;32m--> 664\u001B[0m \u001B[38;5;129m@property\u001B[39m\n\u001B[1;32m    665\u001B[0m \u001B[38;5;28;01mdef\u001B[39;00m \u001B[38;5;21mndim\u001B[39m(\u001B[38;5;28mself\u001B[39m) \u001B[38;5;241m-\u001B[39m\u001B[38;5;241m>\u001B[39m \u001B[38;5;28mint\u001B[39m:\n\u001B[1;32m    666\u001B[0m     \u001B[38;5;124;03m\"\"\"\u001B[39;00m\n\u001B[1;32m    667\u001B[0m \u001B[38;5;124;03m    Return an int representing the number of axes / array dimensions.\u001B[39;00m\n\u001B[1;32m    668\u001B[0m \n\u001B[0;32m   (...)\u001B[0m\n\u001B[1;32m    683\u001B[0m \u001B[38;5;124;03m    2\u001B[39;00m\n\u001B[1;32m    684\u001B[0m \u001B[38;5;124;03m    \"\"\"\u001B[39;00m\n\u001B[1;32m    685\u001B[0m     \u001B[38;5;28;01mreturn\u001B[39;00m \u001B[38;5;28mself\u001B[39m\u001B[38;5;241m.\u001B[39m_mgr\u001B[38;5;241m.\u001B[39mndim\n",
      "\u001B[0;31mKeyboardInterrupt\u001B[0m: "
     ]
    }
   ],
   "source": [
    "init = dr\n",
    "select = RouletteWheel([25, 5, 1, 0], 0.8, 1, 1)\n",
    "accept = RecordToRecordTravel.autofit(init.objective(), 0.02, 0, 9000)\n",
    "stop = MaxRuntime(10)\n",
    "\n",
    "result = alns.iterate(init, select, accept, stop)"
   ],
   "metadata": {
    "collapsed": false
   }
  }
 ],
 "metadata": {
  "kernelspec": {
   "display_name": "Python 3",
   "language": "python",
   "name": "python3"
  },
  "language_info": {
   "codemirror_mode": {
    "name": "ipython",
    "version": 2
   },
   "file_extension": ".py",
   "mimetype": "text/x-python",
   "name": "python",
   "nbconvert_exporter": "python",
   "pygments_lexer": "ipython2",
   "version": "2.7.6"
  }
 },
 "nbformat": 4,
 "nbformat_minor": 0
}
