{
 "cells": [
  {
   "cell_type": "code",
   "execution_count": 11,
   "outputs": [],
   "source": [
    "import os, math, numpy as np"
   ],
   "metadata": {
    "collapsed": false
   }
  },
  {
   "cell_type": "code",
   "execution_count": 12,
   "outputs": [],
   "source": [
    "def get_distance(source: tuple, destination : tuple) -> float:\n",
    "    return ((source[1] - destination[1]) ** 2 + (source[0] - destination[0]) ** 2)**0.5"
   ],
   "metadata": {
    "collapsed": false
   }
  },
  {
   "cell_type": "code",
   "execution_count": 13,
   "outputs": [],
   "source": [
    "### Calculate travel time between two points: origin and destination\n",
    "def traveltime(origin_id,destination_id,meters_per_minute,locations):\n",
    "    dist=np.sqrt((locations.at[destination_id,'x']-locations.at[origin_id,'x'])**2\\\n",
    "                +(locations.at[destination_id,'y']-locations.at[origin_id,'y'])**2)\n",
    "    tt=np.ceil(dist/meters_per_minute)\n",
    "    return tt"
   ],
   "metadata": {
    "collapsed": false
   }
  },
  {
   "cell_type": "markdown",
   "metadata": {},
   "source": [
    "# Read in data instance\n",
    "A folder of data instance has 5 files: (1) couriers.txt, (2) instance_characteristics.txt, (3) instance_parameters.txt, (4) orders.txt, (5) restaurants.txt"
   ]
  },
  {
   "cell_type": "code",
   "execution_count": 14,
   "metadata": {},
   "outputs": [],
   "source": [
    "# Read instance information\n",
    "def read_instance_information(instance_dir):\n",
    "    orders=pd.read_table(os.path.join(instance_dir,'orders.txt'))\n",
    "    restaurants=pd.read_table(os.path.join(instance_dir,'restaurants.txt'))\n",
    "    couriers=pd.read_table(os.path.join(instance_dir,'couriers.txt'))\n",
    "    instanceparams=pd.read_table(os.path.join(instance_dir,'instance_parameters.txt'))\n",
    "\n",
    "    order_locations=pd.DataFrame(data=[orders.order,orders.x,orders.y]).transpose()\n",
    "    order_locations.columns=['id','x','y']\n",
    "    restaurant_locations=pd.DataFrame(data=[restaurants.restaurant,restaurants.x,restaurants.y]).transpose()\n",
    "    restaurant_locations.columns=['id','x','y']\n",
    "    courier_locations=pd.DataFrame(data=[couriers.courier,couriers.x,couriers.y]).transpose()\n",
    "    courier_locations.columns=['id','x','y']\n",
    "    locations=pd.concat([order_locations,restaurant_locations,courier_locations])\n",
    "    # locations.set_index('id',inplace=True)\n",
    "    #\n",
    "    # orders.set_index('order',inplace=True)\n",
    "    # couriers.set_index('courier',inplace=True)\n",
    "    # restaurants.set_index('restaurant',inplace=True)\n",
    "\n",
    "    meters_per_minute=instanceparams.at[0,'meters_per_minute']\n",
    "    pickup_service_minutes=instanceparams.at[0,'pickup service minutes']\n",
    "    dropoff_service_minutes=instanceparams.at[0,'dropoff service minutes']\n",
    "    target_click_to_door=instanceparams.at[0,'target click-to-door']\n",
    "    pay_per_order=instanceparams.at[0,'pay per order']\n",
    "    guaranteed_pay_per_hour=instanceparams.at[0,'guaranteed pay per hour']\n",
    "\n",
    "    return orders,restaurants,couriers,instanceparams,locations"
   ]
  },
  {
   "cell_type": "code",
   "execution_count": 15,
   "metadata": {},
   "outputs": [],
   "source": [
    "import pandas as pd\n",
    "instance_dir = 'data/0o50t75s1p100'\n",
    "orders,restaurants,couriers,instanceparams,locations=read_instance_information(instance_dir)"
   ]
  },
  {
   "cell_type": "markdown",
   "metadata": {},
   "source": [
    "# Set hyper-parameters:\n",
    "f∶ every f minutes solves a matching problem to prescribe the next pick-up and delivery assignment for each courier<br>\n",
    "t : optimization time<br>\n",
    "∆_(u): t+ ∆_(u ) is the assignment horizon<br>\n",
    "∆_(1); ∆_(2): to determine Z_(t)<br>\n",
    "beta: control the freshness in the construction of bundles\n",
    "gamma: control the click to door time in the construction of bundles\n"
   ]
  },
  {
   "cell_type": "code",
   "execution_count": 16,
   "metadata": {},
   "outputs": [],
   "source": [
    "# Accorting to default values in the paper\n",
    "f = 5\n",
    "delta_u = 10\n",
    "delta_1 = 10\n",
    "delta_2 = 10\n",
    "# Not find in the paper\n",
    "beta = 10 # should be tuned\n",
    "gamma = 10 # should be tuned"
   ]
  },
  {
   "cell_type": "markdown",
   "metadata": {},
   "source": [
    "# Procedure to initialize a solution"
   ]
  },
  {
   "cell_type": "markdown",
   "metadata": {},
   "source": [
    "**Function that return U(t,r)**<br>\n",
    "U(t,r) is the set of upcoming orders at restaurant r"
   ]
  },
  {
   "cell_type": "markdown",
   "metadata": {},
   "source": [
    "**Courier Object**"
   ]
  },
  {
   "cell_type": "code",
   "execution_count": 31,
   "outputs": [],
   "source": [
    "class Order:\n",
    "    def __init__(self, order_information : dict):\n",
    "\n",
    "        self.order_id = order_information.get('order')\n",
    "        self.destination = (order_information.get('x'), order_information.get('y'))\n",
    "        self.placement_time = order_information.get('placement_time')\n",
    "        self.restaurant_id = order_information.get('restaurant')\n",
    "        self.ready_time = order_information.get('ready_time')\n",
    "\n",
    "    def __repr__(self):\n",
    "        return \"order_id : {} destination : {} placement_time : {} restaurant_id : {} ready_time : {}\".format(\n",
    "            self.order_id, self.destination, self.placement_time, self.restaurant_id, self.ready_time\n",
    "        )\n"
   ],
   "metadata": {
    "collapsed": false
   }
  },
  {
   "cell_type": "code",
   "execution_count": 32,
   "metadata": {},
   "outputs": [],
   "source": [
    "class Courier(object):\n",
    "    def __init__(self, courier_information : dict, restaurant : dict):\n",
    "        self.courier = courier_information.get('courier')\n",
    "        self.x = courier_information.get('x')\n",
    "        self.y = courier_information.get('y')\n",
    "        self.on_time = courier_information.get('on_time')\n",
    "        self.off_time = courier_information.get('off_time')\n",
    "\n",
    "        # Update and derived along the way\n",
    "        self.travel = []\n",
    "        self.visited = []\n",
    "        self.orders = []\n",
    "        # self.next_available_time = # a dictionary containing restaurant as key and available time as value\n",
    "        self.current_position = (self.x, self.y)\n",
    "        self.current_restaurant = None\n",
    "        self.distance_travelled = 0\n",
    "        self.current_time = self.on_time\n",
    "        self.restaurant = restaurant\n",
    "\n",
    "    @staticmethod\n",
    "    def calculate_travel_time(source: tuple,\n",
    "                              restaurant:tuple,\n",
    "                              destination: tuple,\n",
    "                              meters_per_minute : float) -> float:\n",
    "\n",
    "        return get_distance(source, restaurant) / meters_per_minute + get_distance(restaurant, destination) / meters_per_minute\n",
    "\n",
    "   # check if the courier can take the order\n",
    "    def can_assign(self, order : Order) -> bool:\n",
    "        # if the ready time < courier's off time\n",
    "        if order.ready_time < self.on_time:\n",
    "            return False\n",
    "        if order.ready_time > self.off_time:\n",
    "            return False\n",
    "\n",
    "    # assign an order to courier\n",
    "    def assign_order(self, order: Order) -> bool:\n",
    "        # update available time for the next assignment\n",
    "        _, restaurant_x, restaurant_y = restaurants[restaurants['restaurant'] == order.restaurant].values[0]\n",
    "        if self.can_assign(order):\n",
    "            self.orders.append(order)\n",
    "            self.current_time += self.calculate_travel_time(self.current_position, (restaurant_x, restaurant_y), orders.destination)\n",
    "\n",
    "    def __repr__(self):\n",
    "        return \"courier_id : {} current_coord : {} on_time : {} off_time : {} current_time : {}\".format(\n",
    "            self.courier, (self.x, self.y), self.on_time, self.off_time, self.current_time\n",
    "        )"
   ]
  },
  {
   "cell_type": "code",
   "execution_count": 36,
   "outputs": [],
   "source": [
    "class DeliveryRouting:\n",
    "    def __init__(self, instance_dir : str, target_bundle_size : int = 5, f : int = 5, delta_u : int = 10):\n",
    "        self.target_bundle_size = target_bundle_size\n",
    "        self.delta_u = delta_u\n",
    "\n",
    "        orders, restaurants, couriers, instanceparams, locations = read_instance_information(instance_dir)\n",
    "\n",
    "        self.orders = [Order(order) for order in orders.to_dict(orient = 'records')]\n",
    "        self.orders = sorted(self.orders, key = lambda x: x.order_id)\n",
    "\n",
    "        self.restaurants = restaurants.to_dict(orient = 'records')\n",
    "        self.couriers = [Courier(courier, self.restaurants) for courier in couriers.to_dict(orient = 'records')]\n",
    "        self.unassigned_orders = self.orders.copy()\n",
    "\n",
    "        self.instance_params = instanceparams.to_dict(orient = 'records')[0]\n",
    "\n",
    "        self.meters_per_minute, self.pickup_service_minutes, self.dropoff_service_minutes, \\\n",
    "            self.target_click_to_door, self.maximum_click_to_door, self.pay_per_order,\\\n",
    "            self.guaranteed_pay_per_hour = self.instance_params.values()\n",
    "\n",
    "    def calculate_travel_time(self,\n",
    "                              source: tuple,\n",
    "                              restaurant:tuple,\n",
    "                              destination: tuple) -> float:\n",
    "\n",
    "        meters_per_minute = self.meters_per_minute\n",
    "        return get_distance(source, restaurant) / meters_per_minute + get_distance(restaurant, destination) / meters_per_minute\n",
    "\n",
    "    def can_arrive(self,\n",
    "                   source : tuple,\n",
    "                   restaurant : tuple,\n",
    "                   destination : tuple,\n",
    "                   current_time : float,\n",
    "                   ready_time : float):\n",
    "\n",
    "        travel_time = self.calculate_travel_time(source, restaurant, destination)\n",
    "\n",
    "        if current_time + travel_time <= ready_time:\n",
    "            return False\n",
    "        return True\n",
    "\n",
    "    def get_bundle_size(self, z : int) -> int :\n",
    "        # available = [courier for courier in self.couriers if courier.]\n",
    "        pass\n",
    "\n",
    "    def initial_bundle(self, t):\n",
    "        bundles = {}\n",
    "\n",
    "        for order in self.orders:\n",
    "            if order.ready_time <= t + self.delta_u and order.ready_time >= t:\n",
    "                if order.restaurant_id not in bundles():\n",
    "                    bundles[order.restaurant_id] = [order]\n",
    "                else:\n",
    "                    bundles[order.restaurant_id].append(order)\n",
    "\n",
    "        return bundles"
   ],
   "metadata": {
    "collapsed": false
   }
  },
  {
   "cell_type": "code",
   "execution_count": 37,
   "outputs": [],
   "source": [
    "instance_dir = 'data/0o50t75s1p100'\n",
    "dr = DeliveryRouting(instance_dir)"
   ],
   "metadata": {
    "collapsed": false
   }
  },
  {
   "cell_type": "code",
   "execution_count": 35,
   "outputs": [
    {
     "data": {
      "text/plain": "[order_id : o1 destination : (8317, 5587) placement_time : 743 restaurant_id : r1 ready_time : 753,\n order_id : o10 destination : (8918, 5918) placement_time : 563 restaurant_id : r9 ready_time : 593,\n order_id : o100 destination : (2116, 3455) placement_time : 540 restaurant_id : r39 ready_time : 544,\n order_id : o101 destination : (7985, 1932) placement_time : 635 restaurant_id : r53 ready_time : 655,\n order_id : o102 destination : (136, 2824) placement_time : 515 restaurant_id : r11 ready_time : 537,\n order_id : o103 destination : (5828, 3746) placement_time : 515 restaurant_id : r54 ready_time : 543,\n order_id : o104 destination : (5730, 5275) placement_time : 496 restaurant_id : r13 ready_time : 508,\n order_id : o105 destination : (10215, 4855) placement_time : 263 restaurant_id : r27 ready_time : 274,\n order_id : o106 destination : (8674, 7518) placement_time : 665 restaurant_id : r39 ready_time : 673,\n order_id : o107 destination : (7808, 7411) placement_time : 528 restaurant_id : r28 ready_time : 544,\n order_id : o108 destination : (6185, 5059) placement_time : 614 restaurant_id : r53 ready_time : 643,\n order_id : o109 destination : (5774, 4069) placement_time : 606 restaurant_id : r20 ready_time : 621,\n order_id : o11 destination : (2348, 4594) placement_time : 526 restaurant_id : r10 ready_time : 541,\n order_id : o110 destination : (10145, 5621) placement_time : 108 restaurant_id : r55 ready_time : 111,\n order_id : o111 destination : (2517, 3452) placement_time : 613 restaurant_id : r13 ready_time : 643,\n order_id : o112 destination : (3514, 2879) placement_time : 485 restaurant_id : r16 ready_time : 515,\n order_id : o113 destination : (2892, 5727) placement_time : 258 restaurant_id : r21 ready_time : 270,\n order_id : o114 destination : (9679, 5989) placement_time : 171 restaurant_id : r56 ready_time : 201,\n order_id : o115 destination : (10395, 6585) placement_time : 529 restaurant_id : r57 ready_time : 547,\n order_id : o116 destination : (5686, 6973) placement_time : 197 restaurant_id : r39 ready_time : 217,\n order_id : o117 destination : (8946, 4557) placement_time : 479 restaurant_id : r58 ready_time : 509,\n order_id : o118 destination : (5692, 6313) placement_time : 623 restaurant_id : r59 ready_time : 649,\n order_id : o119 destination : (8076, 8206) placement_time : 187 restaurant_id : r18 ready_time : 202,\n order_id : o12 destination : (8047, 6154) placement_time : 313 restaurant_id : r11 ready_time : 338,\n order_id : o120 destination : (3561, 5414) placement_time : 572 restaurant_id : r28 ready_time : 587,\n order_id : o121 destination : (5602, 3679) placement_time : 59 restaurant_id : r13 ready_time : 78,\n order_id : o122 destination : (9257, 7920) placement_time : 676 restaurant_id : r20 ready_time : 691,\n order_id : o123 destination : (6977, 3310) placement_time : 591 restaurant_id : r20 ready_time : 601,\n order_id : o124 destination : (2752, 3512) placement_time : 525 restaurant_id : r13 ready_time : 545,\n order_id : o125 destination : (7281, 2138) placement_time : 245 restaurant_id : r60 ready_time : 280,\n order_id : o126 destination : (10158, 5763) placement_time : 334 restaurant_id : r61 ready_time : 356,\n order_id : o127 destination : (4122, 5377) placement_time : 651 restaurant_id : r51 ready_time : 671,\n order_id : o128 destination : (5631, 2953) placement_time : 569 restaurant_id : r3 ready_time : 599,\n order_id : o129 destination : (6883, 6722) placement_time : 436 restaurant_id : r37 ready_time : 464,\n order_id : o13 destination : (8818, 6224) placement_time : 508 restaurant_id : r12 ready_time : 518,\n order_id : o130 destination : (8011, 5586) placement_time : 585 restaurant_id : r58 ready_time : 615,\n order_id : o131 destination : (7730, 2905) placement_time : 256 restaurant_id : r62 ready_time : 266,\n order_id : o132 destination : (8564, 6937) placement_time : 792 restaurant_id : r63 ready_time : 822,\n order_id : o133 destination : (7692, 6943) placement_time : 559 restaurant_id : r64 ready_time : 568,\n order_id : o134 destination : (6231, 7902) placement_time : 533 restaurant_id : r62 ready_time : 548,\n order_id : o135 destination : (7848, 4516) placement_time : 514 restaurant_id : r1 ready_time : 534,\n order_id : o136 destination : (6003, 4681) placement_time : 264 restaurant_id : r37 ready_time : 279,\n order_id : o137 destination : (8099, 6289) placement_time : 194 restaurant_id : r54 ready_time : 211,\n order_id : o138 destination : (7570, 4039) placement_time : 665 restaurant_id : r24 ready_time : 684,\n order_id : o139 destination : (5657, 5773) placement_time : 628 restaurant_id : r1 ready_time : 638,\n order_id : o14 destination : (877, 3210) placement_time : 455 restaurant_id : r13 ready_time : 463,\n order_id : o140 destination : (5775, 7724) placement_time : 497 restaurant_id : r21 ready_time : 506,\n order_id : o141 destination : (8447, 4967) placement_time : 550 restaurant_id : r15 ready_time : 556,\n order_id : o142 destination : (5311, 4453) placement_time : 708 restaurant_id : r13 ready_time : 723,\n order_id : o143 destination : (6980, 4928) placement_time : 208 restaurant_id : r65 ready_time : 238,\n order_id : o144 destination : (8392, 6788) placement_time : 610 restaurant_id : r1 ready_time : 620,\n order_id : o145 destination : (6936, 5412) placement_time : 630 restaurant_id : r66 ready_time : 646,\n order_id : o146 destination : (3695, 3690) placement_time : 13 restaurant_id : r54 ready_time : 28,\n order_id : o147 destination : (9715, 2123) placement_time : 554 restaurant_id : r3 ready_time : 584,\n order_id : o148 destination : (8860, 3792) placement_time : 117 restaurant_id : r1 ready_time : 127,\n order_id : o149 destination : (2791, 2607) placement_time : 225 restaurant_id : r53 ready_time : 253,\n order_id : o15 destination : (2962, 4896) placement_time : 646 restaurant_id : r14 ready_time : 666,\n order_id : o150 destination : (6219, 7188) placement_time : 660 restaurant_id : r59 ready_time : 665,\n order_id : o151 destination : (6532, 1827) placement_time : 710 restaurant_id : r1 ready_time : 720,\n order_id : o152 destination : (342, 2729) placement_time : 177 restaurant_id : r11 ready_time : 197,\n order_id : o153 destination : (7978, 4238) placement_time : 117 restaurant_id : r67 ready_time : 172,\n order_id : o154 destination : (7265, 7587) placement_time : 566 restaurant_id : r28 ready_time : 575,\n order_id : o155 destination : (3176, 5048) placement_time : 579 restaurant_id : r51 ready_time : 601,\n order_id : o156 destination : (6819, 3774) placement_time : 259 restaurant_id : r68 ready_time : 274,\n order_id : o157 destination : (5984, 5236) placement_time : 496 restaurant_id : r69 ready_time : 518,\n order_id : o158 destination : (8274, 2540) placement_time : 532 restaurant_id : r24 ready_time : 558,\n order_id : o159 destination : (10213, 5982) placement_time : 36 restaurant_id : r67 ready_time : 56,\n order_id : o16 destination : (7739, 5363) placement_time : 265 restaurant_id : r15 ready_time : 268,\n order_id : o160 destination : (7753, 2693) placement_time : 184 restaurant_id : r70 ready_time : 191,\n order_id : o161 destination : (8248, 3376) placement_time : 703 restaurant_id : r1 ready_time : 713,\n order_id : o162 destination : (8557, 6790) placement_time : 605 restaurant_id : r71 ready_time : 607,\n order_id : o163 destination : (4058, 2280) placement_time : 72 restaurant_id : r39 ready_time : 95,\n order_id : o164 destination : (8707, 3274) placement_time : 118 restaurant_id : r72 ready_time : 133,\n order_id : o165 destination : (8632, 1523) placement_time : 532 restaurant_id : r73 ready_time : 551,\n order_id : o166 destination : (10231, 4382) placement_time : 641 restaurant_id : r36 ready_time : 654,\n order_id : o167 destination : (10739, 3434) placement_time : 550 restaurant_id : r27 ready_time : 571,\n order_id : o168 destination : (5778, 2092) placement_time : 228 restaurant_id : r1 ready_time : 238,\n order_id : o169 destination : (8171, 5536) placement_time : 349 restaurant_id : r45 ready_time : 351,\n order_id : o17 destination : (8707, 5092) placement_time : 647 restaurant_id : r16 ready_time : 677,\n order_id : o170 destination : (8108, 4925) placement_time : 383 restaurant_id : r60 ready_time : 386,\n order_id : o171 destination : (7951, 3938) placement_time : 225 restaurant_id : r31 ready_time : 234,\n order_id : o172 destination : (10386, 4442) placement_time : 543 restaurant_id : r53 ready_time : 564,\n order_id : o173 destination : (9195, 2631) placement_time : 138 restaurant_id : r16 ready_time : 168,\n order_id : o174 destination : (5442, 4861) placement_time : 98 restaurant_id : r21 ready_time : 108,\n order_id : o175 destination : (6162, 5201) placement_time : 462 restaurant_id : r13 ready_time : 463,\n order_id : o176 destination : (10182, 1956) placement_time : 538 restaurant_id : r27 ready_time : 550,\n order_id : o177 destination : (7911, 4683) placement_time : 264 restaurant_id : r67 ready_time : 284,\n order_id : o178 destination : (8896, 8100) placement_time : 696 restaurant_id : r37 ready_time : 704,\n order_id : o179 destination : (6055, 2657) placement_time : 558 restaurant_id : r24 ready_time : 576,\n order_id : o18 destination : (7743, 4929) placement_time : 571 restaurant_id : r17 ready_time : 581,\n order_id : o180 destination : (3811, 3745) placement_time : 430 restaurant_id : r14 ready_time : 444,\n order_id : o181 destination : (8664, 2088) placement_time : 720 restaurant_id : r28 ready_time : 745,\n order_id : o182 destination : (5645, 7648) placement_time : 561 restaurant_id : r74 ready_time : 586,\n order_id : o183 destination : (9781, 3889) placement_time : 703 restaurant_id : r1 ready_time : 723,\n order_id : o184 destination : (6070, 4473) placement_time : 98 restaurant_id : r31 ready_time : 105,\n order_id : o185 destination : (5734, 7677) placement_time : 778 restaurant_id : r52 ready_time : 788,\n order_id : o186 destination : (7762, 7259) placement_time : 697 restaurant_id : r28 ready_time : 708,\n order_id : o187 destination : (9636, 7449) placement_time : 176 restaurant_id : r75 ready_time : 191,\n order_id : o188 destination : (8421, 4854) placement_time : 666 restaurant_id : r62 ready_time : 686,\n order_id : o189 destination : (4301, 5933) placement_time : 643 restaurant_id : r41 ready_time : 658,\n order_id : o19 destination : (5024, 5988) placement_time : 581 restaurant_id : r16 ready_time : 611,\n order_id : o190 destination : (6154, 3794) placement_time : 627 restaurant_id : r76 ready_time : 657,\n order_id : o191 destination : (9629, 3435) placement_time : 216 restaurant_id : r77 ready_time : 228,\n order_id : o192 destination : (7543, 6769) placement_time : 733 restaurant_id : r1 ready_time : 743,\n order_id : o193 destination : (5292, 4694) placement_time : 240 restaurant_id : r1 ready_time : 250,\n order_id : o194 destination : (8832, 6295) placement_time : 177 restaurant_id : r22 ready_time : 192,\n order_id : o195 destination : (5437, 5264) placement_time : 560 restaurant_id : r78 ready_time : 563,\n order_id : o196 destination : (7076, 4008) placement_time : 732 restaurant_id : r1 ready_time : 752,\n order_id : o197 destination : (9719, 6060) placement_time : 549 restaurant_id : r79 ready_time : 573,\n order_id : o198 destination : (10343, 5218) placement_time : 521 restaurant_id : r80 ready_time : 545,\n order_id : o199 destination : (8463, 5716) placement_time : 714 restaurant_id : r37 ready_time : 731,\n order_id : o2 destination : (8183, 4908) placement_time : 541 restaurant_id : r2 ready_time : 557,\n order_id : o20 destination : (4162, 5633) placement_time : 598 restaurant_id : r18 ready_time : 607,\n order_id : o200 destination : (6581, 8088) placement_time : 559 restaurant_id : r81 ready_time : 581,\n order_id : o201 destination : (5925, 4493) placement_time : 590 restaurant_id : r19 ready_time : 608,\n order_id : o202 destination : (5716, 1975) placement_time : 487 restaurant_id : r17 ready_time : 502,\n order_id : o203 destination : (10265, 6126) placement_time : 698 restaurant_id : r29 ready_time : 705,\n order_id : o204 destination : (9213, 3436) placement_time : 278 restaurant_id : r62 ready_time : 280,\n order_id : o205 destination : (5816, 4360) placement_time : 245 restaurant_id : r16 ready_time : 275,\n order_id : o206 destination : (8049, 7648) placement_time : 611 restaurant_id : r82 ready_time : 632,\n order_id : o207 destination : (9403, 6214) placement_time : 329 restaurant_id : r10 ready_time : 344,\n order_id : o208 destination : (9698, 2008) placement_time : 604 restaurant_id : r1 ready_time : 624,\n order_id : o209 destination : (5562, 6166) placement_time : 117 restaurant_id : r83 ready_time : 119,\n order_id : o21 destination : (6589, 3457) placement_time : 336 restaurant_id : r1 ready_time : 346,\n order_id : o210 destination : (8010, 2578) placement_time : 638 restaurant_id : r24 ready_time : 661,\n order_id : o211 destination : (4794, 3190) placement_time : 548 restaurant_id : r84 ready_time : 564,\n order_id : o212 destination : (6444, 3903) placement_time : 563 restaurant_id : r28 ready_time : 575,\n order_id : o213 destination : (9790, 6250) placement_time : 580 restaurant_id : r85 ready_time : 585,\n order_id : o214 destination : (5889, 4338) placement_time : 622 restaurant_id : r11 ready_time : 642,\n order_id : o215 destination : (4928, 3451) placement_time : 491 restaurant_id : r1 ready_time : 518,\n order_id : o216 destination : (3746, 3041) placement_time : 732 restaurant_id : r17 ready_time : 740,\n order_id : o217 destination : (3936, 3556) placement_time : 588 restaurant_id : r41 ready_time : 605,\n order_id : o218 destination : (9470, 4296) placement_time : 184 restaurant_id : r68 ready_time : 199,\n order_id : o219 destination : (7794, 7472) placement_time : 477 restaurant_id : r66 ready_time : 488,\n order_id : o22 destination : (1501, 4849) placement_time : 152 restaurant_id : r19 ready_time : 160,\n order_id : o220 destination : (6148, 1825) placement_time : 692 restaurant_id : r39 ready_time : 697,\n order_id : o221 destination : (8121, 4458) placement_time : 631 restaurant_id : r24 ready_time : 661,\n order_id : o222 destination : (8018, 7531) placement_time : 482 restaurant_id : r15 ready_time : 487,\n order_id : o223 destination : (6961, 7424) placement_time : 220 restaurant_id : r86 ready_time : 250,\n order_id : o224 destination : (5773, 5394) placement_time : 238 restaurant_id : r87 ready_time : 268,\n order_id : o225 destination : (2806, 4449) placement_time : 568 restaurant_id : r88 ready_time : 577,\n order_id : o226 destination : (7601, 5739) placement_time : 102 restaurant_id : r1 ready_time : 112,\n order_id : o227 destination : (9334, 6307) placement_time : 33 restaurant_id : r39 ready_time : 48,\n order_id : o228 destination : (6755, 4593) placement_time : 633 restaurant_id : r85 ready_time : 643,\n order_id : o229 destination : (2175, 5510) placement_time : 108 restaurant_id : r11 ready_time : 142,\n order_id : o23 destination : (10362, 4452) placement_time : 572 restaurant_id : r7 ready_time : 584,\n order_id : o230 destination : (9040, 5326) placement_time : 669 restaurant_id : r15 ready_time : 673,\n order_id : o231 destination : (5430, 4981) placement_time : 784 restaurant_id : r14 ready_time : 802,\n order_id : o232 destination : (7776, 5710) placement_time : 697 restaurant_id : r89 ready_time : 724,\n order_id : o233 destination : (9838, 6961) placement_time : 564 restaurant_id : r22 ready_time : 587,\n order_id : o234 destination : (10441, 2921) placement_time : 92 restaurant_id : r90 ready_time : 116,\n order_id : o235 destination : (9093, 4164) placement_time : 201 restaurant_id : r91 ready_time : 202,\n order_id : o236 destination : (5102, 6712) placement_time : 518 restaurant_id : r18 ready_time : 528,\n order_id : o237 destination : (4991, 4740) placement_time : 500 restaurant_id : r1 ready_time : 518,\n order_id : o238 destination : (5826, 4830) placement_time : 176 restaurant_id : r31 ready_time : 215,\n order_id : o239 destination : (5088, 5063) placement_time : 715 restaurant_id : r90 ready_time : 728,\n order_id : o24 destination : (9737, 4771) placement_time : 563 restaurant_id : r2 ready_time : 572,\n order_id : o240 destination : (9386, 5834) placement_time : 29 restaurant_id : r67 ready_time : 46,\n order_id : o241 destination : (6598, 6103) placement_time : 570 restaurant_id : r3 ready_time : 600,\n order_id : o242 destination : (8491, 4705) placement_time : 236 restaurant_id : r53 ready_time : 259,\n order_id : o243 destination : (7235, 7870) placement_time : 516 restaurant_id : r20 ready_time : 536,\n order_id : o244 destination : (5947, 4840) placement_time : 592 restaurant_id : r9 ready_time : 612,\n order_id : o245 destination : (7397, 4703) placement_time : 152 restaurant_id : r1 ready_time : 162,\n order_id : o246 destination : (8415, 6145) placement_time : 486 restaurant_id : r1 ready_time : 506,\n order_id : o247 destination : (10295, 3243) placement_time : 455 restaurant_id : r22 ready_time : 469,\n order_id : o248 destination : (10538, 6376) placement_time : 698 restaurant_id : r28 ready_time : 709,\n order_id : o249 destination : (7327, 7640) placement_time : 610 restaurant_id : r92 ready_time : 640,\n order_id : o25 destination : (8302, 6825) placement_time : 625 restaurant_id : r20 ready_time : 656,\n order_id : o250 destination : (7043, 7568) placement_time : 498 restaurant_id : r14 ready_time : 541,\n order_id : o251 destination : (5424, 5846) placement_time : 557 restaurant_id : r93 ready_time : 568,\n order_id : o252 destination : (9258, 5960) placement_time : 578 restaurant_id : r2 ready_time : 589,\n order_id : o26 destination : (6302, 5401) placement_time : 623 restaurant_id : r1 ready_time : 633,\n order_id : o27 destination : (8734, 6577) placement_time : 202 restaurant_id : r21 ready_time : 208,\n order_id : o28 destination : (7198, 3422) placement_time : 621 restaurant_id : r22 ready_time : 642,\n order_id : o29 destination : (7033, 5401) placement_time : 535 restaurant_id : r23 ready_time : 552,\n order_id : o3 destination : (4953, 5140) placement_time : 626 restaurant_id : r3 ready_time : 656,\n order_id : o30 destination : (7389, 2151) placement_time : 614 restaurant_id : r24 ready_time : 630,\n order_id : o31 destination : (8141, 2835) placement_time : 266 restaurant_id : r25 ready_time : 274,\n order_id : o32 destination : (8723, 6146) placement_time : 588 restaurant_id : r26 ready_time : 615,\n order_id : o33 destination : (7368, 5040) placement_time : 643 restaurant_id : r27 ready_time : 667,\n order_id : o34 destination : (8825, 6364) placement_time : 506 restaurant_id : r28 ready_time : 514,\n order_id : o35 destination : (8365, 6387) placement_time : 763 restaurant_id : r29 ready_time : 788,\n order_id : o36 destination : (7859, 4087) placement_time : 421 restaurant_id : r30 ready_time : 426,\n order_id : o37 destination : (8224, 6698) placement_time : 458 restaurant_id : r7 ready_time : 473,\n order_id : o38 destination : (10350, 4937) placement_time : 594 restaurant_id : r1 ready_time : 614,\n order_id : o39 destination : (8313, 6109) placement_time : 603 restaurant_id : r26 ready_time : 615,\n order_id : o4 destination : (5268, 3678) placement_time : 566 restaurant_id : r4 ready_time : 582,\n order_id : o40 destination : (7647, 5832) placement_time : 137 restaurant_id : r31 ready_time : 147,\n order_id : o41 destination : (8305, 2148) placement_time : 620 restaurant_id : r32 ready_time : 638,\n order_id : o42 destination : (8307, 4031) placement_time : 146 restaurant_id : r31 ready_time : 162,\n order_id : o43 destination : (9093, 6324) placement_time : 137 restaurant_id : r33 ready_time : 144,\n order_id : o44 destination : (8394, 5513) placement_time : 564 restaurant_id : r1 ready_time : 584,\n order_id : o45 destination : (4112, 5063) placement_time : 446 restaurant_id : r34 ready_time : 451,\n order_id : o46 destination : (8247, 5577) placement_time : 306 restaurant_id : r35 ready_time : 329,\n order_id : o47 destination : (10353, 2584) placement_time : 562 restaurant_id : r25 ready_time : 566,\n order_id : o48 destination : (5006, 5110) placement_time : 659 restaurant_id : r36 ready_time : 674,\n order_id : o49 destination : (843, 3561) placement_time : 199 restaurant_id : r11 ready_time : 230,\n order_id : o5 destination : (6245, 3071) placement_time : 574 restaurant_id : r5 ready_time : 582,\n order_id : o50 destination : (7541, 2351) placement_time : 494 restaurant_id : r30 ready_time : 502,\n order_id : o51 destination : (6889, 4139) placement_time : 493 restaurant_id : r1 ready_time : 503,\n order_id : o52 destination : (3282, 4716) placement_time : 563 restaurant_id : r13 ready_time : 583,\n order_id : o53 destination : (5484, 3815) placement_time : 255 restaurant_id : r30 ready_time : 261,\n order_id : o54 destination : (7481, 6086) placement_time : 740 restaurant_id : r1 ready_time : 750,\n order_id : o55 destination : (9489, 6394) placement_time : 102 restaurant_id : r37 ready_time : 117,\n order_id : o56 destination : (0, 4727) placement_time : 421 restaurant_id : r11 ready_time : 441,\n order_id : o57 destination : (7925, 2143) placement_time : 537 restaurant_id : r24 ready_time : 558,\n order_id : o58 destination : (1825, 5189) placement_time : 640 restaurant_id : r38 ready_time : 650,\n order_id : o59 destination : (9247, 3148) placement_time : 645 restaurant_id : r24 ready_time : 671,\n order_id : o6 destination : (10134, 5226) placement_time : 131 restaurant_id : r6 ready_time : 144,\n order_id : o60 destination : (5815, 2407) placement_time : 539 restaurant_id : r19 ready_time : 554,\n order_id : o61 destination : (7439, 7715) placement_time : 542 restaurant_id : r39 ready_time : 556,\n order_id : o62 destination : (9573, 2279) placement_time : 595 restaurant_id : r30 ready_time : 606,\n order_id : o63 destination : (6306, 7313) placement_time : 486 restaurant_id : r21 ready_time : 503,\n order_id : o64 destination : (10764, 5643) placement_time : 547 restaurant_id : r40 ready_time : 572,\n order_id : o65 destination : (5484, 3922) placement_time : 555 restaurant_id : r19 ready_time : 576,\n order_id : o66 destination : (3820, 5225) placement_time : 198 restaurant_id : r5 ready_time : 203,\n order_id : o67 destination : (8904, 5390) placement_time : 619 restaurant_id : r41 ready_time : 633,\n order_id : o68 destination : (4034, 2965) placement_time : 631 restaurant_id : r1 ready_time : 641,\n order_id : o69 destination : (9224, 4678) placement_time : 680 restaurant_id : r1 ready_time : 700,\n order_id : o7 destination : (3222, 5142) placement_time : 588 restaurant_id : r7 ready_time : 598,\n order_id : o70 destination : (9761, 2994) placement_time : 188 restaurant_id : r42 ready_time : 218,\n order_id : o71 destination : (2290, 4876) placement_time : 227 restaurant_id : r43 ready_time : 256,\n order_id : o72 destination : (3967, 4665) placement_time : 584 restaurant_id : r4 ready_time : 599,\n order_id : o73 destination : (9200, 7079) placement_time : 480 restaurant_id : r44 ready_time : 483,\n order_id : o74 destination : (9135, 5110) placement_time : 506 restaurant_id : r14 ready_time : 541,\n order_id : o75 destination : (7333, 6375) placement_time : 210 restaurant_id : r21 ready_time : 219,\n order_id : o76 destination : (8280, 6521) placement_time : 93 restaurant_id : r3 ready_time : 123,\n order_id : o77 destination : (7946, 3390) placement_time : 652 restaurant_id : r45 ready_time : 679,\n order_id : o78 destination : (2219, 4739) placement_time : 181 restaurant_id : r46 ready_time : 211,\n order_id : o79 destination : (8098, 6185) placement_time : 197 restaurant_id : r47 ready_time : 211,\n order_id : o8 destination : (7202, 4887) placement_time : 612 restaurant_id : r1 ready_time : 622,\n order_id : o80 destination : (8741, 5157) placement_time : 610 restaurant_id : r3 ready_time : 640,\n order_id : o81 destination : (8366, 6166) placement_time : 776 restaurant_id : r1 ready_time : 786,\n order_id : o82 destination : (8101, 3244) placement_time : 646 restaurant_id : r48 ready_time : 657,\n order_id : o83 destination : (4924, 2863) placement_time : 520 restaurant_id : r13 ready_time : 536,\n order_id : o84 destination : (7191, 2840) placement_time : 549 restaurant_id : r20 ready_time : 554,\n order_id : o85 destination : (9112, 3230) placement_time : 493 restaurant_id : r28 ready_time : 503,\n order_id : o86 destination : (8068, 6600) placement_time : 383 restaurant_id : r49 ready_time : 390,\n order_id : o87 destination : (9021, 6101) placement_time : 296 restaurant_id : r1 ready_time : 306,\n order_id : o88 destination : (7860, 2193) placement_time : 269 restaurant_id : r47 ready_time : 284,\n order_id : o89 destination : (7663, 2842) placement_time : 24 restaurant_id : r50 ready_time : 29,\n order_id : o9 destination : (8421, 4162) placement_time : 680 restaurant_id : r8 ready_time : 700,\n order_id : o90 destination : (5827, 4975) placement_time : 614 restaurant_id : r28 ready_time : 624,\n order_id : o91 destination : (8705, 7744) placement_time : 616 restaurant_id : r7 ready_time : 627,\n order_id : o92 destination : (10111, 5076) placement_time : 774 restaurant_id : r28 ready_time : 790,\n order_id : o93 destination : (5483, 4716) placement_time : 168 restaurant_id : r37 ready_time : 173,\n order_id : o94 destination : (9271, 7058) placement_time : 261 restaurant_id : r44 ready_time : 263,\n order_id : o95 destination : (9250, 5022) placement_time : 584 restaurant_id : r28 ready_time : 600,\n order_id : o96 destination : (10848, 3623) placement_time : 541 restaurant_id : r1 ready_time : 561,\n order_id : o97 destination : (5268, 7499) placement_time : 644 restaurant_id : r51 ready_time : 664,\n order_id : o98 destination : (7218, 5120) placement_time : 503 restaurant_id : r11 ready_time : 530,\n order_id : o99 destination : (9524, 6276) placement_time : 756 restaurant_id : r52 ready_time : 774]"
     },
     "execution_count": 35,
     "metadata": {},
     "output_type": "execute_result"
    }
   ],
   "source": [
    "dr.unassigned_orders"
   ],
   "metadata": {
    "collapsed": false
   }
  },
  {
   "cell_type": "markdown",
   "metadata": {},
   "source": [
    "**Funtion that calculate bundel size Z(t)**"
   ]
  },
  {
   "cell_type": "code",
   "execution_count": null,
   "metadata": {},
   "outputs": [],
   "source": [
    "def get_bundel_size():\n",
    "    ..."
   ]
  },
  {
   "cell_type": "markdown",
   "metadata": {},
   "source": [
    "**Function that calculate k(r,t)**<br>\n",
    "k(r,t) is the number of couriers who are available at restaurant r"
   ]
  },
  {
   "cell_type": "code",
   "execution_count": null,
   "metadata": {},
   "outputs": [],
   "source": [
    "def get_available_courier(t,r):\n",
    "    ..."
   ]
  },
  {
   "cell_type": "markdown",
   "metadata": {},
   "source": [
    "**Route object**<br>\n",
    "A route is a bundle,i.e: a list of ordered orders"
   ]
  },
  {
   "cell_type": "code",
   "execution_count": null,
   "metadata": {},
   "outputs": [],
   "source": [
    "class Route(object):\n",
    "    def __init__:\n",
    "    \n",
    "    # calculate total travel time from 1st destination to the last destination of the route\n",
    "    def total_travel_time():\n",
    "\n",
    "    # calculate total service delay    \n",
    "    def total_service_delay():\n",
    "        #<to be discuss>\n",
    "\n",
    "    # calculate total_click_to_door \n",
    "    def total_click_to_door():\n",
    "        #<to be discuss>\n",
    "\n",
    "    # calculate route efficiency: travel time per order:\n",
    "    def route_efficiency():\n",
    "\n",
    "    # calculate route cost\n",
    "    def route_cost():\n",
    "        #route_cost = total_travel_time + beta*total_service_delay + gamma*total_click_to_door\n"
   ]
  },
  {
   "cell_type": "markdown",
   "metadata": {},
   "source": [
    "# Implement procedure 1"
   ]
  },
  {
   "cell_type": "code",
   "execution_count": null,
   "metadata": {},
   "outputs": [],
   "source": []
  }
 ],
 "metadata": {
  "kernelspec": {
   "display_name": "Python 3.9.6 64-bit",
   "language": "python",
   "name": "python3"
  },
  "language_info": {
   "codemirror_mode": {
    "name": "ipython",
    "version": 3
   },
   "file_extension": ".py",
   "mimetype": "text/x-python",
   "name": "python",
   "nbconvert_exporter": "python",
   "pygments_lexer": "ipython3",
   "version": "3.9.6"
  },
  "orig_nbformat": 4,
  "vscode": {
   "interpreter": {
    "hash": "aee8b7b246df8f9039afb4144a1f6fd8d2ca17a180786b69acc140d282b71a49"
   }
  }
 },
 "nbformat": 4,
 "nbformat_minor": 2
}
