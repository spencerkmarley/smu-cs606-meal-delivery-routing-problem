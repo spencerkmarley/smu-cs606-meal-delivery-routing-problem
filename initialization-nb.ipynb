{
 "cells": [
  {
   "cell_type": "code",
   "execution_count": 801,
   "outputs": [],
   "source": [
    "import os, math, numpy as np\n",
    "from copy import deepcopy"
   ],
   "metadata": {
    "collapsed": false
   }
  },
  {
   "cell_type": "code",
   "execution_count": 802,
   "outputs": [],
   "source": [
    "def get_travel_time(source: tuple, destination : tuple) -> float:\n",
    "    return math.dist(source, destination) / 427"
   ],
   "metadata": {
    "collapsed": false
   }
  },
  {
   "cell_type": "code",
   "execution_count": 803,
   "outputs": [],
   "source": [
    "### Calculate travel time between two points: origin and destination\n",
    "def traveltime(origin_id,destination_id,meters_per_minute,locations):\n",
    "    dist=np.sqrt((locations.at[destination_id,'x']-locations.at[origin_id,'x'])**2\\\n",
    "                +(locations.at[destination_id,'y']-locations.at[origin_id,'y'])**2)\n",
    "    tt=np.ceil(dist/meters_per_minute)\n",
    "    return tt"
   ],
   "metadata": {
    "collapsed": false
   }
  },
  {
   "cell_type": "markdown",
   "metadata": {},
   "source": [
    "# Read in data instance\n",
    "A folder of data instance has 5 files: (1) couriers.txt, (2) instance_characteristics.txt, (3) instance_parameters.txt, (4) orders.txt, (5) restaurants.txt"
   ]
  },
  {
   "cell_type": "code",
   "execution_count": 804,
   "metadata": {},
   "outputs": [],
   "source": [
    "# Read instance information\n",
    "def read_instance_information(instance_dir):\n",
    "    orders=pd.read_table(os.path.join(instance_dir,'orders.txt'))\n",
    "    restaurants=pd.read_table(os.path.join(instance_dir,'restaurants.txt'))\n",
    "    couriers=pd.read_table(os.path.join(instance_dir,'couriers.txt'))\n",
    "    instanceparams=pd.read_table(os.path.join(instance_dir,'instance_parameters.txt'))\n",
    "\n",
    "    order_locations=pd.DataFrame(data=[orders.order,orders.x,orders.y]).transpose()\n",
    "    order_locations.columns=['id','x','y']\n",
    "    restaurant_locations=pd.DataFrame(data=[restaurants.restaurant,restaurants.x,restaurants.y]).transpose()\n",
    "    restaurant_locations.columns=['id','x','y']\n",
    "    courier_locations=pd.DataFrame(data=[couriers.courier,couriers.x,couriers.y]).transpose()\n",
    "    courier_locations.columns=['id','x','y']\n",
    "    locations=pd.concat([order_locations,restaurant_locations,courier_locations])\n",
    "    # locations.set_index('id',inplace=True)\n",
    "    #\n",
    "    # orders.set_index('order',inplace=True)\n",
    "    # couriers.set_index('courier',inplace=True)\n",
    "    # restaurants.set_index('restaurant',inplace=True)\n",
    "\n",
    "    meters_per_minute=instanceparams.at[0,'meters_per_minute']\n",
    "    pickup_service_minutes=instanceparams.at[0,'pickup service minutes']\n",
    "    dropoff_service_minutes=instanceparams.at[0,'dropoff service minutes']\n",
    "    target_click_to_door=instanceparams.at[0,'target click-to-door']\n",
    "    pay_per_order=instanceparams.at[0,'pay per order']\n",
    "    guaranteed_pay_per_hour=instanceparams.at[0,'guaranteed pay per hour']\n",
    "\n",
    "    return orders,restaurants,couriers,instanceparams,locations"
   ]
  },
  {
   "cell_type": "code",
   "execution_count": 805,
   "metadata": {},
   "outputs": [],
   "source": [
    "import pandas as pd\n",
    "instance_dir = 'data/0o50t75s1p100'\n",
    "orders,restaurants,couriers,instanceparams,locations=read_instance_information(instance_dir)"
   ]
  },
  {
   "cell_type": "markdown",
   "metadata": {},
   "source": [
    "# Set hyper-parameters:\n",
    "f∶ every f minutes solves a matching problem to prescribe the next pick-up and delivery assignment for each courier<br>\n",
    "t : optimization time<br>\n",
    "∆_(u): t+ ∆_(u ) is the assignment horizon<br>\n",
    "∆_(1); ∆_(2): to determine Z_(t)<br>\n",
    "beta: control the freshness in the construction of bundles\n",
    "gamma: control the click to door time in the construction of bundles\n"
   ]
  },
  {
   "cell_type": "code",
   "execution_count": 806,
   "metadata": {},
   "outputs": [],
   "source": [
    "# Accorting to default values in the paper\n",
    "f = 5\n",
    "delta_u = 10\n",
    "delta_1 = 10\n",
    "delta_2 = 10\n",
    "# Not find in the paper\n",
    "beta = 10 # should be tuned\n",
    "gamma = 10 # should be tuned"
   ]
  },
  {
   "cell_type": "code",
   "execution_count": 807,
   "outputs": [],
   "source": [
    "restaurant_dict = restaurants.set_index('restaurant').to_dict()"
   ],
   "metadata": {
    "collapsed": false
   }
  },
  {
   "cell_type": "markdown",
   "metadata": {},
   "source": [
    "# Procedure to initialize a solution"
   ]
  },
  {
   "cell_type": "markdown",
   "metadata": {},
   "source": [
    "**Function that return U(t,r)**<br>\n",
    "U(t,r) is the set of upcoming orders at restaurant r"
   ]
  },
  {
   "cell_type": "markdown",
   "metadata": {},
   "source": [
    "**Courier Object**"
   ]
  },
  {
   "cell_type": "code",
   "execution_count": 808,
   "outputs": [],
   "source": [
    "class Order:\n",
    "    def __init__(self, order_information : dict):\n",
    "\n",
    "        self.order_id = order_information.get('order')\n",
    "        self.destination = (order_information.get('x'), order_information.get('y'))\n",
    "        self.placement_time = order_information.get('placement_time')\n",
    "        self.restaurant_id = order_information.get('restaurant')\n",
    "        self.ready_time = order_information.get('ready_time')\n",
    "\n",
    "        self.restaurant_coord = (restaurant_dict['x'][self.restaurant_id], restaurant_dict['y'][self.restaurant_id])\n",
    "        self.delivered_time = None\n",
    "\n",
    "    def __repr__(self):\n",
    "        return \"order_id : {} restaurant_location : {} destination : {} placement_time : {} restaurant_id : {} ready_time : {} delivered_time : \".format(\n",
    "            self.order_id, self.restaurant_coord, self.destination, self.placement_time, self.restaurant_id, self.ready_time, self.delivered_time\n",
    "        )\n"
   ],
   "metadata": {
    "collapsed": false
   }
  },
  {
   "cell_type": "code",
   "execution_count": 809,
   "metadata": {},
   "outputs": [],
   "source": [
    "class Courier(object):\n",
    "    def __init__(self, courier_information : dict, restaurant : dict):\n",
    "        self.courier = courier_information.get('courier')\n",
    "        self.on_time = courier_information.get('on_time')\n",
    "        self.off_time = courier_information.get('off_time')\n",
    "\n",
    "        # Update and derived along the way\n",
    "        self.visited = [(courier_information.get('x'), courier_information.get('y'))]\n",
    "        self.time_location = [dict(time = self.on_time, location =  (courier_information.get('x'), courier_information.get('y')))]\n",
    "\n",
    "    @staticmethod\n",
    "    def calculate_travel_time(source: tuple,\n",
    "                              restaurant:tuple,\n",
    "                              destination: tuple) -> float:\n",
    "\n",
    "        return get_travel_time(source, restaurant) + get_travel_time(restaurant, destination)\n",
    "\n",
    "   # check if the courier can take the order\n",
    "    def can_assign(self, order : Order) -> bool:\n",
    "        # if the ready time < courier's off time\n",
    "        if order.ready_time < self.on_time:\n",
    "            return False\n",
    "        if order.ready_time > self.off_time:\n",
    "            return False\n",
    "\n",
    "    # assign an order to courier\n",
    "    def assign_order(self, order: Order) -> bool:\n",
    "        # update available time for the next assignment\n",
    "        _, restaurant_x, restaurant_y = restaurants[restaurants['restaurant'] == order.restaurant].values[0]\n",
    "        if self.can_assign(order):\n",
    "            self.orders.append(order)\n",
    "            self.interim_time += self.calculate_travel_time(self.interim_position, (restaurant_x, restaurant_y), orders.destination)\n",
    "\n",
    "    def __repr__(self):\n",
    "        return \"courier_id : {} current_coord : {} on_time : {} off_time : {} current_time : {}\".format(\n",
    "            self.courier, self.visited, self.on_time, self.off_time, self.time_location\n",
    "        )"
   ]
  },
  {
   "cell_type": "code",
   "execution_count": 881,
   "outputs": [],
   "source": [
    "class DeliveryRouting:\n",
    "    def __init__(self, instance_dir : str, target_bundle_size : int = 5, f : int = 5, delta_u : int = 10):\n",
    "        self.target_bundle_size = target_bundle_size\n",
    "        self.delta_u = delta_u\n",
    "        self.f = f\n",
    "\n",
    "        orders, restaurants, couriers, instanceparams, locations = read_instance_information(instance_dir)\n",
    "\n",
    "        self.orders = [Order(order) for order in orders.to_dict(orient = 'records')]\n",
    "        self.orders = sorted(self.orders, key = lambda x: x.ready_time)\n",
    "\n",
    "        self.restaurants = restaurants.to_dict(orient = 'records')\n",
    "        self.couriers = [Courier(courier, self.restaurants) for courier in couriers.to_dict(orient = 'records')]\n",
    "        self.unassigned_orders = self.orders.copy()\n",
    "\n",
    "        self.instance_params = instanceparams.to_dict(orient = 'records')[0]\n",
    "\n",
    "        self.meters_per_minute, self.pickup_service_minutes, self.dropoff_service_minutes, \\\n",
    "            self.target_click_to_door, self.maximum_click_to_door, self.pay_per_order,\\\n",
    "            self.guaranteed_pay_per_hour = self.instance_params.values()\n",
    "\n",
    "        self.bundles = {}\n",
    "        self.bundles_assigned = {}\n",
    "\n",
    "        self.courier_bundle_cleared = []\n",
    "\n",
    "    @staticmethod\n",
    "    def calculate_travel_time(source: tuple,\n",
    "                              restaurant:tuple,\n",
    "                              destination: tuple = None) -> float:\n",
    "\n",
    "        if destination is not None:\n",
    "            return get_travel_time(source, restaurant) + get_travel_time(restaurant, destination)\n",
    "        return get_travel_time(source, restaurant)\n",
    "\n",
    "    def check_can_bundle(self,\n",
    "                         courier : Courier,\n",
    "                         existing_bundle : [Order],\n",
    "                         new_order : Order,\n",
    "                         is_update = False ):\n",
    "\n",
    "        travel_time = self.calculate_travel_time(courier.visited[-1], existing_bundle[-1].restaurant_coord)\n",
    "        max_leave_time = max([order.ready_time for order in existing_bundle])\n",
    "        max_leave_time = max(travel_time, max_leave_time)\n",
    "        max_leave_time = max(max_leave_time, new_order.ready_time) + 4\n",
    "\n",
    "        if max_leave_time >= existing_bundle[0].ready_time + 90:\n",
    "            return False\n",
    "\n",
    "        if existing_bundle[-1].restaurant_id != new_order.restaurant_id:\n",
    "            return False\n",
    "\n",
    "        if new_order.ready_time > courier.off_time:\n",
    "            return False\n",
    "\n",
    "        if new_order.ready_time < courier.on_time:\n",
    "            return False\n",
    "\n",
    "\n",
    "\n",
    "        start_position = courier.visited.index(existing_bundle[0].restaurant_coord)\n",
    "        time_location = deepcopy(courier.time_location[:start_position])\n",
    "        visited = deepcopy(courier.visited[start_position:])\n",
    "        print(visited)\n",
    "        visited.extend([new_order.restaurant_coord, new_order.destination])\n",
    "\n",
    "        existing_bundle.append(new_order)\n",
    "\n",
    "        for i in range(len(existing_bundle) - 1):\n",
    "            if i == 0:\n",
    "                time_location.append(dict(time = max_leave_time, location =  visited[i]))\n",
    "            max_leave_time += self.calculate_travel_time(visited[i], visited[i+1])\n",
    "            time_location.append(dict(time = max_leave_time, location =  visited[i+1]))\n",
    "\n",
    "        if is_update == True:\n",
    "            courier.visited.append(new_order.destination)\n",
    "            courier.time_location = time_location\n",
    "        return max_leave_time\n",
    "\n",
    "    def get_bundle_size(self, z : int) -> int :\n",
    "        # available = [courier for courier in self.couriers if courier.]\n",
    "        pass\n",
    "\n",
    "    def __is_unassigned(self,\n",
    "                      order : Order) -> bool:\n",
    "\n",
    "        for order in self.unassigned_orders:\n",
    "            if order.order_id == order.order_id:\n",
    "                return True\n",
    "        return False\n",
    "\n",
    "    def __assign_order(self,\n",
    "                       courier : Courier,\n",
    "                       to_assign_order : Order) -> bool:\n",
    "\n",
    "        courier.current_time = self.calculate_travel_time(courier.interim_position, to_assign_order.restaurant_coord, to_assign_order.destination)\n",
    "        courier.interim_position = to_assign_order.destination\n",
    "\n",
    "        for order in self.unassigned_orders:\n",
    "            if order.order_id == to_assign_order.order_id:\n",
    "                self.unassigned_orders.remove(order)\n",
    "                return\n",
    "\n",
    "    def __get_available_couriers(self,\n",
    "                                 t : int):\n",
    "        return [courier for courier in self.couriers if courier.on_time <= t and courier.off_time >= t]\n",
    "\n",
    "    def get_available_couriers(self,\n",
    "                                 t : int):\n",
    "        return [courier for courier in self.couriers if courier.on_time <= t and courier.off_time >= t]\n",
    "\n",
    "    def __get_available_orders(self,\n",
    "                               t : int):\n",
    "        return [order for order in self.unassigned_orders if order.ready_time <= t + self.delta_u]\n",
    "\n",
    "    def __get_courier(self, courier_id : str):\n",
    "        for courier in self.couriers:\n",
    "            if courier.courier == courier_id:\n",
    "                return courier\n",
    "\n",
    "    def assign_task(self, x : int):\n",
    "\n",
    "        available_order = self.__get_available_orders(x)\n",
    "        available_courier = self.__get_available_couriers(x)\n",
    "\n",
    "        for order in available_order:\n",
    "            for bundle_id, bundle_list in self.bundles.items():\n",
    "                if self.__is_unassigned(order):\n",
    "                    courier_assigned = self.bundles_assigned[bundle_id]\n",
    "\n",
    "                    if self.check_can_bundle(courier_assigned, bundle_list, order):\n",
    "                        bundle_list.append(order)\n",
    "                        self.check_can_bundle(courier_assigned, bundle_list, order, True)\n",
    "                        self.bundles[bundle_id] = bundle_list\n",
    "\n",
    "            if self.__is_unassigned(order):\n",
    "                print(order.order_id)\n",
    "                min_time = 1e9\n",
    "                is_assigned = False\n",
    "                for courier in available_courier:\n",
    "                    time_taken = self.calculate_travel_time(courier.visited[-1], order.restaurant_coord, order.destination)\n",
    "                    if time_taken < min_time and courier.time_location[-1]['time'] + time_taken < courier.off_time:\n",
    "                        min_time = time_taken\n",
    "                        courier_assigned = courier\n",
    "                        is_assigned = True\n",
    "\n",
    "                if is_assigned:\n",
    "\n",
    "                    time_travelled = max([task['time'] for task in courier_assigned.time_location])\n",
    "\n",
    "                    if len(courier_assigned.time_location) > 1:\n",
    "                        time_travelled += 4\n",
    "\n",
    "                    courier_assigned.time_location.append(dict(time = time_travelled + self.calculate_travel_time(courier.visited[-1], order.restaurant_coord), location = order.restaurant_coord))\n",
    "\n",
    "                    time_travelled = max([task['time'] for task in courier_assigned.time_location])\n",
    "                    to_leave = max(time_travelled, order.ready_time) + 4\n",
    "\n",
    "                    courier_assigned.time_location.append(dict(time = time_travelled + self.calculate_travel_time(order.restaurant_coord, order.destination), location = order.destination))\n",
    "\n",
    "                    courier_assigned.visited.extend([order.restaurant_coord, order.destination])\n",
    "\n",
    "                    key = len(self.bundles)\n",
    "                    self.bundles[key] = [order]\n",
    "                    self.bundles_assigned[key] = courier_assigned"
   ],
   "metadata": {
    "collapsed": false
   }
  },
  {
   "cell_type": "code",
   "execution_count": 882,
   "outputs": [
    {
     "name": "stdout",
     "output_type": "stream",
     "text": [
      "o146\n",
      "o89\n",
      "o240\n",
      "o227\n",
      "[(9472, 3738), (9386, 5834)]\n",
      "[(9472, 3738), (9386, 5834)]\n",
      "o159\n"
     ]
    }
   ],
   "source": [
    "instance_dir = 'data/0o50t75s1p100'\n",
    "dr = DeliveryRouting(instance_dir)\n",
    "dr.assign_task(60)"
   ],
   "metadata": {
    "collapsed": false
   }
  },
  {
   "cell_type": "code",
   "execution_count": 883,
   "outputs": [
    {
     "data": {
      "text/plain": "[(9755, 1693),\n (7856, 5960),\n (3695, 3690),\n (6638, 2098),\n (7663, 2842),\n (9472, 3738),\n (9386, 5834),\n (10213, 5982),\n (9472, 3738),\n (10213, 5982)]"
     },
     "execution_count": 883,
     "metadata": {},
     "output_type": "execute_result"
    }
   ],
   "source": [
    "dr.couriers[0].visited"
   ],
   "metadata": {
    "collapsed": false
   }
  },
  {
   "cell_type": "code",
   "execution_count": 877,
   "outputs": [
    {
     "data": {
      "text/plain": "[{'time': 0, 'location': (9755, 1693)},\n {'time': 11.999759818213672, 'location': (7856, 5960)},\n {'time': 23.100269950044886, 'location': (3695, 3690)},\n {'time': 42.74833226206446, 'location': (6638, 2098)},\n {'time': 45.71450269709916, 'location': (7663, 2842)},\n {'time': 60, 'location': (9472, 3738)},\n {'time': 64.91279524834701, 'location': (9386, 5834)},\n {'time': 69.82559049669402, 'location': (9472, 3738)},\n {'time': 75.35996854379519, 'location': (10213, 5982)},\n {'time': 85.38503606277207, 'location': (9472, 3738)},\n {'time': 90.91941410987324, 'location': (10213, 5982)}]"
     },
     "execution_count": 877,
     "metadata": {},
     "output_type": "execute_result"
    }
   ],
   "source": [
    "dr.couriers[0].time_location"
   ],
   "metadata": {
    "collapsed": false
   }
  },
  {
   "cell_type": "code",
   "execution_count": 862,
   "outputs": [
    {
     "data": {
      "text/plain": "{0: courier_id : c1 current_coord : [(9755, 1693), (7856, 5960), (3695, 3690), (6638, 2098), (7663, 2842), (9472, 3738), (9386, 5834), (10213, 5982)] on_time : 0 off_time : 90 current_time : [{'time': 0, 'location': (9755, 1693)}, {'time': 11.999759818213672, 'location': (7856, 5960)}, {'time': 23.100269950044886, 'location': (3695, 3690)}, {'time': 42.74833226206446, 'location': (6638, 2098)}, {'time': 45.71450269709916, 'location': (7663, 2842)}, {'time': 60, 'location': (9755, 1693)}, {'time': 70.93791899024552, 'location': (7856, 5960)}, {'time': 82.03842912207674, 'location': (3695, 3690)}, {'time': 89.8744936459725, 'location': (6638, 2098)}],\n 1: courier_id : c1 current_coord : [(9755, 1693), (7856, 5960), (3695, 3690), (6638, 2098), (7663, 2842), (9472, 3738), (9386, 5834), (10213, 5982)] on_time : 0 off_time : 90 current_time : [{'time': 0, 'location': (9755, 1693)}, {'time': 11.999759818213672, 'location': (7856, 5960)}, {'time': 23.100269950044886, 'location': (3695, 3690)}, {'time': 42.74833226206446, 'location': (6638, 2098)}, {'time': 45.71450269709916, 'location': (7663, 2842)}, {'time': 60, 'location': (9755, 1693)}, {'time': 70.93791899024552, 'location': (7856, 5960)}, {'time': 82.03842912207674, 'location': (3695, 3690)}, {'time': 89.8744936459725, 'location': (6638, 2098)}],\n 2: courier_id : c1 current_coord : [(9755, 1693), (7856, 5960), (3695, 3690), (6638, 2098), (7663, 2842), (9472, 3738), (9386, 5834), (10213, 5982)] on_time : 0 off_time : 90 current_time : [{'time': 0, 'location': (9755, 1693)}, {'time': 11.999759818213672, 'location': (7856, 5960)}, {'time': 23.100269950044886, 'location': (3695, 3690)}, {'time': 42.74833226206446, 'location': (6638, 2098)}, {'time': 45.71450269709916, 'location': (7663, 2842)}, {'time': 60, 'location': (9755, 1693)}, {'time': 70.93791899024552, 'location': (7856, 5960)}, {'time': 82.03842912207674, 'location': (3695, 3690)}, {'time': 89.8744936459725, 'location': (6638, 2098)}],\n 3: courier_id : c2 current_coord : [(3049, 7734), (4847, 5399), (9334, 6307), (9472, 3738), (10213, 5982)] on_time : 30 off_time : 120 current_time : [{'time': 30, 'location': (3049, 7734)}, {'time': 36.90172675844954, 'location': (4847, 5399)}, {'time': 47.62292287652307, 'location': (9334, 6307)}, {'time': 57.647990395499946, 'location': (9472, 3738)}, {'time': 63.182368442601124, 'location': (10213, 5982)}],\n 4: courier_id : c2 current_coord : [(3049, 7734), (4847, 5399), (9334, 6307), (9472, 3738), (10213, 5982)] on_time : 30 off_time : 120 current_time : [{'time': 30, 'location': (3049, 7734)}, {'time': 36.90172675844954, 'location': (4847, 5399)}, {'time': 47.62292287652307, 'location': (9334, 6307)}, {'time': 57.647990395499946, 'location': (9472, 3738)}, {'time': 63.182368442601124, 'location': (10213, 5982)}]}"
     },
     "execution_count": 862,
     "metadata": {},
     "output_type": "execute_result"
    }
   ],
   "source": [
    "dr.bundles_assigned"
   ],
   "metadata": {
    "collapsed": false
   }
  },
  {
   "cell_type": "markdown",
   "metadata": {},
   "source": [
    "x**Funtion that calculate bundel size Z(t)**"
   ]
  },
  {
   "cell_type": "markdown",
   "metadata": {},
   "source": [
    "**Function that calculate k(r,t)**<br>\n",
    "k(r,t) is the number of couriers who are available at restaurant r"
   ]
  },
  {
   "cell_type": "code",
   "execution_count": 545,
   "metadata": {},
   "outputs": [],
   "source": [
    "def get_available_courier(t,r):\n",
    "    ..."
   ]
  },
  {
   "cell_type": "markdown",
   "metadata": {},
   "source": [
    "**Route object**<br>\n",
    "A route is a bundle,i.e: a list of ordered orders"
   ]
  },
  {
   "cell_type": "code",
   "execution_count": null,
   "metadata": {},
   "outputs": [],
   "source": [
    "class Route(object):\n",
    "    def __init__:\n",
    "    \n",
    "    # calculate total travel time from 1st destination to the last destination of the route\n",
    "    def total_travel_time():\n",
    "\n",
    "    # calculate total service delay    \n",
    "    def total_service_delay():\n",
    "        #<to be discuss>\n",
    "\n",
    "    # calculate total_click_to_door \n",
    "    def total_click_to_door():\n",
    "        #<to be discuss>\n",
    "\n",
    "    # calculate route efficiency: travel time per order:\n",
    "    def route_efficiency():\n",
    "\n",
    "    # calculate route cost\n",
    "    def route_cost():\n",
    "        #route_cost = total_travel_time + beta*total_service_delay + gamma*total_click_to_door\n"
   ]
  },
  {
   "cell_type": "markdown",
   "metadata": {},
   "source": [
    "# Implement procedure 1"
   ]
  }
 ],
 "metadata": {
  "kernelspec": {
   "display_name": "Python 3.9.6 64-bit",
   "language": "python",
   "name": "python3"
  },
  "language_info": {
   "codemirror_mode": {
    "name": "ipython",
    "version": 3
   },
   "file_extension": ".py",
   "mimetype": "text/x-python",
   "name": "python",
   "nbconvert_exporter": "python",
   "pygments_lexer": "ipython3",
   "version": "3.9.6"
  },
  "orig_nbformat": 4,
  "vscode": {
   "interpreter": {
    "hash": "aee8b7b246df8f9039afb4144a1f6fd8d2ca17a180786b69acc140d282b71a49"
   }
  }
 },
 "nbformat": 4,
 "nbformat_minor": 2
}
