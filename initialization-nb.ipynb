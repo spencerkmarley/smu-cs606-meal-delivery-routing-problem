{
 "cells": [
  {
   "cell_type": "code",
   "execution_count": 801,
   "outputs": [],
   "source": [
    "import os, math, numpy as np\n",
    "from copy import deepcopy"
   ],
   "metadata": {
    "collapsed": false
   }
  },
  {
   "cell_type": "code",
   "execution_count": 802,
   "outputs": [],
   "source": [
    "def get_travel_time(source: tuple, destination : tuple) -> float:\n",
    "    return math.dist(source, destination) / 427"
   ],
   "metadata": {
    "collapsed": false
   }
  },
  {
   "cell_type": "code",
   "execution_count": 803,
   "outputs": [],
   "source": [
    "### Calculate travel time between two points: origin and destination\n",
    "def traveltime(origin_id,destination_id,meters_per_minute,locations):\n",
    "    dist=np.sqrt((locations.at[destination_id,'x']-locations.at[origin_id,'x'])**2\\\n",
    "                +(locations.at[destination_id,'y']-locations.at[origin_id,'y'])**2)\n",
    "    tt=np.ceil(dist/meters_per_minute)\n",
    "    return tt"
   ],
   "metadata": {
    "collapsed": false
   }
  },
  {
   "cell_type": "markdown",
   "metadata": {},
   "source": [
    "# Read in data instance\n",
    "A folder of data instance has 5 files: (1) couriers.txt, (2) instance_characteristics.txt, (3) instance_parameters.txt, (4) orders.txt, (5) restaurants.txt"
   ]
  },
  {
   "cell_type": "code",
   "execution_count": 804,
   "metadata": {},
   "outputs": [],
   "source": [
    "# Read instance information\n",
    "def read_instance_information(instance_dir):\n",
    "    orders=pd.read_table(os.path.join(instance_dir,'orders.txt'))\n",
    "    restaurants=pd.read_table(os.path.join(instance_dir,'restaurants.txt'))\n",
    "    couriers=pd.read_table(os.path.join(instance_dir,'couriers.txt'))\n",
    "    instanceparams=pd.read_table(os.path.join(instance_dir,'instance_parameters.txt'))\n",
    "\n",
    "    order_locations=pd.DataFrame(data=[orders.order,orders.x,orders.y]).transpose()\n",
    "    order_locations.columns=['id','x','y']\n",
    "    restaurant_locations=pd.DataFrame(data=[restaurants.restaurant,restaurants.x,restaurants.y]).transpose()\n",
    "    restaurant_locations.columns=['id','x','y']\n",
    "    courier_locations=pd.DataFrame(data=[couriers.courier,couriers.x,couriers.y]).transpose()\n",
    "    courier_locations.columns=['id','x','y']\n",
    "    locations=pd.concat([order_locations,restaurant_locations,courier_locations])\n",
    "    # locations.set_index('id',inplace=True)\n",
    "    #\n",
    "    # orders.set_index('order',inplace=True)\n",
    "    # couriers.set_index('courier',inplace=True)\n",
    "    # restaurants.set_index('restaurant',inplace=True)\n",
    "\n",
    "    meters_per_minute=instanceparams.at[0,'meters_per_minute']\n",
    "    pickup_service_minutes=instanceparams.at[0,'pickup service minutes']\n",
    "    dropoff_service_minutes=instanceparams.at[0,'dropoff service minutes']\n",
    "    target_click_to_door=instanceparams.at[0,'target click-to-door']\n",
    "    pay_per_order=instanceparams.at[0,'pay per order']\n",
    "    guaranteed_pay_per_hour=instanceparams.at[0,'guaranteed pay per hour']\n",
    "\n",
    "    return orders,restaurants,couriers,instanceparams,locations"
   ]
  },
  {
   "cell_type": "code",
   "execution_count": 805,
   "metadata": {},
   "outputs": [],
   "source": [
    "import pandas as pd\n",
    "instance_dir = 'data/0o50t75s1p100'\n",
    "orders,restaurants,couriers,instanceparams,locations=read_instance_information(instance_dir)"
   ]
  },
  {
   "cell_type": "markdown",
   "metadata": {},
   "source": [
    "# Set hyper-parameters:\n",
    "f∶ every f minutes solves a matching problem to prescribe the next pick-up and delivery assignment for each courier<br>\n",
    "t : optimization time<br>\n",
    "∆_(u): t+ ∆_(u ) is the assignment horizon<br>\n",
    "∆_(1); ∆_(2): to determine Z_(t)<br>\n",
    "beta: control the freshness in the construction of bundles\n",
    "gamma: control the click to door time in the construction of bundles\n"
   ]
  },
  {
   "cell_type": "code",
   "execution_count": 806,
   "metadata": {},
   "outputs": [],
   "source": [
    "# Accorting to default values in the paper\n",
    "f = 5\n",
    "delta_u = 10\n",
    "delta_1 = 10\n",
    "delta_2 = 10\n",
    "# Not find in the paper\n",
    "beta = 10 # should be tuned\n",
    "gamma = 10 # should be tuned"
   ]
  },
  {
   "cell_type": "code",
   "execution_count": 807,
   "outputs": [],
   "source": [
    "restaurant_dict = restaurants.set_index('restaurant').to_dict()"
   ],
   "metadata": {
    "collapsed": false
   }
  },
  {
   "cell_type": "markdown",
   "metadata": {},
   "source": [
    "# Procedure to initialize a solution"
   ]
  },
  {
   "cell_type": "markdown",
   "metadata": {},
   "source": [
    "**Function that return U(t,r)**<br>\n",
    "U(t,r) is the set of upcoming orders at restaurant r"
   ]
  },
  {
   "cell_type": "markdown",
   "metadata": {},
   "source": [
    "**Courier Object**"
   ]
  },
  {
   "cell_type": "code",
   "execution_count": 808,
   "outputs": [],
   "source": [
    "class Order:\n",
    "    def __init__(self, order_information : dict):\n",
    "\n",
    "        self.order_id = order_information.get('order')\n",
    "        self.destination = (order_information.get('x'), order_information.get('y'))\n",
    "        self.placement_time = order_information.get('placement_time')\n",
    "        self.restaurant_id = order_information.get('restaurant')\n",
    "        self.ready_time = order_information.get('ready_time')\n",
    "\n",
    "        self.restaurant_coord = (restaurant_dict['x'][self.restaurant_id], restaurant_dict['y'][self.restaurant_id])\n",
    "        self.delivered_time = None\n",
    "\n",
    "    def __repr__(self):\n",
    "        return \"order_id : {} restaurant_location : {} destination : {} placement_time : {} restaurant_id : {} ready_time : {} delivered_time : \".format(\n",
    "            self.order_id, self.restaurant_coord, self.destination, self.placement_time, self.restaurant_id, self.ready_time, self.delivered_time\n",
    "        )\n"
   ],
   "metadata": {
    "collapsed": false
   }
  },
  {
   "cell_type": "code",
   "execution_count": 1009,
   "metadata": {},
   "outputs": [],
   "source": [
    "class Courier(object):\n",
    "    def __init__(self, courier_information : dict, restaurant : dict):\n",
    "        self.courier = courier_information.get('courier')\n",
    "        self.on_time = courier_information.get('on_time')\n",
    "        self.off_time = courier_information.get('off_time')\n",
    "\n",
    "        # Update and derived along the way\n",
    "        self.visited = [(courier_information.get('x'), courier_information.get('y'))]\n",
    "        self.time_location = [dict(time = self.on_time, location =  (courier_information.get('x'), courier_information.get('y')))]\n",
    "\n",
    "    @staticmethod\n",
    "    def calculate_travel_time(source: tuple,\n",
    "                              restaurant:tuple,\n",
    "                              destination: tuple) -> float:\n",
    "\n",
    "        return get_travel_time(source, restaurant) + get_travel_time(restaurant, destination)\n",
    "\n",
    "   # check if the courier can take the order\n",
    "    def can_assign(self, order : Order) -> bool:\n",
    "        # if the ready time < courier's off time\n",
    "        if order.ready_time < self.on_time:\n",
    "            return False\n",
    "        if order.ready_time > self.off_time:\n",
    "            return False\n",
    "\n",
    "    # assign an order to courier\n",
    "    def assign_order(self, order: Order) -> bool:\n",
    "        # update available time for the next assignment\n",
    "        _, restaurant_x, restaurant_y = restaurants[restaurants['restaurant'] == order.restaurant].values[0]\n",
    "        if self.can_assign(order):\n",
    "            self.orders.append(order)\n",
    "            self.interim_time += self.calculate_travel_time(self.interim_position, (restaurant_x, restaurant_y), orders.destination)\n",
    "\n",
    "    def __repr__(self):\n",
    "        return \"courier_id : {} current_coord : {} on_time : {} off_time : {} current_time : {}\".format(\n",
    "            self.courier, self.visited, self.on_time, self.off_time, self.time_location\n",
    "        )"
   ]
  },
  {
   "cell_type": "code",
   "execution_count": 1161,
   "outputs": [],
   "source": [
    "class DeliveryRouting:\n",
    "    def __init__(self, instance_dir : str, target_bundle_size : int = 5, f : int = 5, delta_u : int = 10):\n",
    "        self.target_bundle_size = target_bundle_size\n",
    "        self.delta_u = delta_u\n",
    "        self.f = f\n",
    "\n",
    "        orders, restaurants, couriers, instanceparams, locations = read_instance_information(instance_dir)\n",
    "\n",
    "        self.orders = [Order(order) for order in orders.to_dict(orient = 'records')]\n",
    "        self.orders = sorted(self.orders, key = lambda x: x.ready_time)\n",
    "\n",
    "        self.restaurants = restaurants.to_dict(orient = 'records')\n",
    "        self.couriers = [Courier(courier, self.restaurants) for courier in couriers.to_dict(orient = 'records')]\n",
    "        self.unassigned_orders = deepcopy(self.orders)\n",
    "\n",
    "        self.instance_params = instanceparams.to_dict(orient = 'records')[0]\n",
    "\n",
    "        self.meters_per_minute, self.pickup_service_minutes, self.dropoff_service_minutes, \\\n",
    "            self.target_click_to_door, self.maximum_click_to_door, self.pay_per_order,\\\n",
    "            self.guaranteed_pay_per_hour = self.instance_params.values()\n",
    "\n",
    "        self.bundles = {}\n",
    "        self.bundles_assigned = {}\n",
    "\n",
    "\n",
    "    @staticmethod\n",
    "    def calculate_travel_time(source: tuple,\n",
    "                              restaurant:tuple,\n",
    "                              destination: tuple = None) -> float:\n",
    "\n",
    "        if destination is not None:\n",
    "            return get_travel_time(source, restaurant) + get_travel_time(restaurant, destination)\n",
    "        return get_travel_time(source, restaurant)\n",
    "\n",
    "\n",
    "    def get_bundle_size(self, z : int) -> int :\n",
    "        # available = [courier for courier in self.couriers if courier.]\n",
    "        pass\n",
    "\n",
    "    def __is_unassigned(self,\n",
    "                      order_check : Order) -> bool:\n",
    "\n",
    "        for order in self.unassigned_orders:\n",
    "            if order.order_id == order_check.order_id:\n",
    "                return True\n",
    "        return False\n",
    "\n",
    "    def __assign_order(self,\n",
    "                       courier : Courier,\n",
    "                       to_assign_order : Order) -> None:\n",
    "\n",
    "        for order in self.unassigned_orders:\n",
    "            if order.order_id == to_assign_order.order_id:\n",
    "                self.unassigned_orders.remove(order)\n",
    "\n",
    "    def __get_available_couriers(self,\n",
    "                                 t : int):\n",
    "        return [courier for courier in self.couriers if courier.on_time <= t and courier.off_time >= t]\n",
    "\n",
    "    def get_available_couriers(self,\n",
    "                                 t : int):\n",
    "        return [courier for courier in self.couriers if courier.on_time <= t and courier.off_time >= t]\n",
    "\n",
    "    def __get_available_orders(self,\n",
    "                               t : int):\n",
    "        return [order for order in self.unassigned_orders if order.ready_time <= t + self.delta_u]\n",
    "\n",
    "    def __get_courier(self, courier_id : str):\n",
    "        for courier in self.couriers:\n",
    "            if courier.courier == courier_id:\n",
    "                return courier\n",
    "\n",
    "    def check_can_bundle(self,\n",
    "                         courier : Courier,\n",
    "                         existing_bundle : [Order],\n",
    "                         new_order : Order,\n",
    "                         is_update = False ):\n",
    "\n",
    "        travel_time = self.calculate_travel_time(courier.visited[-1], existing_bundle[-1].restaurant_coord)\n",
    "        max_leave_time = max([order.ready_time for order in existing_bundle])\n",
    "        max_leave_time = max(travel_time, max_leave_time)\n",
    "        max_leave_time = max(max_leave_time, new_order.ready_time) + 4\n",
    "\n",
    "        if max_leave_time >= existing_bundle[0].ready_time + 90:\n",
    "            return False\n",
    "\n",
    "        for order in existing_bundle:\n",
    "            if order.restaurant_id != new_order.restaurant_id:\n",
    "                return False\n",
    "\n",
    "        if new_order.ready_time > courier.off_time:\n",
    "            return False\n",
    "\n",
    "        if new_order.ready_time < courier.on_time:\n",
    "            return False\n",
    "\n",
    "\n",
    "        start_position = courier.visited.index(existing_bundle[0].restaurant_coord) + 1\n",
    "        time_location = deepcopy(courier.time_location[:start_position])\n",
    "        visited = deepcopy(courier.visited[:start_position])\n",
    "\n",
    "        for i in range(len(existing_bundle)-1):\n",
    "            if i == 0:\n",
    "                time_location.append(dict(time = max_leave_time, location =  existing_bundle[i].destination))\n",
    "                visited.append(existing_bundle[i].destination)\n",
    "\n",
    "            max_leave_time += self.calculate_travel_time(existing_bundle[i].destination, existing_bundle[i+1].destination) + 4\n",
    "            time_location.append(dict(time = max_leave_time, location =  existing_bundle[i+1].destination))\n",
    "            visited.append(existing_bundle[i+1].destination)\n",
    "\n",
    "        if is_update == True:\n",
    "            courier.visited = visited\n",
    "            courier.time_location = time_location\n",
    "        return max_leave_time\n",
    "\n",
    "    def assign_task(self, x : int):\n",
    "\n",
    "        available_order = self.__get_available_orders(x)\n",
    "        available_courier = self.__get_available_couriers(x)\n",
    "\n",
    "        for order in available_order:\n",
    "            for bundle_id, bundle_list in self.bundles.items():\n",
    "                if self.__is_unassigned(order):\n",
    "                    courier_assigned = self.bundles_assigned[bundle_id]\n",
    "\n",
    "                    if self.check_can_bundle(courier_assigned, bundle_list, order):\n",
    "                        bundle_list.append(order)\n",
    "                        self.check_can_bundle(courier_assigned, bundle_list, order, True)\n",
    "                        self.bundles[bundle_id] = bundle_list\n",
    "                        self.__assign_order(courier_assigned, order)\n",
    "\n",
    "            if self.__is_unassigned(order):\n",
    "                min_time = 1e9\n",
    "                is_assigned = False\n",
    "                for courier in available_courier:\n",
    "                    time_taken = self.calculate_travel_time(courier.visited[-1], order.restaurant_coord, order.destination)\n",
    "                    if time_taken < min_time and courier.time_location[-1]['time'] + time_taken < courier.off_time:\n",
    "                        min_time = time_taken\n",
    "                        courier_assigned = courier\n",
    "                        is_assigned = True\n",
    "\n",
    "\n",
    "                if is_assigned:\n",
    "                    time_travelled = max([task['time'] for task in courier_assigned.time_location])\n",
    "\n",
    "                    if len(courier_assigned.time_location) > 1:\n",
    "                        time_travelled += 4\n",
    "\n",
    "                    courier_assigned.time_location.append(dict(time = time_travelled + self.calculate_travel_time(courier.visited[-1], order.restaurant_coord), location = order.restaurant_coord))\n",
    "\n",
    "                    time_travelled = max([task['time'] for task in courier_assigned.time_location])\n",
    "                    to_leave = max(time_travelled, order.ready_time) + 4\n",
    "\n",
    "                    courier_assigned.time_location.append(dict(time = time_travelled + self.calculate_travel_time(order.restaurant_coord, order.destination), location = order.destination))\n",
    "\n",
    "                    courier_assigned.visited.extend([order.restaurant_coord, order.destination])\n",
    "\n",
    "                    key = len(self.bundles)\n",
    "                    self.bundles[key] = [order]\n",
    "                    self.bundles_assigned[key] = courier_assigned\n",
    "                    self.__assign_order(courier_assigned, order)"
   ],
   "metadata": {
    "collapsed": false
   }
  },
  {
   "cell_type": "code",
   "execution_count": 1166,
   "outputs": [],
   "source": [
    "instance_dir = 'data/0o50t75s1p100'\n",
    "dr = DeliveryRouting(instance_dir)\n",
    "dr.assign_task(180)"
   ],
   "metadata": {
    "collapsed": false
   }
  },
  {
   "cell_type": "code",
   "execution_count": 1169,
   "outputs": [
    {
     "data": {
      "text/plain": "{0: [order_id : o146 restaurant_location : (7856, 5960) destination : (3695, 3690) placement_time : 13 restaurant_id : r54 ready_time : 28 delivered_time : ],\n 1: [order_id : o89 restaurant_location : (6638, 2098) destination : (7663, 2842) placement_time : 24 restaurant_id : r50 ready_time : 29 delivered_time : ],\n 2: [order_id : o240 restaurant_location : (9472, 3738) destination : (9386, 5834) placement_time : 29 restaurant_id : r67 ready_time : 46 delivered_time : ],\n 3: [order_id : o227 restaurant_location : (4847, 5399) destination : (9334, 6307) placement_time : 33 restaurant_id : r39 ready_time : 48 delivered_time : ,\n  order_id : o163 restaurant_location : (4847, 5399) destination : (4058, 2280) placement_time : 72 restaurant_id : r39 ready_time : 95 delivered_time : ],\n 4: [order_id : o159 restaurant_location : (9472, 3738) destination : (10213, 5982) placement_time : 36 restaurant_id : r67 ready_time : 56 delivered_time : ],\n 5: [order_id : o121 restaurant_location : (3859, 3727) destination : (5602, 3679) placement_time : 59 restaurant_id : r13 ready_time : 78 delivered_time : ],\n 6: [order_id : o184 restaurant_location : (3680, 3516) destination : (6070, 4473) placement_time : 98 restaurant_id : r31 ready_time : 105 delivered_time : ,\n  order_id : o40 restaurant_location : (3680, 3516) destination : (7647, 5832) placement_time : 137 restaurant_id : r31 ready_time : 147 delivered_time : ,\n  order_id : o42 restaurant_location : (3680, 3516) destination : (8307, 4031) placement_time : 146 restaurant_id : r31 ready_time : 162 delivered_time : ],\n 7: [order_id : o174 restaurant_location : (4018, 5802) destination : (5442, 4861) placement_time : 98 restaurant_id : r21 ready_time : 108 delivered_time : ],\n 8: [order_id : o110 restaurant_location : (7848, 3633) destination : (10145, 5621) placement_time : 108 restaurant_id : r55 ready_time : 111 delivered_time : ],\n 9: [order_id : o226 restaurant_location : (7818, 3668) destination : (7601, 5739) placement_time : 102 restaurant_id : r1 ready_time : 112 delivered_time : ,\n  order_id : o148 restaurant_location : (7818, 3668) destination : (8860, 3792) placement_time : 117 restaurant_id : r1 ready_time : 127 delivered_time : ,\n  order_id : o245 restaurant_location : (7818, 3668) destination : (7397, 4703) placement_time : 152 restaurant_id : r1 ready_time : 162 delivered_time : ],\n 10: [order_id : o234 restaurant_location : (8515, 5778) destination : (10441, 2921) placement_time : 92 restaurant_id : r90 ready_time : 116 delivered_time : ],\n 11: [order_id : o55 restaurant_location : (9007, 7284) destination : (9489, 6394) placement_time : 102 restaurant_id : r37 ready_time : 117 delivered_time : ,\n  order_id : o93 restaurant_location : (9007, 7284) destination : (5483, 4716) placement_time : 168 restaurant_id : r37 ready_time : 173 delivered_time : ],\n 12: [order_id : o209 restaurant_location : (5614, 6115) destination : (5562, 6166) placement_time : 117 restaurant_id : r83 ready_time : 119 delivered_time : ],\n 13: [order_id : o76 restaurant_location : (8320, 4472) destination : (8280, 6521) placement_time : 93 restaurant_id : r3 ready_time : 123 delivered_time : ],\n 14: [order_id : o164 restaurant_location : (8989, 4966) destination : (8707, 3274) placement_time : 118 restaurant_id : r72 ready_time : 133 delivered_time : ],\n 15: [order_id : o229 restaurant_location : (2213, 5564) destination : (2175, 5510) placement_time : 108 restaurant_id : r11 ready_time : 142 delivered_time : ],\n 16: [order_id : o6 restaurant_location : (10149, 5464) destination : (10134, 5226) placement_time : 131 restaurant_id : r6 ready_time : 144 delivered_time : ],\n 17: [order_id : o43 restaurant_location : (8946, 6963) destination : (9093, 6324) placement_time : 137 restaurant_id : r33 ready_time : 144 delivered_time : ],\n 18: [order_id : o22 restaurant_location : (4164, 3479) destination : (1501, 4849) placement_time : 152 restaurant_id : r19 ready_time : 160 delivered_time : ],\n 19: [order_id : o173 restaurant_location : (7756, 3773) destination : (9195, 2631) placement_time : 138 restaurant_id : r16 ready_time : 168 delivered_time : ],\n 20: [order_id : o153 restaurant_location : (9472, 3738) destination : (7978, 4238) placement_time : 117 restaurant_id : r67 ready_time : 172 delivered_time : ],\n 21: [order_id : o160 restaurant_location : (8145, 2825) destination : (7753, 2693) placement_time : 184 restaurant_id : r70 ready_time : 191 delivered_time : ],\n 22: [order_id : o187 restaurant_location : (9202, 5717) destination : (9636, 7449) placement_time : 176 restaurant_id : r75 ready_time : 191 delivered_time : ],\n 23: [order_id : o194 restaurant_location : (8222, 5686) destination : (8832, 6295) placement_time : 177 restaurant_id : r22 ready_time : 192 delivered_time : ]}"
     },
     "execution_count": 1169,
     "metadata": {},
     "output_type": "execute_result"
    }
   ],
   "source": [
    "dr.bundles"
   ],
   "metadata": {
    "collapsed": false
   }
  },
  {
   "cell_type": "code",
   "execution_count": 1170,
   "outputs": [
    {
     "data": {
      "text/plain": "[order_id : o152 restaurant_location : (2213, 5564) destination : (342, 2729) placement_time : 177 restaurant_id : r11 ready_time : 197 delivered_time : ,\n order_id : o218 restaurant_location : (7644, 3559) destination : (9470, 4296) placement_time : 184 restaurant_id : r68 ready_time : 199 delivered_time : ,\n order_id : o114 restaurant_location : (7970, 5491) destination : (9679, 5989) placement_time : 171 restaurant_id : r56 ready_time : 201 delivered_time : ,\n order_id : o119 restaurant_location : (8003, 4381) destination : (8076, 8206) placement_time : 187 restaurant_id : r18 ready_time : 202 delivered_time : ,\n order_id : o235 restaurant_location : (8694, 5518) destination : (9093, 4164) placement_time : 201 restaurant_id : r91 ready_time : 202 delivered_time : ,\n order_id : o66 restaurant_location : (6899, 3160) destination : (3820, 5225) placement_time : 198 restaurant_id : r5 ready_time : 203 delivered_time : ,\n order_id : o27 restaurant_location : (4018, 5802) destination : (8734, 6577) placement_time : 202 restaurant_id : r21 ready_time : 208 delivered_time : ,\n order_id : o78 restaurant_location : (4037, 5030) destination : (2219, 4739) placement_time : 181 restaurant_id : r46 ready_time : 211 delivered_time : ,\n order_id : o79 restaurant_location : (8461, 3732) destination : (8098, 6185) placement_time : 197 restaurant_id : r47 ready_time : 211 delivered_time : ,\n order_id : o137 restaurant_location : (7856, 5960) destination : (8099, 6289) placement_time : 194 restaurant_id : r54 ready_time : 211 delivered_time : ,\n order_id : o238 restaurant_location : (3680, 3516) destination : (5826, 4830) placement_time : 176 restaurant_id : r31 ready_time : 215 delivered_time : ,\n order_id : o116 restaurant_location : (4847, 5399) destination : (5686, 6973) placement_time : 197 restaurant_id : r39 ready_time : 217 delivered_time : ,\n order_id : o70 restaurant_location : (9310, 5675) destination : (9761, 2994) placement_time : 188 restaurant_id : r42 ready_time : 218 delivered_time : ,\n order_id : o75 restaurant_location : (4018, 5802) destination : (7333, 6375) placement_time : 210 restaurant_id : r21 ready_time : 219 delivered_time : ,\n order_id : o191 restaurant_location : (5748, 4118) destination : (9629, 3435) placement_time : 216 restaurant_id : r77 ready_time : 228 delivered_time : ,\n order_id : o49 restaurant_location : (2213, 5564) destination : (843, 3561) placement_time : 199 restaurant_id : r11 ready_time : 230 delivered_time : ,\n order_id : o171 restaurant_location : (3680, 3516) destination : (7951, 3938) placement_time : 225 restaurant_id : r31 ready_time : 234 delivered_time : ,\n order_id : o143 restaurant_location : (6970, 4451) destination : (6980, 4928) placement_time : 208 restaurant_id : r65 ready_time : 238 delivered_time : ,\n order_id : o168 restaurant_location : (7818, 3668) destination : (5778, 2092) placement_time : 228 restaurant_id : r1 ready_time : 238 delivered_time : ,\n order_id : o193 restaurant_location : (7818, 3668) destination : (5292, 4694) placement_time : 240 restaurant_id : r1 ready_time : 250 delivered_time : ,\n order_id : o223 restaurant_location : (8858, 8117) destination : (6961, 7424) placement_time : 220 restaurant_id : r86 ready_time : 250 delivered_time : ,\n order_id : o149 restaurant_location : (6817, 3270) destination : (2791, 2607) placement_time : 225 restaurant_id : r53 ready_time : 253 delivered_time : ,\n order_id : o71 restaurant_location : (5620, 4275) destination : (2290, 4876) placement_time : 227 restaurant_id : r43 ready_time : 256 delivered_time : ,\n order_id : o242 restaurant_location : (6817, 3270) destination : (8491, 4705) placement_time : 236 restaurant_id : r53 ready_time : 259 delivered_time : ,\n order_id : o53 restaurant_location : (8639, 3417) destination : (5484, 3815) placement_time : 255 restaurant_id : r30 ready_time : 261 delivered_time : ,\n order_id : o94 restaurant_location : (9311, 7116) destination : (9271, 7058) placement_time : 261 restaurant_id : r44 ready_time : 263 delivered_time : ,\n order_id : o131 restaurant_location : (9220, 7075) destination : (7730, 2905) placement_time : 256 restaurant_id : r62 ready_time : 266 delivered_time : ,\n order_id : o16 restaurant_location : (6888, 5612) destination : (7739, 5363) placement_time : 265 restaurant_id : r15 ready_time : 268 delivered_time : ,\n order_id : o224 restaurant_location : (7877, 3526) destination : (5773, 5394) placement_time : 238 restaurant_id : r87 ready_time : 268 delivered_time : ,\n order_id : o113 restaurant_location : (4018, 5802) destination : (2892, 5727) placement_time : 258 restaurant_id : r21 ready_time : 270 delivered_time : ,\n order_id : o31 restaurant_location : (9444, 4288) destination : (8141, 2835) placement_time : 266 restaurant_id : r25 ready_time : 274 delivered_time : ,\n order_id : o105 restaurant_location : (8851, 2548) destination : (10215, 4855) placement_time : 263 restaurant_id : r27 ready_time : 274 delivered_time : ,\n order_id : o156 restaurant_location : (7644, 3559) destination : (6819, 3774) placement_time : 259 restaurant_id : r68 ready_time : 274 delivered_time : ,\n order_id : o205 restaurant_location : (7756, 3773) destination : (5816, 4360) placement_time : 245 restaurant_id : r16 ready_time : 275 delivered_time : ,\n order_id : o136 restaurant_location : (9007, 7284) destination : (6003, 4681) placement_time : 264 restaurant_id : r37 ready_time : 279 delivered_time : ,\n order_id : o125 restaurant_location : (8478, 2350) destination : (7281, 2138) placement_time : 245 restaurant_id : r60 ready_time : 280 delivered_time : ,\n order_id : o204 restaurant_location : (9220, 7075) destination : (9213, 3436) placement_time : 278 restaurant_id : r62 ready_time : 280 delivered_time : ,\n order_id : o88 restaurant_location : (8461, 3732) destination : (7860, 2193) placement_time : 269 restaurant_id : r47 ready_time : 284 delivered_time : ,\n order_id : o177 restaurant_location : (9472, 3738) destination : (7911, 4683) placement_time : 264 restaurant_id : r67 ready_time : 284 delivered_time : ,\n order_id : o87 restaurant_location : (7818, 3668) destination : (9021, 6101) placement_time : 296 restaurant_id : r1 ready_time : 306 delivered_time : ,\n order_id : o46 restaurant_location : (8734, 4203) destination : (8247, 5577) placement_time : 306 restaurant_id : r35 ready_time : 329 delivered_time : ,\n order_id : o12 restaurant_location : (2213, 5564) destination : (8047, 6154) placement_time : 313 restaurant_id : r11 ready_time : 338 delivered_time : ,\n order_id : o207 restaurant_location : (5308, 6060) destination : (9403, 6214) placement_time : 329 restaurant_id : r10 ready_time : 344 delivered_time : ,\n order_id : o21 restaurant_location : (7818, 3668) destination : (6589, 3457) placement_time : 336 restaurant_id : r1 ready_time : 346 delivered_time : ,\n order_id : o169 restaurant_location : (8225, 5537) destination : (8171, 5536) placement_time : 349 restaurant_id : r45 ready_time : 351 delivered_time : ,\n order_id : o126 restaurant_location : (9458, 6859) destination : (10158, 5763) placement_time : 334 restaurant_id : r61 ready_time : 356 delivered_time : ,\n order_id : o170 restaurant_location : (8478, 2350) destination : (8108, 4925) placement_time : 383 restaurant_id : r60 ready_time : 386 delivered_time : ,\n order_id : o86 restaurant_location : (8567, 2298) destination : (8068, 6600) placement_time : 383 restaurant_id : r49 ready_time : 390 delivered_time : ,\n order_id : o36 restaurant_location : (8639, 3417) destination : (7859, 4087) placement_time : 421 restaurant_id : r30 ready_time : 426 delivered_time : ,\n order_id : o56 restaurant_location : (2213, 5564) destination : (0, 4727) placement_time : 421 restaurant_id : r11 ready_time : 441 delivered_time : ,\n order_id : o180 restaurant_location : (5866, 7449) destination : (3811, 3745) placement_time : 430 restaurant_id : r14 ready_time : 444 delivered_time : ,\n order_id : o45 restaurant_location : (4079, 5572) destination : (4112, 5063) placement_time : 446 restaurant_id : r34 ready_time : 451 delivered_time : ,\n order_id : o14 restaurant_location : (3859, 3727) destination : (877, 3210) placement_time : 455 restaurant_id : r13 ready_time : 463 delivered_time : ,\n order_id : o175 restaurant_location : (3859, 3727) destination : (6162, 5201) placement_time : 462 restaurant_id : r13 ready_time : 463 delivered_time : ,\n order_id : o129 restaurant_location : (9007, 7284) destination : (6883, 6722) placement_time : 436 restaurant_id : r37 ready_time : 464 delivered_time : ,\n order_id : o247 restaurant_location : (8222, 5686) destination : (10295, 3243) placement_time : 455 restaurant_id : r22 ready_time : 469 delivered_time : ,\n order_id : o37 restaurant_location : (8116, 5603) destination : (8224, 6698) placement_time : 458 restaurant_id : r7 ready_time : 473 delivered_time : ,\n order_id : o73 restaurant_location : (9311, 7116) destination : (9200, 7079) placement_time : 480 restaurant_id : r44 ready_time : 483 delivered_time : ,\n order_id : o222 restaurant_location : (6888, 5612) destination : (8018, 7531) placement_time : 482 restaurant_id : r15 ready_time : 487 delivered_time : ,\n order_id : o219 restaurant_location : (9092, 7390) destination : (7794, 7472) placement_time : 477 restaurant_id : r66 ready_time : 488 delivered_time : ,\n order_id : o50 restaurant_location : (8639, 3417) destination : (7541, 2351) placement_time : 494 restaurant_id : r30 ready_time : 502 delivered_time : ,\n order_id : o202 restaurant_location : (8028, 2243) destination : (5716, 1975) placement_time : 487 restaurant_id : r17 ready_time : 502 delivered_time : ,\n order_id : o51 restaurant_location : (7818, 3668) destination : (6889, 4139) placement_time : 493 restaurant_id : r1 ready_time : 503 delivered_time : ,\n order_id : o63 restaurant_location : (4018, 5802) destination : (6306, 7313) placement_time : 486 restaurant_id : r21 ready_time : 503 delivered_time : ,\n order_id : o85 restaurant_location : (8574, 6146) destination : (9112, 3230) placement_time : 493 restaurant_id : r28 ready_time : 503 delivered_time : ,\n order_id : o140 restaurant_location : (4018, 5802) destination : (5775, 7724) placement_time : 497 restaurant_id : r21 ready_time : 506 delivered_time : ,\n order_id : o246 restaurant_location : (7818, 3668) destination : (8415, 6145) placement_time : 486 restaurant_id : r1 ready_time : 506 delivered_time : ,\n order_id : o104 restaurant_location : (3859, 3727) destination : (5730, 5275) placement_time : 496 restaurant_id : r13 ready_time : 508 delivered_time : ,\n order_id : o117 restaurant_location : (7805, 6293) destination : (8946, 4557) placement_time : 479 restaurant_id : r58 ready_time : 509 delivered_time : ,\n order_id : o34 restaurant_location : (8574, 6146) destination : (8825, 6364) placement_time : 506 restaurant_id : r28 ready_time : 514 delivered_time : ,\n order_id : o112 restaurant_location : (7756, 3773) destination : (3514, 2879) placement_time : 485 restaurant_id : r16 ready_time : 515 delivered_time : ,\n order_id : o13 restaurant_location : (8113, 5983) destination : (8818, 6224) placement_time : 508 restaurant_id : r12 ready_time : 518 delivered_time : ,\n order_id : o157 restaurant_location : (8097, 3134) destination : (5984, 5236) placement_time : 496 restaurant_id : r69 ready_time : 518 delivered_time : ,\n order_id : o215 restaurant_location : (7818, 3668) destination : (4928, 3451) placement_time : 491 restaurant_id : r1 ready_time : 518 delivered_time : ,\n order_id : o237 restaurant_location : (7818, 3668) destination : (4991, 4740) placement_time : 500 restaurant_id : r1 ready_time : 518 delivered_time : ,\n order_id : o236 restaurant_location : (8003, 4381) destination : (5102, 6712) placement_time : 518 restaurant_id : r18 ready_time : 528 delivered_time : ,\n order_id : o98 restaurant_location : (2213, 5564) destination : (7218, 5120) placement_time : 503 restaurant_id : r11 ready_time : 530 delivered_time : ,\n order_id : o135 restaurant_location : (7818, 3668) destination : (7848, 4516) placement_time : 514 restaurant_id : r1 ready_time : 534 delivered_time : ,\n order_id : o83 restaurant_location : (3859, 3727) destination : (4924, 2863) placement_time : 520 restaurant_id : r13 ready_time : 536 delivered_time : ,\n order_id : o243 restaurant_location : (7887, 6394) destination : (7235, 7870) placement_time : 516 restaurant_id : r20 ready_time : 536 delivered_time : ,\n order_id : o102 restaurant_location : (2213, 5564) destination : (136, 2824) placement_time : 515 restaurant_id : r11 ready_time : 537 delivered_time : ,\n order_id : o11 restaurant_location : (5308, 6060) destination : (2348, 4594) placement_time : 526 restaurant_id : r10 ready_time : 541 delivered_time : ,\n order_id : o74 restaurant_location : (5866, 7449) destination : (9135, 5110) placement_time : 506 restaurant_id : r14 ready_time : 541 delivered_time : ,\n order_id : o250 restaurant_location : (5866, 7449) destination : (7043, 7568) placement_time : 498 restaurant_id : r14 ready_time : 541 delivered_time : ,\n order_id : o103 restaurant_location : (7856, 5960) destination : (5828, 3746) placement_time : 515 restaurant_id : r54 ready_time : 543 delivered_time : ,\n order_id : o100 restaurant_location : (4847, 5399) destination : (2116, 3455) placement_time : 540 restaurant_id : r39 ready_time : 544 delivered_time : ,\n order_id : o107 restaurant_location : (8574, 6146) destination : (7808, 7411) placement_time : 528 restaurant_id : r28 ready_time : 544 delivered_time : ,\n order_id : o124 restaurant_location : (3859, 3727) destination : (2752, 3512) placement_time : 525 restaurant_id : r13 ready_time : 545 delivered_time : ,\n order_id : o198 restaurant_location : (8052, 3359) destination : (10343, 5218) placement_time : 521 restaurant_id : r80 ready_time : 545 delivered_time : ,\n order_id : o115 restaurant_location : (7951, 4769) destination : (10395, 6585) placement_time : 529 restaurant_id : r57 ready_time : 547 delivered_time : ,\n order_id : o134 restaurant_location : (9220, 7075) destination : (6231, 7902) placement_time : 533 restaurant_id : r62 ready_time : 548 delivered_time : ,\n order_id : o176 restaurant_location : (8851, 2548) destination : (10182, 1956) placement_time : 538 restaurant_id : r27 ready_time : 550 delivered_time : ,\n order_id : o165 restaurant_location : (7933, 1431) destination : (8632, 1523) placement_time : 532 restaurant_id : r73 ready_time : 551 delivered_time : ,\n order_id : o29 restaurant_location : (2224, 5576) destination : (7033, 5401) placement_time : 535 restaurant_id : r23 ready_time : 552 delivered_time : ,\n order_id : o60 restaurant_location : (4164, 3479) destination : (5815, 2407) placement_time : 539 restaurant_id : r19 ready_time : 554 delivered_time : ,\n order_id : o84 restaurant_location : (7887, 6394) destination : (7191, 2840) placement_time : 549 restaurant_id : r20 ready_time : 554 delivered_time : ,\n order_id : o61 restaurant_location : (4847, 5399) destination : (7439, 7715) placement_time : 542 restaurant_id : r39 ready_time : 556 delivered_time : ,\n order_id : o141 restaurant_location : (6888, 5612) destination : (8447, 4967) placement_time : 550 restaurant_id : r15 ready_time : 556 delivered_time : ,\n order_id : o2 restaurant_location : (8483, 4501) destination : (8183, 4908) placement_time : 541 restaurant_id : r2 ready_time : 557 delivered_time : ,\n order_id : o57 restaurant_location : (7978, 2651) destination : (7925, 2143) placement_time : 537 restaurant_id : r24 ready_time : 558 delivered_time : ,\n order_id : o158 restaurant_location : (7978, 2651) destination : (8274, 2540) placement_time : 532 restaurant_id : r24 ready_time : 558 delivered_time : ,\n order_id : o96 restaurant_location : (7818, 3668) destination : (10848, 3623) placement_time : 541 restaurant_id : r1 ready_time : 561 delivered_time : ,\n order_id : o195 restaurant_location : (4416, 5501) destination : (5437, 5264) placement_time : 560 restaurant_id : r78 ready_time : 563 delivered_time : ,\n order_id : o172 restaurant_location : (6817, 3270) destination : (10386, 4442) placement_time : 543 restaurant_id : r53 ready_time : 564 delivered_time : ,\n order_id : o211 restaurant_location : (3827, 821) destination : (4794, 3190) placement_time : 548 restaurant_id : r84 ready_time : 564 delivered_time : ,\n order_id : o47 restaurant_location : (9444, 4288) destination : (10353, 2584) placement_time : 562 restaurant_id : r25 ready_time : 566 delivered_time : ,\n order_id : o133 restaurant_location : (4190, 5421) destination : (7692, 6943) placement_time : 559 restaurant_id : r64 ready_time : 568 delivered_time : ,\n order_id : o251 restaurant_location : (4271, 5055) destination : (5424, 5846) placement_time : 557 restaurant_id : r93 ready_time : 568 delivered_time : ,\n order_id : o167 restaurant_location : (8851, 2548) destination : (10739, 3434) placement_time : 550 restaurant_id : r27 ready_time : 571 delivered_time : ,\n order_id : o24 restaurant_location : (8483, 4501) destination : (9737, 4771) placement_time : 563 restaurant_id : r2 ready_time : 572 delivered_time : ,\n order_id : o64 restaurant_location : (9488, 5199) destination : (10764, 5643) placement_time : 547 restaurant_id : r40 ready_time : 572 delivered_time : ,\n order_id : o197 restaurant_location : (6420, 7427) destination : (9719, 6060) placement_time : 549 restaurant_id : r79 ready_time : 573 delivered_time : ,\n order_id : o154 restaurant_location : (8574, 6146) destination : (7265, 7587) placement_time : 566 restaurant_id : r28 ready_time : 575 delivered_time : ,\n order_id : o212 restaurant_location : (8574, 6146) destination : (6444, 3903) placement_time : 563 restaurant_id : r28 ready_time : 575 delivered_time : ,\n order_id : o65 restaurant_location : (4164, 3479) destination : (5484, 3922) placement_time : 555 restaurant_id : r19 ready_time : 576 delivered_time : ,\n order_id : o179 restaurant_location : (7978, 2651) destination : (6055, 2657) placement_time : 558 restaurant_id : r24 ready_time : 576 delivered_time : ,\n order_id : o225 restaurant_location : (6611, 3112) destination : (2806, 4449) placement_time : 568 restaurant_id : r88 ready_time : 577 delivered_time : ,\n order_id : o18 restaurant_location : (8028, 2243) destination : (7743, 4929) placement_time : 571 restaurant_id : r17 ready_time : 581 delivered_time : ,\n order_id : o200 restaurant_location : (7365, 7289) destination : (6581, 8088) placement_time : 559 restaurant_id : r81 ready_time : 581 delivered_time : ,\n order_id : o4 restaurant_location : (7880, 3494) destination : (5268, 3678) placement_time : 566 restaurant_id : r4 ready_time : 582 delivered_time : ,\n order_id : o5 restaurant_location : (6899, 3160) destination : (6245, 3071) placement_time : 574 restaurant_id : r5 ready_time : 582 delivered_time : ,\n order_id : o52 restaurant_location : (3859, 3727) destination : (3282, 4716) placement_time : 563 restaurant_id : r13 ready_time : 583 delivered_time : ,\n order_id : o23 restaurant_location : (8116, 5603) destination : (10362, 4452) placement_time : 572 restaurant_id : r7 ready_time : 584 delivered_time : ,\n order_id : o44 restaurant_location : (7818, 3668) destination : (8394, 5513) placement_time : 564 restaurant_id : r1 ready_time : 584 delivered_time : ,\n order_id : o147 restaurant_location : (8320, 4472) destination : (9715, 2123) placement_time : 554 restaurant_id : r3 ready_time : 584 delivered_time : ,\n order_id : o213 restaurant_location : (7238, 7200) destination : (9790, 6250) placement_time : 580 restaurant_id : r85 ready_time : 585 delivered_time : ,\n order_id : o182 restaurant_location : (6061, 7440) destination : (5645, 7648) placement_time : 561 restaurant_id : r74 ready_time : 586 delivered_time : ,\n order_id : o120 restaurant_location : (8574, 6146) destination : (3561, 5414) placement_time : 572 restaurant_id : r28 ready_time : 587 delivered_time : ,\n order_id : o233 restaurant_location : (8222, 5686) destination : (9838, 6961) placement_time : 564 restaurant_id : r22 ready_time : 587 delivered_time : ,\n order_id : o252 restaurant_location : (8483, 4501) destination : (9258, 5960) placement_time : 578 restaurant_id : r2 ready_time : 589 delivered_time : ,\n order_id : o10 restaurant_location : (9486, 4175) destination : (8918, 5918) placement_time : 563 restaurant_id : r9 ready_time : 593 delivered_time : ,\n order_id : o7 restaurant_location : (8116, 5603) destination : (3222, 5142) placement_time : 588 restaurant_id : r7 ready_time : 598 delivered_time : ,\n order_id : o72 restaurant_location : (7880, 3494) destination : (3967, 4665) placement_time : 584 restaurant_id : r4 ready_time : 599 delivered_time : ,\n order_id : o128 restaurant_location : (8320, 4472) destination : (5631, 2953) placement_time : 569 restaurant_id : r3 ready_time : 599 delivered_time : ,\n order_id : o95 restaurant_location : (8574, 6146) destination : (9250, 5022) placement_time : 584 restaurant_id : r28 ready_time : 600 delivered_time : ,\n order_id : o241 restaurant_location : (8320, 4472) destination : (6598, 6103) placement_time : 570 restaurant_id : r3 ready_time : 600 delivered_time : ,\n order_id : o123 restaurant_location : (7887, 6394) destination : (6977, 3310) placement_time : 591 restaurant_id : r20 ready_time : 601 delivered_time : ,\n order_id : o155 restaurant_location : (6869, 3522) destination : (3176, 5048) placement_time : 579 restaurant_id : r51 ready_time : 601 delivered_time : ,\n order_id : o217 restaurant_location : (4315, 5381) destination : (3936, 3556) placement_time : 588 restaurant_id : r41 ready_time : 605 delivered_time : ,\n order_id : o62 restaurant_location : (8639, 3417) destination : (9573, 2279) placement_time : 595 restaurant_id : r30 ready_time : 606 delivered_time : ,\n order_id : o20 restaurant_location : (8003, 4381) destination : (4162, 5633) placement_time : 598 restaurant_id : r18 ready_time : 607 delivered_time : ,\n order_id : o162 restaurant_location : (9279, 7001) destination : (8557, 6790) placement_time : 605 restaurant_id : r71 ready_time : 607 delivered_time : ,\n order_id : o201 restaurant_location : (4164, 3479) destination : (5925, 4493) placement_time : 590 restaurant_id : r19 ready_time : 608 delivered_time : ,\n order_id : o19 restaurant_location : (7756, 3773) destination : (5024, 5988) placement_time : 581 restaurant_id : r16 ready_time : 611 delivered_time : ,\n order_id : o244 restaurant_location : (9486, 4175) destination : (5947, 4840) placement_time : 592 restaurant_id : r9 ready_time : 612 delivered_time : ,\n order_id : o38 restaurant_location : (7818, 3668) destination : (10350, 4937) placement_time : 594 restaurant_id : r1 ready_time : 614 delivered_time : ,\n order_id : o32 restaurant_location : (9209, 7239) destination : (8723, 6146) placement_time : 588 restaurant_id : r26 ready_time : 615 delivered_time : ,\n order_id : o39 restaurant_location : (9209, 7239) destination : (8313, 6109) placement_time : 603 restaurant_id : r26 ready_time : 615 delivered_time : ,\n order_id : o130 restaurant_location : (7805, 6293) destination : (8011, 5586) placement_time : 585 restaurant_id : r58 ready_time : 615 delivered_time : ,\n order_id : o144 restaurant_location : (7818, 3668) destination : (8392, 6788) placement_time : 610 restaurant_id : r1 ready_time : 620 delivered_time : ,\n order_id : o109 restaurant_location : (7887, 6394) destination : (5774, 4069) placement_time : 606 restaurant_id : r20 ready_time : 621 delivered_time : ,\n order_id : o8 restaurant_location : (7818, 3668) destination : (7202, 4887) placement_time : 612 restaurant_id : r1 ready_time : 622 delivered_time : ,\n order_id : o90 restaurant_location : (8574, 6146) destination : (5827, 4975) placement_time : 614 restaurant_id : r28 ready_time : 624 delivered_time : ,\n order_id : o208 restaurant_location : (7818, 3668) destination : (9698, 2008) placement_time : 604 restaurant_id : r1 ready_time : 624 delivered_time : ,\n order_id : o91 restaurant_location : (8116, 5603) destination : (8705, 7744) placement_time : 616 restaurant_id : r7 ready_time : 627 delivered_time : ,\n order_id : o30 restaurant_location : (7978, 2651) destination : (7389, 2151) placement_time : 614 restaurant_id : r24 ready_time : 630 delivered_time : ,\n order_id : o206 restaurant_location : (7657, 7074) destination : (8049, 7648) placement_time : 611 restaurant_id : r82 ready_time : 632 delivered_time : ,\n order_id : o26 restaurant_location : (7818, 3668) destination : (6302, 5401) placement_time : 623 restaurant_id : r1 ready_time : 633 delivered_time : ,\n order_id : o67 restaurant_location : (4315, 5381) destination : (8904, 5390) placement_time : 619 restaurant_id : r41 ready_time : 633 delivered_time : ,\n order_id : o41 restaurant_location : (8856, 2699) destination : (8305, 2148) placement_time : 620 restaurant_id : r32 ready_time : 638 delivered_time : ,\n order_id : o139 restaurant_location : (7818, 3668) destination : (5657, 5773) placement_time : 628 restaurant_id : r1 ready_time : 638 delivered_time : ,\n order_id : o80 restaurant_location : (8320, 4472) destination : (8741, 5157) placement_time : 610 restaurant_id : r3 ready_time : 640 delivered_time : ,\n order_id : o249 restaurant_location : (9344, 5622) destination : (7327, 7640) placement_time : 610 restaurant_id : r92 ready_time : 640 delivered_time : ,\n order_id : o68 restaurant_location : (7818, 3668) destination : (4034, 2965) placement_time : 631 restaurant_id : r1 ready_time : 641 delivered_time : ,\n order_id : o28 restaurant_location : (8222, 5686) destination : (7198, 3422) placement_time : 621 restaurant_id : r22 ready_time : 642 delivered_time : ,\n order_id : o214 restaurant_location : (2213, 5564) destination : (5889, 4338) placement_time : 622 restaurant_id : r11 ready_time : 642 delivered_time : ,\n order_id : o108 restaurant_location : (6817, 3270) destination : (6185, 5059) placement_time : 614 restaurant_id : r53 ready_time : 643 delivered_time : ,\n order_id : o111 restaurant_location : (3859, 3727) destination : (2517, 3452) placement_time : 613 restaurant_id : r13 ready_time : 643 delivered_time : ,\n order_id : o228 restaurant_location : (7238, 7200) destination : (6755, 4593) placement_time : 633 restaurant_id : r85 ready_time : 643 delivered_time : ,\n order_id : o145 restaurant_location : (9092, 7390) destination : (6936, 5412) placement_time : 630 restaurant_id : r66 ready_time : 646 delivered_time : ,\n order_id : o118 restaurant_location : (9086, 7339) destination : (5692, 6313) placement_time : 623 restaurant_id : r59 ready_time : 649 delivered_time : ,\n order_id : o58 restaurant_location : (3007, 5241) destination : (1825, 5189) placement_time : 640 restaurant_id : r38 ready_time : 650 delivered_time : ,\n order_id : o166 restaurant_location : (9394, 4290) destination : (10231, 4382) placement_time : 641 restaurant_id : r36 ready_time : 654 delivered_time : ,\n order_id : o101 restaurant_location : (6817, 3270) destination : (7985, 1932) placement_time : 635 restaurant_id : r53 ready_time : 655 delivered_time : ,\n order_id : o3 restaurant_location : (8320, 4472) destination : (4953, 5140) placement_time : 626 restaurant_id : r3 ready_time : 656 delivered_time : ,\n order_id : o25 restaurant_location : (7887, 6394) destination : (8302, 6825) placement_time : 625 restaurant_id : r20 ready_time : 656 delivered_time : ,\n order_id : o82 restaurant_location : (7795, 3250) destination : (8101, 3244) placement_time : 646 restaurant_id : r48 ready_time : 657 delivered_time : ,\n order_id : o190 restaurant_location : (6209, 6144) destination : (6154, 3794) placement_time : 627 restaurant_id : r76 ready_time : 657 delivered_time : ,\n order_id : o189 restaurant_location : (4315, 5381) destination : (4301, 5933) placement_time : 643 restaurant_id : r41 ready_time : 658 delivered_time : ,\n order_id : o210 restaurant_location : (7978, 2651) destination : (8010, 2578) placement_time : 638 restaurant_id : r24 ready_time : 661 delivered_time : ,\n order_id : o221 restaurant_location : (7978, 2651) destination : (8121, 4458) placement_time : 631 restaurant_id : r24 ready_time : 661 delivered_time : ,\n order_id : o97 restaurant_location : (6869, 3522) destination : (5268, 7499) placement_time : 644 restaurant_id : r51 ready_time : 664 delivered_time : ,\n order_id : o150 restaurant_location : (9086, 7339) destination : (6219, 7188) placement_time : 660 restaurant_id : r59 ready_time : 665 delivered_time : ,\n order_id : o15 restaurant_location : (5866, 7449) destination : (2962, 4896) placement_time : 646 restaurant_id : r14 ready_time : 666 delivered_time : ,\n order_id : o33 restaurant_location : (8851, 2548) destination : (7368, 5040) placement_time : 643 restaurant_id : r27 ready_time : 667 delivered_time : ,\n order_id : o59 restaurant_location : (7978, 2651) destination : (9247, 3148) placement_time : 645 restaurant_id : r24 ready_time : 671 delivered_time : ,\n order_id : o127 restaurant_location : (6869, 3522) destination : (4122, 5377) placement_time : 651 restaurant_id : r51 ready_time : 671 delivered_time : ,\n order_id : o106 restaurant_location : (4847, 5399) destination : (8674, 7518) placement_time : 665 restaurant_id : r39 ready_time : 673 delivered_time : ,\n order_id : o230 restaurant_location : (6888, 5612) destination : (9040, 5326) placement_time : 669 restaurant_id : r15 ready_time : 673 delivered_time : ,\n order_id : o48 restaurant_location : (9394, 4290) destination : (5006, 5110) placement_time : 659 restaurant_id : r36 ready_time : 674 delivered_time : ,\n order_id : o17 restaurant_location : (7756, 3773) destination : (8707, 5092) placement_time : 647 restaurant_id : r16 ready_time : 677 delivered_time : ,\n order_id : o77 restaurant_location : (8225, 5537) destination : (7946, 3390) placement_time : 652 restaurant_id : r45 ready_time : 679 delivered_time : ,\n order_id : o138 restaurant_location : (7978, 2651) destination : (7570, 4039) placement_time : 665 restaurant_id : r24 ready_time : 684 delivered_time : ,\n order_id : o188 restaurant_location : (9220, 7075) destination : (8421, 4854) placement_time : 666 restaurant_id : r62 ready_time : 686 delivered_time : ,\n order_id : o122 restaurant_location : (7887, 6394) destination : (9257, 7920) placement_time : 676 restaurant_id : r20 ready_time : 691 delivered_time : ,\n order_id : o220 restaurant_location : (4847, 5399) destination : (6148, 1825) placement_time : 692 restaurant_id : r39 ready_time : 697 delivered_time : ,\n order_id : o9 restaurant_location : (5667, 4236) destination : (8421, 4162) placement_time : 680 restaurant_id : r8 ready_time : 700 delivered_time : ,\n order_id : o69 restaurant_location : (7818, 3668) destination : (9224, 4678) placement_time : 680 restaurant_id : r1 ready_time : 700 delivered_time : ,\n order_id : o178 restaurant_location : (9007, 7284) destination : (8896, 8100) placement_time : 696 restaurant_id : r37 ready_time : 704 delivered_time : ,\n order_id : o203 restaurant_location : (7953, 5996) destination : (10265, 6126) placement_time : 698 restaurant_id : r29 ready_time : 705 delivered_time : ,\n order_id : o186 restaurant_location : (8574, 6146) destination : (7762, 7259) placement_time : 697 restaurant_id : r28 ready_time : 708 delivered_time : ,\n order_id : o248 restaurant_location : (8574, 6146) destination : (10538, 6376) placement_time : 698 restaurant_id : r28 ready_time : 709 delivered_time : ,\n order_id : o161 restaurant_location : (7818, 3668) destination : (8248, 3376) placement_time : 703 restaurant_id : r1 ready_time : 713 delivered_time : ,\n order_id : o151 restaurant_location : (7818, 3668) destination : (6532, 1827) placement_time : 710 restaurant_id : r1 ready_time : 720 delivered_time : ,\n order_id : o142 restaurant_location : (3859, 3727) destination : (5311, 4453) placement_time : 708 restaurant_id : r13 ready_time : 723 delivered_time : ,\n order_id : o183 restaurant_location : (7818, 3668) destination : (9781, 3889) placement_time : 703 restaurant_id : r1 ready_time : 723 delivered_time : ,\n order_id : o232 restaurant_location : (8142, 3753) destination : (7776, 5710) placement_time : 697 restaurant_id : r89 ready_time : 724 delivered_time : ,\n order_id : o239 restaurant_location : (8515, 5778) destination : (5088, 5063) placement_time : 715 restaurant_id : r90 ready_time : 728 delivered_time : ,\n order_id : o199 restaurant_location : (9007, 7284) destination : (8463, 5716) placement_time : 714 restaurant_id : r37 ready_time : 731 delivered_time : ,\n order_id : o216 restaurant_location : (8028, 2243) destination : (3746, 3041) placement_time : 732 restaurant_id : r17 ready_time : 740 delivered_time : ,\n order_id : o192 restaurant_location : (7818, 3668) destination : (7543, 6769) placement_time : 733 restaurant_id : r1 ready_time : 743 delivered_time : ,\n order_id : o181 restaurant_location : (8574, 6146) destination : (8664, 2088) placement_time : 720 restaurant_id : r28 ready_time : 745 delivered_time : ,\n order_id : o54 restaurant_location : (7818, 3668) destination : (7481, 6086) placement_time : 740 restaurant_id : r1 ready_time : 750 delivered_time : ,\n order_id : o196 restaurant_location : (7818, 3668) destination : (7076, 4008) placement_time : 732 restaurant_id : r1 ready_time : 752 delivered_time : ,\n order_id : o1 restaurant_location : (7818, 3668) destination : (8317, 5587) placement_time : 743 restaurant_id : r1 ready_time : 753 delivered_time : ,\n order_id : o99 restaurant_location : (6368, 7521) destination : (9524, 6276) placement_time : 756 restaurant_id : r52 ready_time : 774 delivered_time : ,\n order_id : o81 restaurant_location : (7818, 3668) destination : (8366, 6166) placement_time : 776 restaurant_id : r1 ready_time : 786 delivered_time : ,\n order_id : o35 restaurant_location : (7953, 5996) destination : (8365, 6387) placement_time : 763 restaurant_id : r29 ready_time : 788 delivered_time : ,\n order_id : o185 restaurant_location : (6368, 7521) destination : (5734, 7677) placement_time : 778 restaurant_id : r52 ready_time : 788 delivered_time : ,\n order_id : o92 restaurant_location : (8574, 6146) destination : (10111, 5076) placement_time : 774 restaurant_id : r28 ready_time : 790 delivered_time : ,\n order_id : o231 restaurant_location : (5866, 7449) destination : (5430, 4981) placement_time : 784 restaurant_id : r14 ready_time : 802 delivered_time : ,\n order_id : o132 restaurant_location : (9363, 6988) destination : (8564, 6937) placement_time : 792 restaurant_id : r63 ready_time : 822 delivered_time : ]"
     },
     "execution_count": 1170,
     "metadata": {},
     "output_type": "execute_result"
    }
   ],
   "source": [
    "dr.unassigned_orders"
   ],
   "metadata": {
    "collapsed": false
   }
  },
  {
   "cell_type": "markdown",
   "metadata": {},
   "source": [
    "**Funtion that calculate bundel size Z(t)**"
   ]
  },
  {
   "cell_type": "markdown",
   "metadata": {},
   "source": [
    "**Function that calculate k(r,t)**<br>\n",
    "k(r,t) is the number of couriers who are available at restaurant r"
   ]
  },
  {
   "cell_type": "code",
   "execution_count": 545,
   "metadata": {},
   "outputs": [],
   "source": [
    "def get_available_courier(t,r):\n",
    "    ..."
   ]
  },
  {
   "cell_type": "markdown",
   "metadata": {},
   "source": [
    "**Route object**<br>\n",
    "A route is a bundle,i.e: a list of ordered orders"
   ]
  },
  {
   "cell_type": "code",
   "execution_count": null,
   "metadata": {},
   "outputs": [],
   "source": [
    "class Route(object):\n",
    "    def __init__:\n",
    "    \n",
    "    # calculate total travel time from 1st destination to the last destination of the route\n",
    "    def total_travel_time():\n",
    "\n",
    "    # calculate total service delay    \n",
    "    def total_service_delay():\n",
    "        #<to be discuss>\n",
    "\n",
    "    # calculate total_click_to_door \n",
    "    def total_click_to_door():\n",
    "        #<to be discuss>\n",
    "\n",
    "    # calculate route efficiency: travel time per order:\n",
    "    def route_efficiency():\n",
    "\n",
    "    # calculate route cost\n",
    "    def route_cost():\n",
    "        #route_cost = total_travel_time + beta*total_service_delay + gamma*total_click_to_door\n"
   ]
  },
  {
   "cell_type": "markdown",
   "metadata": {},
   "source": [
    "# Implement procedure 1"
   ]
  }
 ],
 "metadata": {
  "kernelspec": {
   "display_name": "Python 3.9.6 64-bit",
   "language": "python",
   "name": "python3"
  },
  "language_info": {
   "codemirror_mode": {
    "name": "ipython",
    "version": 3
   },
   "file_extension": ".py",
   "mimetype": "text/x-python",
   "name": "python",
   "nbconvert_exporter": "python",
   "pygments_lexer": "ipython3",
   "version": "3.9.6"
  },
  "orig_nbformat": 4,
  "vscode": {
   "interpreter": {
    "hash": "aee8b7b246df8f9039afb4144a1f6fd8d2ca17a180786b69acc140d282b71a49"
   }
  }
 },
 "nbformat": 4,
 "nbformat_minor": 2
}
