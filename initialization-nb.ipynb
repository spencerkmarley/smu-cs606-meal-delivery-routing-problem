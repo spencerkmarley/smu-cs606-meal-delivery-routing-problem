{
 "cells": [
  {
   "cell_type": "code",
   "execution_count": 79,
   "outputs": [],
   "source": [
    "import os, math, numpy as np\n",
    "from copy import deepcopy"
   ],
   "metadata": {
    "collapsed": false
   }
  },
  {
   "cell_type": "code",
   "execution_count": 80,
   "outputs": [],
   "source": [
    "def get_travel_time(source: tuple, destination : tuple) -> float:\n",
    "    return math.dist(source, destination) / 427\n",
    "    # return ((source[1] - destination[1]) ** 2 + (source[0] - destination[0]) ** 2)**0.5 / 427"
   ],
   "metadata": {
    "collapsed": false
   }
  },
  {
   "cell_type": "code",
   "execution_count": 81,
   "outputs": [],
   "source": [
    "### Calculate travel time between two points: origin and destination\n",
    "def traveltime(origin_id,destination_id,meters_per_minute,locations):\n",
    "    dist=np.sqrt((locations.at[destination_id,'x']-locations.at[origin_id,'x'])**2\\\n",
    "                +(locations.at[destination_id,'y']-locations.at[origin_id,'y'])**2)\n",
    "    tt=np.ceil(dist/meters_per_minute)\n",
    "    return tt"
   ],
   "metadata": {
    "collapsed": false
   }
  },
  {
   "cell_type": "markdown",
   "metadata": {},
   "source": [
    "# Read in data instance\n",
    "A folder of data instance has 5 files: (1) couriers.txt, (2) instance_characteristics.txt, (3) instance_parameters.txt, (4) orders.txt, (5) restaurants.txt"
   ]
  },
  {
   "cell_type": "code",
   "execution_count": 82,
   "metadata": {},
   "outputs": [],
   "source": [
    "# Read instance information\n",
    "def read_instance_information(instance_dir):\n",
    "    orders=pd.read_table(os.path.join(instance_dir,'orders.txt'))\n",
    "    restaurants=pd.read_table(os.path.join(instance_dir,'restaurants.txt'))\n",
    "    couriers=pd.read_table(os.path.join(instance_dir,'couriers.txt'))\n",
    "    instanceparams=pd.read_table(os.path.join(instance_dir,'instance_parameters.txt'))\n",
    "\n",
    "    order_locations=pd.DataFrame(data=[orders.order,orders.x,orders.y]).transpose()\n",
    "    order_locations.columns=['id','x','y']\n",
    "    restaurant_locations=pd.DataFrame(data=[restaurants.restaurant,restaurants.x,restaurants.y]).transpose()\n",
    "    restaurant_locations.columns=['id','x','y']\n",
    "    courier_locations=pd.DataFrame(data=[couriers.courier,couriers.x,couriers.y]).transpose()\n",
    "    courier_locations.columns=['id','x','y']\n",
    "    locations=pd.concat([order_locations,restaurant_locations,courier_locations])\n",
    "    # locations.set_index('id',inplace=True)\n",
    "    #\n",
    "    # orders.set_index('order',inplace=True)\n",
    "    # couriers.set_index('courier',inplace=True)\n",
    "    # restaurants.set_index('restaurant',inplace=True)\n",
    "\n",
    "    meters_per_minute=instanceparams.at[0,'meters_per_minute']\n",
    "    pickup_service_minutes=instanceparams.at[0,'pickup service minutes']\n",
    "    dropoff_service_minutes=instanceparams.at[0,'dropoff service minutes']\n",
    "    target_click_to_door=instanceparams.at[0,'target click-to-door']\n",
    "    pay_per_order=instanceparams.at[0,'pay per order']\n",
    "    guaranteed_pay_per_hour=instanceparams.at[0,'guaranteed pay per hour']\n",
    "\n",
    "    return orders,restaurants,couriers,instanceparams"
   ]
  },
  {
   "cell_type": "code",
   "execution_count": 83,
   "metadata": {},
   "outputs": [],
   "source": [
    "import pandas as pd\n",
    "instance_dir = 'data/0o50t75s1p100'\n",
    "orders,restaurants,couriers,instanceparams=read_instance_information(instance_dir)"
   ]
  },
  {
   "cell_type": "code",
   "execution_count": 84,
   "outputs": [
    {
     "data": {
      "text/plain": "   meters_per_minute  pickup service minutes  dropoff service minutes  \\\n0                427                       4                        4   \n\n   target click-to-door  maximum click-to-door  pay per order  \\\n0                    40                     90             10   \n\n   guaranteed pay per hour  \n0                       15  ",
      "text/html": "<div>\n<style scoped>\n    .dataframe tbody tr th:only-of-type {\n        vertical-align: middle;\n    }\n\n    .dataframe tbody tr th {\n        vertical-align: top;\n    }\n\n    .dataframe thead th {\n        text-align: right;\n    }\n</style>\n<table border=\"1\" class=\"dataframe\">\n  <thead>\n    <tr style=\"text-align: right;\">\n      <th></th>\n      <th>meters_per_minute</th>\n      <th>pickup service minutes</th>\n      <th>dropoff service minutes</th>\n      <th>target click-to-door</th>\n      <th>maximum click-to-door</th>\n      <th>pay per order</th>\n      <th>guaranteed pay per hour</th>\n    </tr>\n  </thead>\n  <tbody>\n    <tr>\n      <th>0</th>\n      <td>427</td>\n      <td>4</td>\n      <td>4</td>\n      <td>40</td>\n      <td>90</td>\n      <td>10</td>\n      <td>15</td>\n    </tr>\n  </tbody>\n</table>\n</div>"
     },
     "execution_count": 84,
     "metadata": {},
     "output_type": "execute_result"
    }
   ],
   "source": [
    "instanceparams"
   ],
   "metadata": {
    "collapsed": false
   }
  },
  {
   "cell_type": "markdown",
   "metadata": {},
   "source": [
    "# Set hyper-parameters:\n",
    "f∶ every f minutes solves a matching problem to prescribe the next pick-up and delivery assignment for each courier<br>\n",
    "t : optimization time<br>\n",
    "∆_(u): t+ ∆_(u ) is the assignment horizon<br>\n",
    "∆_(1); ∆_(2): to determine Z_(t)<br>\n",
    "beta: control the freshness in the construction of bundles\n",
    "gamma: control the click to door time in the construction of bundles\n"
   ]
  },
  {
   "cell_type": "code",
   "execution_count": 85,
   "metadata": {},
   "outputs": [],
   "source": [
    "# Accorting to default values in the paper\n",
    "f = 5\n",
    "delta_u = 10\n",
    "delta_1 = 10\n",
    "delta_2 = 10\n",
    "# Not find in the paper\n",
    "beta = 10 # should be tuned\n",
    "gamma = 10 # should be tuned"
   ]
  },
  {
   "cell_type": "markdown",
   "metadata": {},
   "source": [
    "# Procedure to initialize a solution"
   ]
  },
  {
   "cell_type": "markdown",
   "metadata": {},
   "source": [
    "**Function that return U(t,r)**<br>\n",
    "U(t,r) is the set of upcoming orders at restaurant r"
   ]
  },
  {
   "cell_type": "code",
   "execution_count": 86,
   "outputs": [],
   "source": [
    "def create_set_U_tr(t,r):\n",
    "    U_tr = orders[(orders['ready_time'] >= t) & (orders['ready_time'] <= t + delta_u) & (orders['restaurant'] == r)]\n",
    "    return U_tr"
   ],
   "metadata": {
    "collapsed": false
   }
  },
  {
   "cell_type": "code",
   "execution_count": 86,
   "outputs": [],
   "source": [],
   "metadata": {
    "collapsed": false
   }
  },
  {
   "cell_type": "markdown",
   "metadata": {},
   "source": [
    "**Courier Object**"
   ]
  },
  {
   "cell_type": "code",
   "execution_count": 87,
   "outputs": [],
   "source": [
    "class Order:\n",
    "    def __init__(self, order_information : dict, restaurants : pd.DataFrame):\n",
    "\n",
    "        self.order_id = order_information.get('order')\n",
    "        self.destination = (order_information.get('x'), order_information.get('y'))\n",
    "        self.placement_time = order_information.get('placement_time')\n",
    "        self.restaurant_id = order_information.get('restaurant')\n",
    "        self.ready_time = order_information.get('ready_time')\n",
    "        restaurants = restaurants.set_index('restaurant').to_dict()\n",
    "        self.restaurant_location = (restaurants['x'][self.restaurant_id], restaurants['y'][self.restaurant_id])\n",
    "        self.is_assigned = False\n",
    "\n",
    "        self.order_fulfilment_time = get_travel_time(self.restaurant_location, self.destination)\n",
    "\n",
    "    def __repr__(self):\n",
    "        return f\"order_id: {self.order_id}, restaurant_id: {self.restaurant_id}, destination: {self.destination}, placement_time : {self.placement_time}, ready_time : {self.ready_time} time_taken : {self.order_fulfilment_time}\""
   ],
   "metadata": {
    "collapsed": false
   }
  },
  {
   "cell_type": "code",
   "execution_count": 88,
   "metadata": {},
   "outputs": [],
   "source": [
    "class Courier(object):\n",
    "    def __init__(self, courier_information : dict, restaurant : dict):\n",
    "        self.courier = courier_information.get('courier')\n",
    "        self.x = courier_information.get('x')\n",
    "        self.y = courier_information.get('y')\n",
    "        self.on_time = courier_information.get('on_time')\n",
    "        self.off_time = courier_information.get('off_time')\n",
    "\n",
    "        # Update and derived along the way\n",
    "        self.travel = []\n",
    "        self.visited = []\n",
    "        self.orders = []\n",
    "        # self.next_available_time = # a dictionary containing restaurant as key and available time as value\n",
    "        self.current_position = (self.x, self.y)\n",
    "        self.current_restaurant = None\n",
    "        self.distance_travelled = 0\n",
    "        self.current_time = self.on_time\n",
    "        self.restaurant = restaurant\n",
    "\n",
    "    def __repr__(self):\n",
    "        return \"courier_id {} starting_coords {} on_time {} off_time {} current_position {} current_time {}\".format(\n",
    "            self.courier, (self.x, self.y), self.on_time, self.off_time, self.current_position, self.current_time\n",
    "        )\n",
    "\n",
    "    @staticmethod\n",
    "    def calculate_travel_time(source: tuple,\n",
    "                              restaurant:tuple,\n",
    "                              destination: tuple,\n",
    "                              meters_per_minute : float) -> float:\n",
    "\n",
    "        return get_travel_time(source, restaurant)  + get_travel_time(restaurant, destination)\n",
    "\n",
    "   # check if the courier can take the order\n",
    "    def can_assign(self, order : Order) -> bool:\n",
    "        # if the ready time < courier's off time\n",
    "        if order.ready_time < self.on_time:\n",
    "            return False\n",
    "        if order.ready_time > self.off_time:\n",
    "            return False\n",
    "\n",
    "    # assign an order to courier\n",
    "    def assign_order(self, order: Order) -> bool:\n",
    "        # update available time for the next assignment\n",
    "        _, restaurant_x, restaurant_y = restaurants[restaurants['restaurant'] == order.restaurant].values[0]\n",
    "        if self.can_assign(order):\n",
    "            self.orders.append(order)\n",
    "            self.current_time += self.calculate_travel_time(self.current_position, (restaurant_x, restaurant_y), orders.destination)"
   ]
  },
  {
   "cell_type": "code",
   "execution_count": 159,
   "outputs": [],
   "source": [
    "class DeliveryRouting:\n",
    "    def __init__(self,\n",
    "                 orders : pd.DataFrame,\n",
    "                 restaurants : pd.DataFrame,\n",
    "                 couriers : pd.DataFrame,\n",
    "                 instanceparams: pd.DataFrame,\n",
    "                 delta_u : int = 10,\n",
    "                 target_bundle_size : int = 5):\n",
    "        \"\"\"\n",
    "        :param t: ready time lower bound\n",
    "        :param delta_u: tolerable\n",
    "        :param target_bundle_size: Z_t\n",
    "        \"\"\"\n",
    "\n",
    "        self.target_bundle_size = target_bundle_size\n",
    "        self.delta_u = delta_u\n",
    "\n",
    "        self.orders = [Order(order, restaurants) for order in orders.to_dict(orient = 'records')]\n",
    "        self.orders = sorted(self.orders, key = lambda x: x.ready_time)\n",
    "        self.restaurants = restaurants.set_index('restaurant').to_dict()\n",
    "        self.couriers = [Courier(courier, self.restaurants) for courier in couriers.to_dict(orient = 'records')]\n",
    "\n",
    "        self.unassigned_orders = deepcopy(self.orders)\n",
    "        self.fulfilled_orders = []\n",
    "        self.instance_params = instanceparams.to_dict(orient = 'records')[0]\n",
    "        self.meters_per_minute, self.pickup_service_minutes, self.dropoff_service_minutes, \\\n",
    "            self.target_click_to_door, self.maximum_click_to_door, self.pay_per_order,\\\n",
    "            self.guaranteed_pay_per_hour = self.instance_params.values()\n",
    "\n",
    "    @staticmethod\n",
    "    def calculate_travel_time(source: tuple,\n",
    "                              restaurant:tuple,\n",
    "                              destination: tuple = None ) -> float:\n",
    "\n",
    "        total_time_taken = get_travel_time(source, restaurant)\n",
    "        if destination is not None:\n",
    "            total_time_taken += get_travel_time(restaurant, destination)\n",
    "        return total_time_taken\n",
    "\n",
    "\n",
    "    def initial_bundle(self, t : int):\n",
    "        bundles = {}\n",
    "        for order in self.orders:\n",
    "            if order.ready_time <= t + self.delta_u:\n",
    "                if order.restaurant_id not in bundles:\n",
    "                    bundles[order.restaurant_id] = []\n",
    "                bundles[order.restaurant_id].append(order)\n",
    "        return bundles\n",
    "\n",
    "    def remove_order(self, order_id):\n",
    "        for order in self.unassigned_orders:\n",
    "            if order.order_id == order_id:\n",
    "                self.unassigned_orders.remove(order)\n",
    "\n",
    "    def allocate_jobs(self, t : int) -> None:\n",
    "        bundles = self.initial_bundle(t)\n",
    "        for restaurant, bundle in bundles.items():\n",
    "            for order in bundle:\n",
    "                is_assigned = False\n",
    "                if order.is_assigned == False:\n",
    "                    min_time = 1e9\n",
    "                    for courier in self.couriers:\n",
    "                        if self.check_is_can_assign(courier, order, t):\n",
    "                            x, y, z = self.check_is_can_assign(courier, order, t)\n",
    "                            current_time = x+y+z\n",
    "                            if current_time < min_time:\n",
    "                                min_time = current_time\n",
    "                                courier_assigned = courier\n",
    "                                is_assigned = True\n",
    "                                order.is_assigned = True\n",
    "                                x1, y1, z1 = x,y,z\n",
    "\n",
    "                if is_assigned:\n",
    "                    # print(courier_assigned.courier, courier_assigned.current_time, min_time, x1, y1, z1)\n",
    "                    courier_assigned.current_time = min_time + 4\n",
    "                    courier_assigned.current_position = order.destination\n",
    "\n",
    "                    self.remove_order(order.order_id)\n",
    "                    self.fulfilled_orders.append(dict(order_id = order.order_id, courier_id =  courier_assigned.courier, fulfilled_time = min_time, restaurant_id = order.restaurant_id))\n",
    "\n",
    "\n",
    "    def allocate_all_jobs(self):\n",
    "        for t in range(0, 240, 10):\n",
    "            self.allocate_jobs(t)\n",
    "\n",
    "\n",
    "\n",
    "    def check_is_can_assign(self, courier, order, t):\n",
    "        courier_start_moving = max(courier.current_time, order.placement_time)\n",
    "        courier_start_leaving = max(order.ready_time, self.calculate_travel_time(courier.current_position, order.restaurant_location)) + 4\n",
    "        courier_delivery_leg = self.calculate_travel_time(order.restaurant_location, order.destination) + 4\n",
    "\n",
    "        if order.order_id not in [order.order_id for order in self.unassigned_orders]:\n",
    "            return False\n",
    "\n",
    "        if courier.on_time > t:\n",
    "            return False\n",
    "\n",
    "        if order.ready_time > courier.off_time:\n",
    "            return False\n",
    "\n",
    "        if courier_start_leaving > courier.off_time:\n",
    "            return False\n",
    "\n",
    "        if courier_start_moving + courier_start_moving + courier_delivery_leg - 4 > order.placement_time + 90:\n",
    "            return False\n",
    "\n",
    "        return courier_start_moving, courier_start_leaving, courier_delivery_leg"
   ],
   "metadata": {
    "collapsed": false
   }
  },
  {
   "cell_type": "code",
   "execution_count": 160,
   "outputs": [],
   "source": [
    "dr = DeliveryRouting(orders, restaurants, couriers, instanceparams)\n",
    "dr.allocate_all_jobs()"
   ],
   "metadata": {
    "collapsed": false
   }
  },
  {
   "cell_type": "code",
   "execution_count": 162,
   "outputs": [
    {
     "data": {
      "text/plain": "[{'order_id': 'o146',\n  'courier_id': 'c1',\n  'fulfilled_time': 60.100510131831214,\n  'restaurant_id': 'r54'},\n {'order_id': 'o89',\n  'courier_id': 'c2',\n  'fulfilled_time': 69.9661704350347,\n  'restaurant_id': 'r50'},\n {'order_id': 'o121',\n  'courier_id': 'c1',\n  'fulfilled_time': 154.1840248956962,\n  'restaurant_id': 'r13'},\n {'order_id': 'o163',\n  'courier_id': 'c2',\n  'fulfilled_time': 184.50070809638424,\n  'restaurant_id': 'r39'}]"
     },
     "execution_count": 162,
     "metadata": {},
     "output_type": "execute_result"
    }
   ],
   "source": [
    "dr.fulfilled_orders"
   ],
   "metadata": {
    "collapsed": false
   }
  },
  {
   "cell_type": "code",
   "execution_count": 163,
   "outputs": [
    {
     "data": {
      "text/plain": "[order_id: o240, restaurant_id: r67, destination: (9386, 5834), placement_time : 29, ready_time : 46 time_taken : 4.912795248347009,\n order_id: o227, restaurant_id: r39, destination: (9334, 6307), placement_time : 33, ready_time : 48 time_taken : 10.721196118073529,\n order_id: o159, restaurant_id: r67, destination: (10213, 5982), placement_time : 36, ready_time : 56 time_taken : 5.534378047101177,\n order_id: o184, restaurant_id: r31, destination: (6070, 4473), placement_time : 98, ready_time : 105 time_taken : 6.029227952956611,\n order_id: o174, restaurant_id: r21, destination: (5442, 4861), placement_time : 98, ready_time : 108 time_taken : 3.997251961497653,\n order_id: o110, restaurant_id: r55, destination: (10145, 5621), placement_time : 108, ready_time : 111 time_taken : 7.114333573238854,\n order_id: o226, restaurant_id: r1, destination: (7601, 5739), placement_time : 102, ready_time : 112 time_taken : 4.876668919728399,\n order_id: o234, restaurant_id: r90, destination: (10441, 2921), placement_time : 92, ready_time : 116 time_taken : 8.069241197286878,\n order_id: o55, restaurant_id: r37, destination: (9489, 6394), placement_time : 102, ready_time : 117 time_taken : 2.3703473781422484,\n order_id: o209, restaurant_id: r83, destination: (5562, 6166), placement_time : 117, ready_time : 119 time_taken : 0.17057477971550486,\n order_id: o76, restaurant_id: r3, destination: (8280, 6521), placement_time : 93, ready_time : 123 time_taken : 4.799509126854621,\n order_id: o148, restaurant_id: r1, destination: (8860, 3792), placement_time : 117, ready_time : 127 time_taken : 2.457499253184661,\n order_id: o164, restaurant_id: r72, destination: (8707, 3274), placement_time : 118, ready_time : 133 time_taken : 4.0171874321875825,\n order_id: o229, restaurant_id: r11, destination: (2175, 5510), placement_time : 108, ready_time : 142 time_taken : 0.1546376957303904,\n order_id: o6, restaurant_id: r6, destination: (10134, 5226), placement_time : 131, ready_time : 144 time_taken : 0.5584829522351602,\n order_id: o43, restaurant_id: r33, destination: (9093, 6324), placement_time : 137, ready_time : 144 time_taken : 1.535574884679599,\n order_id: o40, restaurant_id: r31, destination: (7647, 5832), placement_time : 137, ready_time : 147 time_taken : 10.757790382487006,\n order_id: o22, restaurant_id: r19, destination: (1501, 4849), placement_time : 152, ready_time : 160 time_taken : 7.013443143926696,\n order_id: o42, restaurant_id: r31, destination: (8307, 4031), placement_time : 146, ready_time : 162 time_taken : 10.90297976601019,\n order_id: o245, restaurant_id: r1, destination: (7397, 4703), placement_time : 152, ready_time : 162 time_taken : 2.616739467195507,\n order_id: o173, restaurant_id: r16, destination: (9195, 2631), placement_time : 138, ready_time : 168 time_taken : 4.302309151721675,\n order_id: o153, restaurant_id: r67, destination: (7978, 4238), placement_time : 117, ready_time : 172 time_taken : 3.689573472666391,\n order_id: o93, restaurant_id: r37, destination: (5483, 4716), placement_time : 168, ready_time : 173 time_taken : 10.211739635814176,\n order_id: o160, restaurant_id: r70, destination: (7753, 2693), placement_time : 184, ready_time : 191 time_taken : 0.9686834942863677,\n order_id: o187, restaurant_id: r75, destination: (9636, 7449), placement_time : 176, ready_time : 191 time_taken : 4.181610152392331,\n order_id: o194, restaurant_id: r22, destination: (8832, 6295), placement_time : 177, ready_time : 192 time_taken : 2.018649780566623,\n order_id: o152, restaurant_id: r11, destination: (342, 2729), placement_time : 177, ready_time : 197 time_taken : 7.95490267076032,\n order_id: o218, restaurant_id: r68, destination: (9470, 4296), placement_time : 184, ready_time : 199 time_taken : 4.61152904260493,\n order_id: o114, restaurant_id: r56, destination: (9679, 5989), placement_time : 171, ready_time : 201 time_taken : 4.16880574796154,\n order_id: o119, restaurant_id: r18, destination: (8076, 8206), placement_time : 187, ready_time : 202 time_taken : 8.959476669524413,\n order_id: o235, restaurant_id: r91, destination: (9093, 4164), placement_time : 201, ready_time : 202 time_taken : 3.3057738713007385,\n order_id: o66, restaurant_id: r5, destination: (3820, 5225), placement_time : 198, ready_time : 203 time_taken : 8.682325442724155,\n order_id: o27, restaurant_id: r21, destination: (8734, 6577), placement_time : 202, ready_time : 208 time_taken : 11.19263530846404,\n order_id: o78, restaurant_id: r46, destination: (2219, 4739), placement_time : 181, ready_time : 211 time_taken : 4.311808684917131,\n order_id: o79, restaurant_id: r47, destination: (8098, 6185), placement_time : 197, ready_time : 211 time_taken : 5.807291076998803,\n order_id: o137, restaurant_id: r54, destination: (8099, 6289), placement_time : 194, ready_time : 211 time_taken : 0.9578711997587921,\n order_id: o238, restaurant_id: r31, destination: (5826, 4830), placement_time : 176, ready_time : 215 time_taken : 5.89304232384004,\n order_id: o116, restaurant_id: r39, destination: (5686, 6973), placement_time : 197, ready_time : 217 time_taken : 4.177159499654799,\n order_id: o70, restaurant_id: r42, destination: (9761, 2994), placement_time : 188, ready_time : 218 time_taken : 6.366906697231085,\n order_id: o75, restaurant_id: r21, destination: (7333, 6375), placement_time : 210, ready_time : 219 time_taken : 7.878588406544764,\n order_id: o191, restaurant_id: r77, destination: (9629, 3435), placement_time : 216, ready_time : 228 time_taken : 9.228667004291978,\n order_id: o49, restaurant_id: r11, destination: (843, 3561), placement_time : 199, ready_time : 230 time_taken : 5.6831555975026875,\n order_id: o171, restaurant_id: r31, destination: (7951, 3938), placement_time : 225, ready_time : 234 time_taken : 10.051047796280452,\n order_id: o143, restaurant_id: r65, destination: (6980, 4928), placement_time : 208, ready_time : 238 time_taken : 1.1173414760844356,\n order_id: o168, restaurant_id: r1, destination: (5778, 2092), placement_time : 228, ready_time : 238 time_taken : 6.037149134880887,\n order_id: o193, restaurant_id: r1, destination: (5292, 4694), placement_time : 240, ready_time : 250 time_taken : 6.385052528153986,\n order_id: o223, restaurant_id: r86, destination: (6961, 7424), placement_time : 220, ready_time : 250 time_taken : 4.7297852008547,\n order_id: o149, restaurant_id: r53, destination: (2791, 2607), placement_time : 225, ready_time : 253 time_taken : 9.555564629218987,\n order_id: o71, restaurant_id: r43, destination: (2290, 4876), placement_time : 227, ready_time : 256 time_taken : 7.924589665624028,\n order_id: o242, restaurant_id: r53, destination: (8491, 4705), placement_time : 236, ready_time : 259 time_taken : 5.163656149734657,\n order_id: o53, restaurant_id: r30, destination: (5484, 3815), placement_time : 255, ready_time : 261 time_taken : 7.447317470129177,\n order_id: o94, restaurant_id: r44, destination: (9271, 7058), placement_time : 261, ready_time : 263 time_taken : 0.1650015452347404,\n order_id: o131, restaurant_id: r62, destination: (7730, 2905), placement_time : 256, ready_time : 266 time_taken : 10.370503639272563,\n order_id: o16, restaurant_id: r15, destination: (7739, 5363), placement_time : 265, ready_time : 268 time_taken : 2.076534720630745,\n order_id: o224, restaurant_id: r87, destination: (5773, 5394), placement_time : 238, ready_time : 268 time_taken : 6.589183484022772,\n order_id: o113, restaurant_id: r21, destination: (2892, 5727), placement_time : 258, ready_time : 270 time_taken : 2.6428454695463754,\n order_id: o31, restaurant_id: r25, destination: (8141, 2835), placement_time : 266, ready_time : 274 time_taken : 4.570657064317355,\n order_id: o105, restaurant_id: r27, destination: (10215, 4855), placement_time : 263, ready_time : 274 time_taken : 6.2764973416831955,\n order_id: o156, restaurant_id: r68, destination: (6819, 3774), placement_time : 259, ready_time : 274 time_taken : 1.9966158865670025,\n order_id: o205, restaurant_id: r16, destination: (5816, 4360), placement_time : 245, ready_time : 275 time_taken : 4.746749086926823,\n order_id: o136, restaurant_id: r37, destination: (6003, 4681), placement_time : 264, ready_time : 279 time_taken : 9.308838903621092,\n order_id: o125, restaurant_id: r60, destination: (7281, 2138), placement_time : 245, ready_time : 280 time_taken : 2.8469054893522423,\n order_id: o204, restaurant_id: r62, destination: (9213, 3436), placement_time : 278, ready_time : 280 time_taken : 8.522264010802397,\n order_id: o88, restaurant_id: r47, destination: (7860, 2193), placement_time : 269, ready_time : 284 time_taken : 3.869290481070247,\n order_id: o177, restaurant_id: r67, destination: (7911, 4683), placement_time : 264, ready_time : 284 time_taken : 4.273440660868852,\n order_id: o87, restaurant_id: r1, destination: (9021, 6101), placement_time : 296, ready_time : 306 time_taken : 6.356361054566326,\n order_id: o46, restaurant_id: r35, destination: (8247, 5577), placement_time : 306, ready_time : 329 time_taken : 3.413942408670432,\n order_id: o12, restaurant_id: r11, destination: (8047, 6154), placement_time : 313, ready_time : 338 time_taken : 13.732453956615023,\n order_id: o207, restaurant_id: r10, destination: (9403, 6214), placement_time : 329, ready_time : 344 time_taken : 9.596943099253483,\n order_id: o21, restaurant_id: r1, destination: (6589, 3457), placement_time : 336, ready_time : 346 time_taken : 2.9203305729017575,\n order_id: o169, restaurant_id: r45, destination: (8171, 5536), placement_time : 349, ready_time : 351 time_taken : 0.12648538282333283,\n order_id: o126, restaurant_id: r61, destination: (10158, 5763), placement_time : 334, ready_time : 356 time_taken : 3.0455915883107214,\n order_id: o170, restaurant_id: r60, destination: (8108, 4925), placement_time : 383, ready_time : 386 time_taken : 6.092381060629534,\n order_id: o86, restaurant_id: r49, destination: (8068, 6600), placement_time : 383, ready_time : 390 time_taken : 10.142490518356716,\n order_id: o36, restaurant_id: r30, destination: (7859, 4087), placement_time : 421, ready_time : 426 time_taken : 2.4080818316961667,\n order_id: o56, restaurant_id: r11, destination: (0, 4727), placement_time : 421, ready_time : 441 time_taken : 5.540974698146424,\n order_id: o180, restaurant_id: r14, destination: (3811, 3745), placement_time : 430, ready_time : 444 time_taken : 9.920083068648884,\n order_id: o45, restaurant_id: r34, destination: (4112, 5063), placement_time : 446, ready_time : 451 time_taken : 1.1945401003143377,\n order_id: o14, restaurant_id: r13, destination: (877, 3210), placement_time : 455, ready_time : 463 time_taken : 7.087787482926031,\n order_id: o175, restaurant_id: r13, destination: (6162, 5201), placement_time : 462, ready_time : 463 time_taken : 6.4035507847347715,\n order_id: o129, restaurant_id: r37, destination: (6883, 6722), placement_time : 436, ready_time : 464 time_taken : 5.145418113933983,\n order_id: o247, restaurant_id: r22, destination: (10295, 3243), placement_time : 455, ready_time : 469 time_taken : 7.503498992756724,\n order_id: o37, restaurant_id: r7, destination: (8224, 6698), placement_time : 458, ready_time : 473 time_taken : 2.5768457546785863,\n order_id: o73, restaurant_id: r44, destination: (9200, 7079), placement_time : 480, ready_time : 483 time_taken : 0.27401469186470734,\n order_id: o222, restaurant_id: r15, destination: (8018, 7531), placement_time : 482, ready_time : 487 time_taken : 5.215420919840972,\n order_id: o219, restaurant_id: r66, destination: (7794, 7472), placement_time : 477, ready_time : 488 time_taken : 3.045872504750316,\n order_id: o50, restaurant_id: r30, destination: (7541, 2351), placement_time : 494, ready_time : 502 time_taken : 3.5839493349486293,\n order_id: o202, restaurant_id: r17, destination: (5716, 1975), placement_time : 487, ready_time : 502 time_taken : 5.450775273567284,\n order_id: o51, restaurant_id: r1, destination: (6889, 4139), placement_time : 493, ready_time : 503 time_taken : 2.439289670836771,\n order_id: o63, restaurant_id: r21, destination: (6306, 7313), placement_time : 486, ready_time : 503 time_taken : 6.421332567947372,\n order_id: o85, restaurant_id: r28, destination: (9112, 3230), placement_time : 493, ready_time : 503 time_taken : 6.9442974253783305,\n order_id: o140, restaurant_id: r21, destination: (5775, 7724), placement_time : 497, ready_time : 506 time_taken : 6.098503201836476,\n order_id: o246, restaurant_id: r1, destination: (8415, 6145), placement_time : 486, ready_time : 506 time_taken : 5.967044913235708,\n order_id: o104, restaurant_id: r13, destination: (5730, 5275), placement_time : 496, ready_time : 508 time_taken : 5.687031890101846,\n order_id: o117, restaurant_id: r58, destination: (8946, 4557), placement_time : 479, ready_time : 509 time_taken : 4.8650976303636115,\n order_id: o34, restaurant_id: r28, destination: (8825, 6364), placement_time : 506, ready_time : 514 time_taken : 0.7785784641629644,\n order_id: o112, restaurant_id: r16, destination: (3514, 2879), placement_time : 485, ready_time : 515 time_taken : 10.152650250804465,\n order_id: o13, restaurant_id: r12, destination: (8818, 6224), placement_time : 508, ready_time : 518 time_taken : 1.744857986962173,\n order_id: o157, restaurant_id: r69, destination: (5984, 5236), placement_time : 496, ready_time : 518 time_taken : 6.980012253257098,\n order_id: o215, restaurant_id: r1, destination: (4928, 3451), placement_time : 491, ready_time : 518 time_taken : 6.787202424048138,\n order_id: o237, restaurant_id: r1, destination: (4991, 4740), placement_time : 500, ready_time : 518 time_taken : 7.0806261353679565,\n order_id: o236, restaurant_id: r18, destination: (5102, 6712), placement_time : 518, ready_time : 528 time_taken : 8.715393666109472,\n order_id: o98, restaurant_id: r11, destination: (7218, 5120), placement_time : 503, ready_time : 530 time_taken : 11.767342650026189,\n order_id: o135, restaurant_id: r1, destination: (7848, 4516), placement_time : 514, ready_time : 534 time_taken : 1.9871908534969258,\n order_id: o83, restaurant_id: r13, destination: (4924, 2863), placement_time : 520, ready_time : 536 time_taken : 3.211695120664881,\n order_id: o243, restaurant_id: r20, destination: (7235, 7870), placement_time : 516, ready_time : 536 time_taken : 3.7789046035659575,\n order_id: o102, restaurant_id: r11, destination: (136, 2824), placement_time : 515, ready_time : 537 time_taken : 8.052096127708978,\n order_id: o11, restaurant_id: r10, destination: (2348, 4594), placement_time : 526, ready_time : 541 time_taken : 7.735698715258633,\n order_id: o74, restaurant_id: r14, destination: (9135, 5110), placement_time : 506, ready_time : 541 time_taken : 9.413611640156407,\n order_id: o250, restaurant_id: r14, destination: (7043, 7568), placement_time : 498, ready_time : 541 time_taken : 2.770492793101155,\n order_id: o103, restaurant_id: r54, destination: (5828, 3746), placement_time : 515, ready_time : 543 time_taken : 7.031449687696382,\n order_id: o100, restaurant_id: r39, destination: (2116, 3455), placement_time : 540, ready_time : 544 time_taken : 7.850673561850261,\n order_id: o107, restaurant_id: r28, destination: (7808, 7411), placement_time : 528, ready_time : 544 time_taken : 3.463336021881633,\n order_id: o124, restaurant_id: r13, destination: (2752, 3512), placement_time : 525, ready_time : 545 time_taken : 2.6409490392790698,\n order_id: o198, restaurant_id: r80, destination: (10343, 5218), placement_time : 521, ready_time : 545 time_taken : 6.909483538232898,\n order_id: o115, restaurant_id: r57, destination: (10395, 6585), placement_time : 529, ready_time : 547 time_taken : 7.130750287924174,\n order_id: o134, restaurant_id: r62, destination: (6231, 7902), placement_time : 533, ready_time : 548 time_taken : 7.26299324427614,\n order_id: o176, restaurant_id: r27, destination: (10182, 1956), placement_time : 538, ready_time : 550 time_taken : 3.4115156902428634,\n order_id: o165, restaurant_id: r73, destination: (8632, 1523), placement_time : 532, ready_time : 551 time_taken : 1.651120300289408,\n order_id: o29, restaurant_id: r23, destination: (7033, 5401), placement_time : 535, ready_time : 552 time_taken : 11.269749602983547,\n order_id: o60, restaurant_id: r19, destination: (5815, 2407), placement_time : 539, ready_time : 554 time_taken : 4.610065944954229,\n order_id: o84, restaurant_id: r20, destination: (7191, 2840), placement_time : 549, ready_time : 554 time_taken : 8.481287189636465,\n order_id: o61, restaurant_id: r39, destination: (7439, 7715), placement_time : 542, ready_time : 556 time_taken : 8.140428983300673,\n order_id: o141, restaurant_id: r15, destination: (8447, 4967), placement_time : 550, ready_time : 556 time_taken : 3.9511923905433584,\n order_id: o2, restaurant_id: r2, destination: (8183, 4908), placement_time : 541, ready_time : 557 time_taken : 1.1841157946588277,\n order_id: o57, restaurant_id: r24, destination: (7925, 2143), placement_time : 537, ready_time : 558 time_taken : 1.1961528826873011,\n order_id: o158, restaurant_id: r24, destination: (8274, 2540), placement_time : 532, ready_time : 558 time_taken : 0.7403469287511677,\n order_id: o96, restaurant_id: r1, destination: (10848, 3623), placement_time : 541, ready_time : 561 time_taken : 7.09680126461786,\n order_id: o195, restaurant_id: r78, destination: (5437, 5264), placement_time : 560, ready_time : 563 time_taken : 2.454674431379496,\n order_id: o172, restaurant_id: r53, destination: (10386, 4442), placement_time : 543, ready_time : 564 time_taken : 8.79744033057788,\n order_id: o211, restaurant_id: r84, destination: (4794, 3190), placement_time : 548, ready_time : 564 time_taken : 5.992410925183441,\n order_id: o47, restaurant_id: r25, destination: (10353, 2584), placement_time : 562, ready_time : 566 time_taken : 4.5229370625515095,\n order_id: o133, restaurant_id: r64, destination: (7692, 6943), placement_time : 559, ready_time : 568 time_taken : 8.942483651930607,\n order_id: o251, restaurant_id: r93, destination: (5424, 5846), placement_time : 557, ready_time : 568 time_taken : 3.274579224765468,\n order_id: o167, restaurant_id: r27, destination: (10739, 3434), placement_time : 550, ready_time : 571 time_taken : 4.884203939078613,\n order_id: o24, restaurant_id: r2, destination: (9737, 4771), placement_time : 563, ready_time : 572 time_taken : 3.0040695486439297,\n order_id: o64, restaurant_id: r40, destination: (10764, 5643), placement_time : 547, ready_time : 572 time_taken : 3.164030632450617,\n order_id: o197, restaurant_id: r79, destination: (9719, 6060), placement_time : 549, ready_time : 573 time_taken : 8.363013725566063,\n order_id: o154, restaurant_id: r28, destination: (7265, 7587), placement_time : 566, ready_time : 575 time_taken : 4.559209540337876,\n order_id: o212, restaurant_id: r28, destination: (6444, 3903), placement_time : 563, ready_time : 575 time_taken : 7.244051861398577,\n order_id: o65, restaurant_id: r19, destination: (5484, 3922), placement_time : 555, ready_time : 576 time_taken : 3.2607816452428744,\n order_id: o179, restaurant_id: r24, destination: (6055, 2657), placement_time : 558, ready_time : 576 time_taken : 4.503534801760266,\n order_id: o225, restaurant_id: r88, destination: (2806, 4449), placement_time : 568, ready_time : 577 time_taken : 9.445111494131332,\n order_id: o18, restaurant_id: r17, destination: (7743, 4929), placement_time : 571, ready_time : 581 time_taken : 6.325709011388475,\n order_id: o200, restaurant_id: r81, destination: (6581, 8088), placement_time : 559, ready_time : 581 time_taken : 2.6215463369259777,\n order_id: o4, restaurant_id: r4, destination: (5268, 3678), placement_time : 566, ready_time : 582 time_taken : 6.132254888434433,\n order_id: o5, restaurant_id: r5, destination: (6245, 3071), placement_time : 574, ready_time : 582 time_taken : 1.5457330906506555,\n order_id: o52, restaurant_id: r13, destination: (3282, 4716), placement_time : 563, ready_time : 583 time_taken : 2.681524395734248,\n order_id: o23, restaurant_id: r7, destination: (10362, 4452), placement_time : 572, ready_time : 584 time_taken : 5.910422908597671,\n order_id: o44, restaurant_id: r1, destination: (8394, 5513), placement_time : 564, ready_time : 584 time_taken : 4.526515292950076,\n order_id: o147, restaurant_id: r3, destination: (9715, 2123), placement_time : 554, ready_time : 584 time_taken : 6.398127320918469,\n order_id: o213, restaurant_id: r85, destination: (9790, 6250), placement_time : 580, ready_time : 585 time_taken : 6.377253439300106,\n order_id: o182, restaurant_id: r74, destination: (5645, 7648), placement_time : 561, ready_time : 586 time_taken : 1.0892321763933401,\n order_id: o120, restaurant_id: r28, destination: (3561, 5414), placement_time : 572, ready_time : 587 time_taken : 11.864546990012126,\n order_id: o233, restaurant_id: r22, destination: (9838, 6961), placement_time : 564, ready_time : 587 time_taken : 4.8206489702713755,\n order_id: o252, restaurant_id: r2, destination: (9258, 5960), placement_time : 578, ready_time : 589 time_taken : 3.8689956367289393,\n order_id: o10, restaurant_id: r9, destination: (8918, 5918), placement_time : 563, ready_time : 593 time_taken : 4.2932408538430185,\n order_id: o7, restaurant_id: r7, destination: (3222, 5142), placement_time : 588, ready_time : 598 time_taken : 11.51209473425378,\n order_id: o72, restaurant_id: r4, destination: (3967, 4665), placement_time : 584, ready_time : 599 time_taken : 9.565479092681628,\n order_id: o128, restaurant_id: r3, destination: (5631, 2953), placement_time : 569, ready_time : 599 time_taken : 7.232736625233678,\n order_id: o95, restaurant_id: r28, destination: (9250, 5022), placement_time : 584, ready_time : 600 time_taken : 3.071714043880593,\n order_id: o241, restaurant_id: r3, destination: (6598, 6103), placement_time : 570, ready_time : 600 time_taken : 5.55457156325099,\n order_id: o123, restaurant_id: r20, destination: (6977, 3310), placement_time : 591, ready_time : 601 time_taken : 7.530341451352015,\n order_id: o155, restaurant_id: r51, destination: (3176, 5048), placement_time : 579, ready_time : 601 time_taken : 9.357994112779046,\n order_id: o217, restaurant_id: r41, destination: (3936, 3556), placement_time : 588, ready_time : 605 time_taken : 4.365195090632298,\n order_id: o62, restaurant_id: r30, destination: (9573, 2279), placement_time : 595, ready_time : 606 time_taken : 3.4477967781294616,\n order_id: o20, restaurant_id: r18, destination: (4162, 5633), placement_time : 598, ready_time : 607 time_taken : 9.461122089939519,\n order_id: o162, restaurant_id: r71, destination: (8557, 6790), placement_time : 605, ready_time : 607 time_taken : 1.7615927549290054,\n order_id: o201, restaurant_id: r19, destination: (5925, 4493), placement_time : 590, ready_time : 608 time_taken : 4.75895104257079,\n order_id: o19, restaurant_id: r16, destination: (5024, 5988), placement_time : 581, ready_time : 611 time_taken : 8.236786990564493,\n order_id: o244, restaurant_id: r9, destination: (5947, 4840), placement_time : 592, ready_time : 612 time_taken : 8.433107312764607,\n order_id: o38, restaurant_id: r1, destination: (10350, 4937), placement_time : 594, ready_time : 614 time_taken : 6.6327985278593955,\n order_id: o32, restaurant_id: r26, destination: (8723, 6146), placement_time : 588, ready_time : 615 time_taken : 2.8013567549904637,\n order_id: o39, restaurant_id: r26, destination: (8313, 6109), placement_time : 603, ready_time : 615 time_taken : 3.377335005947696,\n order_id: o130, restaurant_id: r58, destination: (8011, 5586), placement_time : 585, ready_time : 615 time_taken : 1.724590227538998,\n order_id: o144, restaurant_id: r1, destination: (8392, 6788), placement_time : 610, ready_time : 620 time_taken : 7.429417484032971,\n order_id: o109, restaurant_id: r20, destination: (5774, 4069), placement_time : 606, ready_time : 621 time_taken : 7.35765414437029,\n order_id: o8, restaurant_id: r1, destination: (7202, 4887), placement_time : 612, ready_time : 622 time_taken : 3.1986011578194558,\n order_id: o90, restaurant_id: r28, destination: (5827, 4975), placement_time : 614, ready_time : 624 time_taken : 6.993387552863017,\n order_id: o208, restaurant_id: r1, destination: (9698, 2008), placement_time : 604, ready_time : 624 time_taken : 5.8735064187280805,\n order_id: o91, restaurant_id: r7, destination: (8705, 7744), placement_time : 616, ready_time : 627 time_taken : 5.200330035339814,\n order_id: o30, restaurant_id: r24, destination: (7389, 2151), placement_time : 614, ready_time : 630 time_taken : 1.8093832012773614,\n order_id: o206, restaurant_id: r82, destination: (8049, 7648), placement_time : 611, ready_time : 632 time_taken : 1.6278284048926441,\n order_id: o26, restaurant_id: r1, destination: (6302, 5401), placement_time : 623, ready_time : 633 time_taken : 5.3922913694407075,\n order_id: o67, restaurant_id: r41, destination: (8904, 5390), placement_time : 619, ready_time : 633 time_taken : 10.74709326801799,\n order_id: o41, restaurant_id: r32, destination: (8305, 2148), placement_time : 620, ready_time : 638 time_taken : 1.8248985313057973,\n order_id: o139, restaurant_id: r1, destination: (5657, 5773), placement_time : 628, ready_time : 638 time_taken : 7.065052505147649,\n order_id: o80, restaurant_id: r3, destination: (8741, 5157), placement_time : 610, ready_time : 640 time_taken : 1.8829768007636987,\n order_id: o249, restaurant_id: r92, destination: (7327, 7640), placement_time : 610, ready_time : 640 time_taken : 6.681910889249124,\n order_id: o68, restaurant_id: r1, destination: (4034, 2965), placement_time : 631, ready_time : 641 time_taken : 9.013462524329348,\n order_id: o28, restaurant_id: r22, destination: (7198, 3422), placement_time : 621, ready_time : 642 time_taken : 5.819223049410706,\n order_id: o214, restaurant_id: r11, destination: (5889, 4338), placement_time : 622, ready_time : 642 time_taken : 9.075070483331388,\n order_id: o108, restaurant_id: r53, destination: (6185, 5059), placement_time : 614, ready_time : 643 time_taken : 4.443447546306932,\n order_id: o111, restaurant_id: r13, destination: (2517, 3452), placement_time : 613, ready_time : 643 time_taken : 3.208165085826983,\n order_id: o228, restaurant_id: r85, destination: (6755, 4593), placement_time : 633, ready_time : 643 time_taken : 6.209286437157989,\n order_id: o145, restaurant_id: r66, destination: (6936, 5412), placement_time : 630, ready_time : 646 time_taken : 6.852196485772177,\n order_id: o118, restaurant_id: r59, destination: (5692, 6313), placement_time : 623, ready_time : 649 time_taken : 8.303721811894743,\n order_id: o58, restaurant_id: r38, destination: (1825, 5189), placement_time : 640, ready_time : 650 time_taken : 2.770827332837154,\n order_id: o166, restaurant_id: r36, destination: (10231, 4382), placement_time : 641, ready_time : 654 time_taken : 1.9719929107139014,\n order_id: o101, restaurant_id: r53, destination: (7985, 1932), placement_time : 635, ready_time : 655 time_taken : 4.1594431037580755,\n order_id: o3, restaurant_id: r3, destination: (4953, 5140), placement_time : 626, ready_time : 656 time_taken : 8.038933951850117,\n order_id: o25, restaurant_id: r20, destination: (8302, 6825), placement_time : 625, ready_time : 656 time_taken : 1.401216189091219,\n order_id: o82, restaurant_id: r48, destination: (8101, 3244), placement_time : 646, ready_time : 657 time_taken : 0.7167653814439446,\n order_id: o190, restaurant_id: r76, destination: (6154, 3794), placement_time : 627, ready_time : 657 time_taken : 5.5050199740248855,\n order_id: o189, restaurant_id: r41, destination: (4301, 5933), placement_time : 643, ready_time : 658 time_taken : 1.2931557557169577,\n order_id: o210, restaurant_id: r24, destination: (8010, 2578), placement_time : 638, ready_time : 661 time_taken : 0.18666442319427798,\n order_id: o221, restaurant_id: r24, destination: (8121, 4458), placement_time : 631, ready_time : 661 time_taken : 4.2450806606909826,\n order_id: o97, restaurant_id: r51, destination: (5268, 7499), placement_time : 644, ready_time : 664 time_taken : 10.040184385887487,\n order_id: o150, restaurant_id: r59, destination: (6219, 7188), placement_time : 660, ready_time : 665 time_taken : 6.723591808951355,\n order_id: o15, restaurant_id: r14, destination: (2962, 4896), placement_time : 646, ready_time : 666 time_taken : 9.055399371412557,\n order_id: o33, restaurant_id: r27, destination: (7368, 5040), placement_time : 643, ready_time : 667 time_taken : 6.791307836370723,\n order_id: o59, restaurant_id: r24, destination: (9247, 3148), placement_time : 645, ready_time : 671 time_taken : 3.1916946694026453,\n order_id: o127, restaurant_id: r51, destination: (4122, 5377), placement_time : 651, ready_time : 671 time_taken : 7.762692074835587,\n order_id: o106, restaurant_id: r39, destination: (8674, 7518), placement_time : 665, ready_time : 673 time_taken : 10.2446877835659,\n order_id: o230, restaurant_id: r15, destination: (9040, 5326), placement_time : 669, ready_time : 673 time_taken : 5.084125206890486,\n order_id: o48, restaurant_id: r36, destination: (5006, 5110), placement_time : 659, ready_time : 674 time_taken : 10.45424021850724,\n order_id: o17, restaurant_id: r16, destination: (8707, 5092), placement_time : 647, ready_time : 677 time_taken : 3.808168485951316,\n order_id: o77, restaurant_id: r45, destination: (7946, 3390), placement_time : 652, ready_time : 679 time_taken : 5.070379303102858,\n order_id: o138, restaurant_id: r24, destination: (7570, 4039), placement_time : 665, ready_time : 684 time_taken : 3.388110524543574,\n order_id: o188, restaurant_id: r62, destination: (8421, 4854), placement_time : 666, ready_time : 686 time_taken : 5.527746734706267,\n order_id: o122, restaurant_id: r20, destination: (9257, 7920), placement_time : 676, ready_time : 691 time_taken : 4.8026934582395535,\n order_id: o220, restaurant_id: r39, destination: (6148, 1825), placement_time : 692, ready_time : 697 time_taken : 8.907329359544342,\n order_id: o9, restaurant_id: r8, destination: (8421, 4162), placement_time : 680, ready_time : 700 time_taken : 6.451976606282863,\n order_id: o69, restaurant_id: r1, destination: (9224, 4678), placement_time : 680, ready_time : 700 time_taken : 4.054253117092705,\n order_id: o178, restaurant_id: r37, destination: (8896, 8100), placement_time : 696, ready_time : 704 time_taken : 1.9286066210428494,\n order_id: o203, restaurant_id: r29, destination: (10265, 6126), placement_time : 698, ready_time : 705 time_taken : 5.42307250592972,\n order_id: o186, restaurant_id: r28, destination: (7762, 7259), placement_time : 697, ready_time : 708 time_taken : 3.2265110499571876,\n order_id: o248, restaurant_id: r28, destination: (10538, 6376), placement_time : 698, ready_time : 709 time_taken : 4.63096382538105,\n order_id: o161, restaurant_id: r1, destination: (8248, 3376), placement_time : 703, ready_time : 713 time_taken : 1.2172670430630368,\n order_id: o151, restaurant_id: r1, destination: (6532, 1827), placement_time : 710, ready_time : 720 time_taken : 5.259202880250801,\n order_id: o142, restaurant_id: r13, destination: (5311, 4453), placement_time : 708, ready_time : 723 time_taken : 3.8018392310652165,\n order_id: o183, restaurant_id: r1, destination: (9781, 3889), placement_time : 703, ready_time : 723 time_taken : 4.626232377208339,\n order_id: o232, restaurant_id: r89, destination: (7776, 5710), placement_time : 697, ready_time : 724 time_taken : 4.6626011402574425,\n order_id: o239, restaurant_id: r90, destination: (5088, 5063), placement_time : 715, ready_time : 728 time_taken : 8.198579247445224,\n order_id: o199, restaurant_id: r37, destination: (8463, 5716), placement_time : 714, ready_time : 731 time_taken : 3.8868541391707554,\n order_id: o216, restaurant_id: r17, destination: (3746, 3041), placement_time : 732, ready_time : 740 time_taken : 10.200757824035001,\n order_id: o192, restaurant_id: r1, destination: (7543, 6769), placement_time : 733, ready_time : 743 time_taken : 7.290795707950967,\n order_id: o181, restaurant_id: r28, destination: (8664, 2088), placement_time : 720, ready_time : 745 time_taken : 9.505849896692295,\n order_id: o54, restaurant_id: r1, destination: (7481, 6086), placement_time : 740, ready_time : 750 time_taken : 5.717496794256237,\n order_id: o196, restaurant_id: r1, destination: (7076, 4008), placement_time : 732, ready_time : 752 time_taken : 1.9114489547328097,\n order_id: o1, restaurant_id: r1, destination: (8317, 5587), placement_time : 743, ready_time : 753 time_taken : 4.643598790182019,\n order_id: o99, restaurant_id: r52, destination: (9524, 6276), placement_time : 756, ready_time : 774 time_taken : 7.945415207821053,\n order_id: o81, restaurant_id: r1, destination: (8366, 6166), placement_time : 776, ready_time : 786 time_taken : 5.989233228489937,\n order_id: o35, restaurant_id: r29, destination: (8365, 6387), placement_time : 763, ready_time : 788 time_taken : 1.3302128343817516,\n order_id: o185, restaurant_id: r52, destination: (5734, 7677), placement_time : 778, ready_time : 788 time_taken : 1.5290641857848546,\n order_id: o92, restaurant_id: r28, destination: (10111, 5076), placement_time : 774, ready_time : 790 time_taken : 4.385879174968448,\n order_id: o231, restaurant_id: r14, destination: (5430, 4981), placement_time : 784, ready_time : 802 time_taken : 5.86935894986767,\n order_id: o132, restaurant_id: r63, destination: (8564, 6937), placement_time : 792, ready_time : 822 time_taken : 1.8750023538021776]"
     },
     "execution_count": 163,
     "metadata": {},
     "output_type": "execute_result"
    }
   ],
   "source": [
    "dr.unassigned_orders"
   ],
   "metadata": {
    "collapsed": false
   }
  },
  {
   "cell_type": "code",
   "execution_count": null,
   "outputs": [],
   "source": [],
   "metadata": {
    "collapsed": false
   }
  }
 ],
 "metadata": {
  "kernelspec": {
   "display_name": "Python 3.9.6 64-bit",
   "language": "python",
   "name": "python3"
  },
  "language_info": {
   "codemirror_mode": {
    "name": "ipython",
    "version": 3
   },
   "file_extension": ".py",
   "mimetype": "text/x-python",
   "name": "python",
   "nbconvert_exporter": "python",
   "pygments_lexer": "ipython3",
   "version": "3.9.6"
  },
  "orig_nbformat": 4,
  "vscode": {
   "interpreter": {
    "hash": "aee8b7b246df8f9039afb4144a1f6fd8d2ca17a180786b69acc140d282b71a49"
   }
  }
 },
 "nbformat": 4,
 "nbformat_minor": 2
}
