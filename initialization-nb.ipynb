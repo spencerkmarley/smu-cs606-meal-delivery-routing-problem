{
 "cells": [
  {
   "cell_type": "code",
   "execution_count": 11,
   "outputs": [],
   "source": [
    "import os, math, numpy as np"
   ],
   "metadata": {
    "collapsed": false
   }
  },
  {
   "cell_type": "code",
   "execution_count": 119,
   "outputs": [],
   "source": [
    "def get_travel_time(source: tuple, destination : tuple) -> float:\n",
    "    try:\n",
    "        return math.dist(source, destination) / 427\n",
    "    except:\n",
    "        print(source, destination)"
   ],
   "metadata": {
    "collapsed": false
   }
  },
  {
   "cell_type": "code",
   "execution_count": 120,
   "outputs": [],
   "source": [
    "### Calculate travel time between two points: origin and destination\n",
    "def traveltime(origin_id,destination_id,meters_per_minute,locations):\n",
    "    dist=np.sqrt((locations.at[destination_id,'x']-locations.at[origin_id,'x'])**2\\\n",
    "                +(locations.at[destination_id,'y']-locations.at[origin_id,'y'])**2)\n",
    "    tt=np.ceil(dist/meters_per_minute)\n",
    "    return tt"
   ],
   "metadata": {
    "collapsed": false
   }
  },
  {
   "cell_type": "markdown",
   "metadata": {},
   "source": [
    "# Read in data instance\n",
    "A folder of data instance has 5 files: (1) couriers.txt, (2) instance_characteristics.txt, (3) instance_parameters.txt, (4) orders.txt, (5) restaurants.txt"
   ]
  },
  {
   "cell_type": "code",
   "execution_count": 121,
   "metadata": {},
   "outputs": [],
   "source": [
    "# Read instance information\n",
    "def read_instance_information(instance_dir):\n",
    "    orders=pd.read_table(os.path.join(instance_dir,'orders.txt'))\n",
    "    restaurants=pd.read_table(os.path.join(instance_dir,'restaurants.txt'))\n",
    "    couriers=pd.read_table(os.path.join(instance_dir,'couriers.txt'))\n",
    "    instanceparams=pd.read_table(os.path.join(instance_dir,'instance_parameters.txt'))\n",
    "\n",
    "    order_locations=pd.DataFrame(data=[orders.order,orders.x,orders.y]).transpose()\n",
    "    order_locations.columns=['id','x','y']\n",
    "    restaurant_locations=pd.DataFrame(data=[restaurants.restaurant,restaurants.x,restaurants.y]).transpose()\n",
    "    restaurant_locations.columns=['id','x','y']\n",
    "    courier_locations=pd.DataFrame(data=[couriers.courier,couriers.x,couriers.y]).transpose()\n",
    "    courier_locations.columns=['id','x','y']\n",
    "    locations=pd.concat([order_locations,restaurant_locations,courier_locations])\n",
    "    # locations.set_index('id',inplace=True)\n",
    "    #\n",
    "    # orders.set_index('order',inplace=True)\n",
    "    # couriers.set_index('courier',inplace=True)\n",
    "    # restaurants.set_index('restaurant',inplace=True)\n",
    "\n",
    "    meters_per_minute=instanceparams.at[0,'meters_per_minute']\n",
    "    pickup_service_minutes=instanceparams.at[0,'pickup service minutes']\n",
    "    dropoff_service_minutes=instanceparams.at[0,'dropoff service minutes']\n",
    "    target_click_to_door=instanceparams.at[0,'target click-to-door']\n",
    "    pay_per_order=instanceparams.at[0,'pay per order']\n",
    "    guaranteed_pay_per_hour=instanceparams.at[0,'guaranteed pay per hour']\n",
    "\n",
    "    return orders,restaurants,couriers,instanceparams,locations"
   ]
  },
  {
   "cell_type": "code",
   "execution_count": 122,
   "metadata": {},
   "outputs": [],
   "source": [
    "import pandas as pd\n",
    "instance_dir = 'data/0o50t75s1p100'\n",
    "orders,restaurants,couriers,instanceparams,locations=read_instance_information(instance_dir)"
   ]
  },
  {
   "cell_type": "markdown",
   "metadata": {},
   "source": [
    "# Set hyper-parameters:\n",
    "f∶ every f minutes solves a matching problem to prescribe the next pick-up and delivery assignment for each courier<br>\n",
    "t : optimization time<br>\n",
    "∆_(u): t+ ∆_(u ) is the assignment horizon<br>\n",
    "∆_(1); ∆_(2): to determine Z_(t)<br>\n",
    "beta: control the freshness in the construction of bundles\n",
    "gamma: control the click to door time in the construction of bundles\n"
   ]
  },
  {
   "cell_type": "code",
   "execution_count": 123,
   "metadata": {},
   "outputs": [],
   "source": [
    "# Accorting to default values in the paper\n",
    "f = 5\n",
    "delta_u = 10\n",
    "delta_1 = 10\n",
    "delta_2 = 10\n",
    "# Not find in the paper\n",
    "beta = 10 # should be tuned\n",
    "gamma = 10 # should be tuned"
   ]
  },
  {
   "cell_type": "code",
   "execution_count": 124,
   "outputs": [],
   "source": [
    "restaurant_dict = restaurants.set_index('restaurant').to_dict()"
   ],
   "metadata": {
    "collapsed": false
   }
  },
  {
   "cell_type": "markdown",
   "metadata": {},
   "source": [
    "# Procedure to initialize a solution"
   ]
  },
  {
   "cell_type": "markdown",
   "metadata": {},
   "source": [
    "**Function that return U(t,r)**<br>\n",
    "U(t,r) is the set of upcoming orders at restaurant r"
   ]
  },
  {
   "cell_type": "markdown",
   "metadata": {},
   "source": [
    "**Courier Object**"
   ]
  },
  {
   "cell_type": "code",
   "execution_count": 262,
   "outputs": [],
   "source": [
    "class Order:\n",
    "    def __init__(self, order_information : dict):\n",
    "\n",
    "        self.order_id = order_information.get('order')\n",
    "        self.destination = (order_information.get('x'), order_information.get('y'))\n",
    "        self.placement_time = order_information.get('placement_time')\n",
    "        self.restaurant_id = order_information.get('restaurant')\n",
    "        self.ready_time = order_information.get('ready_time')\n",
    "\n",
    "        self.restaurant_coord = (restaurant_dict['x'][self.restaurant_id], restaurant_dict['y'][self.restaurant_id])\n",
    "        self.delivered_time = None\n",
    "\n",
    "    def __repr__(self):\n",
    "        return \"order_id : {} destination : {} placement_time : {} restaurant_id : {} ready_time : {} delivered_time : \".format(\n",
    "            self.order_id, self.destination, self.placement_time, self.restaurant_id, self.ready_time, self.delivered_time\n",
    "        )\n"
   ],
   "metadata": {
    "collapsed": false
   }
  },
  {
   "cell_type": "code",
   "execution_count": 263,
   "metadata": {},
   "outputs": [],
   "source": [
    "class Courier(object):\n",
    "    def __init__(self, courier_information : dict, restaurant : dict):\n",
    "        self.courier = courier_information.get('courier')\n",
    "        self.on_time = courier_information.get('on_time')\n",
    "        self.off_time = courier_information.get('off_time')\n",
    "\n",
    "        # Update and derived along the way\n",
    "        self.travel = []\n",
    "        self.visited = []\n",
    "\n",
    "        # self.next_available_time = # a dictionary containing restaurant as key and available time as value\n",
    "        self.final_position = self.interim_position = (courier_information.get('x'), courier_information.get('y'))\n",
    "        self.distance_travelled = 0\n",
    "\n",
    "        self.final_time = self.interim_time = self.on_time\n",
    "\n",
    "    @staticmethod\n",
    "    def calculate_travel_time(source: tuple,\n",
    "                              restaurant:tuple,\n",
    "                              destination: tuple) -> float:\n",
    "\n",
    "        return get_travel_time(source, restaurant) + get_travel_time(restaurant, destination)\n",
    "\n",
    "   # check if the courier can take the order\n",
    "    def can_assign(self, order : Order) -> bool:\n",
    "        # if the ready time < courier's off time\n",
    "        if order.ready_time < self.on_time:\n",
    "            return False\n",
    "        if order.ready_time > self.off_time:\n",
    "            return False\n",
    "\n",
    "    # assign an order to courier\n",
    "    def assign_order(self, order: Order) -> bool:\n",
    "        # update available time for the next assignment\n",
    "        _, restaurant_x, restaurant_y = restaurants[restaurants['restaurant'] == order.restaurant].values[0]\n",
    "        if self.can_assign(order):\n",
    "            self.orders.append(order)\n",
    "            self.interim_time += self.calculate_travel_time(self.interim_position, (restaurant_x, restaurant_y), orders.destination)\n",
    "\n",
    "    def __repr__(self):\n",
    "        return \"courier_id : {} current_coord : {} on_time : {} off_time : {} current_time : {}\".format(\n",
    "            self.courier, self.final_position, self.on_time, self.off_time, self.final_time\n",
    "        )"
   ]
  },
  {
   "cell_type": "code",
   "execution_count": 404,
   "outputs": [],
   "source": [
    "class DeliveryRouting:\n",
    "    def __init__(self, instance_dir : str, target_bundle_size : int = 5, f : int = 5, delta_u : int = 10):\n",
    "        self.target_bundle_size = target_bundle_size\n",
    "        self.delta_u = delta_u\n",
    "        self.f = f\n",
    "\n",
    "        orders, restaurants, couriers, instanceparams, locations = read_instance_information(instance_dir)\n",
    "\n",
    "        self.orders = [Order(order) for order in orders.to_dict(orient = 'records')]\n",
    "        self.orders = sorted(self.orders, key = lambda x: x.ready_time)\n",
    "\n",
    "        self.restaurants = restaurants.to_dict(orient = 'records')\n",
    "        self.couriers = [Courier(courier, self.restaurants) for courier in couriers.to_dict(orient = 'records')]\n",
    "        self.unassigned_orders = self.orders.copy()\n",
    "\n",
    "        self.instance_params = instanceparams.to_dict(orient = 'records')[0]\n",
    "\n",
    "        self.meters_per_minute, self.pickup_service_minutes, self.dropoff_service_minutes, \\\n",
    "            self.target_click_to_door, self.maximum_click_to_door, self.pay_per_order,\\\n",
    "            self.guaranteed_pay_per_hour = self.instance_params.values()\n",
    "\n",
    "        self.bundles = {}\n",
    "        self.bundles_assigned = {}\n",
    "\n",
    "    @staticmethod\n",
    "    def calculate_travel_time(source: tuple,\n",
    "                              restaurant:tuple,\n",
    "                              destination: tuple = None) -> float:\n",
    "\n",
    "        if destination is not None:\n",
    "            return get_travel_time(source, restaurant) + get_travel_time(restaurant, destination)\n",
    "        return get_travel_time(source, restaurant)\n",
    "\n",
    "    def check_can_bundle(self,\n",
    "                         courier : Courier,\n",
    "                         existing_bundle : [Order],\n",
    "                         new_order : Order):\n",
    "\n",
    "        total_time_taken = 0\n",
    "        max_leave_time = max([order.ready_time for order in existing_bundle])\n",
    "        max_leave_time = max(self.calculate_travel_time(courier.final_position, new_order.restaurant_coord), max_leave_time)\n",
    "        max_leave_time = max(max_leave_time, new_order.ready_time) + 4\n",
    "\n",
    "        if max_leave_time >= existing_bundle[0].ready_time + 90:\n",
    "            return False\n",
    "\n",
    "        if existing_bundle[-1].restaurant_id != new_order.restaurant_id:\n",
    "            return False\n",
    "\n",
    "        if new_order.ready_time > courier.off_time:\n",
    "            return False\n",
    "\n",
    "        if new_order.ready_time < courier.on_time:\n",
    "            return False\n",
    "\n",
    "        return max_leave_time\n",
    "\n",
    "    def get_bundle_size(self, z : int) -> int :\n",
    "        # available = [courier for courier in self.couriers if courier.]\n",
    "        pass\n",
    "\n",
    "    def __is_unassigned(self,\n",
    "                      order_id : str) -> bool:\n",
    "\n",
    "        for order in self.unassigned_orders:\n",
    "            if order.order_id == order_id:\n",
    "                return True\n",
    "        return False\n",
    "\n",
    "    def __assign_order(self,\n",
    "                       courier : Courier,\n",
    "                       to_assign_order : Order) -> bool:\n",
    "\n",
    "        courier.current_time = self.calculate_travel_time(courier.interim_position, to_assign_order.restaurant_coord, to_assign_order.destination)\n",
    "        courier.interim_position = to_assign_order.destination\n",
    "\n",
    "        for order in self.unassigned_orders:\n",
    "            if order.order_id == to_assign_order.order_id:\n",
    "                self.unassigned_orders.remove(order)\n",
    "                return\n",
    "\n",
    "    def __get_available_couriers(self,\n",
    "                                 t : int):\n",
    "        return [courier for courier in self.couriers if courier.on_time <= t and courier.off_time >= t]\n",
    "\n",
    "    def get_available_couriers(self,\n",
    "                                 t : int):\n",
    "        return [courier for courier in self.couriers if courier.on_time <= t and courier.off_time >= t]\n",
    "\n",
    "    def __get_available_orders(self,\n",
    "                               t : int):\n",
    "        return [order for order in self.unassigned_orders if order.ready_time <= t + self.delta_u]\n",
    "\n",
    "    def get_available_orders(self,\n",
    "                               t : int):\n",
    "        return [order for order in self.unassigned_orders if order.ready_time <= t + self.delta_u]\n",
    "\n",
    "    def __get_courier(self, courier_id : str):\n",
    "        for courier in self.couriers:\n",
    "            if courier.courier == courier_id:\n",
    "                return courier\n",
    "\n",
    "    def __update_order(self,\n",
    "                       order_id,\n",
    "                       delivered_time):\n",
    "\n",
    "        assert isinstance(order_id, str), \"Please use Order ID instead.\"\n",
    "\n",
    "        arr = []\n",
    "        for order in self.orders:\n",
    "            if order.order_id == order_id:\n",
    "                order.delivered_time = delivered_time\n",
    "            arr.append(order)\n",
    "        self.orders = arr\n",
    "\n",
    "    def __update_courier(self,\n",
    "                         courier_id,\n",
    "                         time,\n",
    "                         location):\n",
    "        arr = []\n",
    "        for courier in self.couriers:\n",
    "            if courier.courier == courier_id:\n",
    "                courier.final_time = courier.interim_time = time\n",
    "                courier.final_location = courier.current_location = location\n",
    "            arr.append(courier)\n",
    "        self.couriers = arr\n",
    "\n",
    "    def assign_task(self, t : int):\n",
    "        available_orders = self.__get_available_orders(t)\n",
    "        available_couriers = self.__get_available_couriers(t)\n",
    "\n",
    "        for order in available_orders:\n",
    "\n",
    "            # Check whether can bundle first\n",
    "            for bundle_id, bundle in self.bundles.items():\n",
    "                if self.__is_unassigned(order.order_id):\n",
    "                    courier_assigned_id = self.bundles_assigned[bundle_id]\n",
    "                    courier = self.__get_courier(courier_assigned_id)\n",
    "                    if self.check_can_bundle(courier, bundle, order):\n",
    "                        bundle.append(order)\n",
    "                        self.__assign_order(courier, order)\n",
    "\n",
    "\n",
    "            if self.__is_unassigned(order.order_id):\n",
    "\n",
    "                for _, bundle in self.bundles.items():\n",
    "                    courier_assigned_id = self.bundles_assigned[bundle_id]\n",
    "                    courier = self.__get_courier(courier_assigned_id)\n",
    "                    self.move_courier(courier.courier, bundle)\n",
    "\n",
    "\n",
    "                min_time = 1e9\n",
    "                is_assigned = False\n",
    "                for courier in available_couriers:\n",
    "                    courier_time = courier.final_time\n",
    "\n",
    "                    travel_time = courier_time + self.calculate_travel_time(courier.final_position,order.restaurant_coord)\n",
    "                    leave_time = max(travel_time, order.ready_time) + 4\n",
    "                    next_leg = self.calculate_travel_time(order.restaurant_coord, order.destination) + 4\n",
    "\n",
    "                    if (leave_time + next_leg) < min_time:\n",
    "                        min_time = leave_time + next_leg\n",
    "                        courier_assigned = courier\n",
    "                        is_assigned = True\n",
    "\n",
    "                if is_assigned:\n",
    "                    bundle_id = len(self.bundles_assigned.keys())\n",
    "                    self.bundles[bundle_id] = [order]\n",
    "                    self.bundles_assigned[bundle_id] = courier_assigned.courier\n",
    "\n",
    "    def move_courier(self, courier_id : int, list_of_orders_to_move : [Order]):\n",
    "        courier = self.__get_courier(courier_id)\n",
    "        bundle_assigned = list_of_orders_to_move\n",
    "\n",
    "        for order in list_of_orders_to_move:\n",
    "            self.__assign_order(courier, order)\n",
    "\n",
    "        time = self.calculate_travel_time(courier.final_position, bundle_assigned[0].restaurant_coord) + 4\n",
    "\n",
    "        if len(list_of_orders_to_move) > 1:\n",
    "            for index in range(len(bundle_assigned) - 1):\n",
    "                previous_order = bundle_assigned[index]\n",
    "                restaurant_coord = previous_order.restaurant_coord\n",
    "\n",
    "                next_order = bundle_assigned[index]\n",
    "\n",
    "                if index == 0:\n",
    "                    delivered_time = self.calculate_travel_time(courier.final_position, restaurant_coord, previous_order.destination) + 4\n",
    "                    self.__update_order(previous_order.order_id, delivered_time)\n",
    "\n",
    "                time += self.calculate_travel_time(restaurant_coord, previous_order.destination, next_order.destination) + 4\n",
    "                self.__update_order(next_order.order_id, delivered_time)\n",
    "\n",
    "        else:\n",
    "            next_order = list_of_orders_to_move[0]\n",
    "            time = self.calculate_travel_time(courier.final_position, bundle_assigned[0].restaurant_coord, bundle_assigned[0].destination) + 8\n",
    "            self.__update_order(next_order.order_id, self.calculate_travel_time(courier.final_position, bundle_assigned[0].restaurant_coord, bundle_assigned[0].destination) + 4)\n",
    "\n",
    "\n",
    "        self.__update_courier(courier_id, time, next_order.destination)"
   ],
   "metadata": {
    "collapsed": false
   }
  },
  {
   "cell_type": "code",
   "execution_count": 405,
   "outputs": [],
   "source": [
    "instance_dir = 'data/0o50t75s1p100'\n",
    "dr = DeliveryRouting(instance_dir)\n",
    "dr.assign_task(60)"
   ],
   "metadata": {
    "collapsed": false
   }
  },
  {
   "cell_type": "code",
   "execution_count": 406,
   "outputs": [
    {
     "data": {
      "text/plain": "{0: [order_id : o146 destination : (3695, 3690) placement_time : 13 restaurant_id : r54 ready_time : 28 delivered_time : ],\n 1: [order_id : o89 destination : (7663, 2842) placement_time : 24 restaurant_id : r50 ready_time : 29 delivered_time : ],\n 2: [order_id : o240 destination : (9386, 5834) placement_time : 29 restaurant_id : r67 ready_time : 46 delivered_time : ,\n  order_id : o159 destination : (10213, 5982) placement_time : 36 restaurant_id : r67 ready_time : 56 delivered_time : ],\n 3: [order_id : o227 destination : (9334, 6307) placement_time : 33 restaurant_id : r39 ready_time : 48 delivered_time : ]}"
     },
     "execution_count": 406,
     "metadata": {},
     "output_type": "execute_result"
    }
   ],
   "source": [
    "dr.bundles"
   ],
   "metadata": {
    "collapsed": false
   }
  },
  {
   "cell_type": "code",
   "execution_count": 407,
   "outputs": [
    {
     "data": {
      "text/plain": "{0: 'c1', 1: 'c1', 2: 'c1', 3: 'c1'}"
     },
     "execution_count": 407,
     "metadata": {},
     "output_type": "execute_result"
    }
   ],
   "source": [
    "dr.bundles_assigned"
   ],
   "metadata": {
    "collapsed": false
   }
  },
  {
   "cell_type": "markdown",
   "metadata": {},
   "source": [
    "**Funtion that calculate bundel size Z(t)**"
   ]
  },
  {
   "cell_type": "markdown",
   "metadata": {},
   "source": [
    "**Function that calculate k(r,t)**<br>\n",
    "k(r,t) is the number of couriers who are available at restaurant r"
   ]
  },
  {
   "cell_type": "code",
   "execution_count": 353,
   "metadata": {},
   "outputs": [],
   "source": [
    "def get_available_courier(t,r):\n",
    "    ..."
   ]
  },
  {
   "cell_type": "markdown",
   "metadata": {},
   "source": [
    "**Route object**<br>\n",
    "A route is a bundle,i.e: a list of ordered orders"
   ]
  },
  {
   "cell_type": "code",
   "execution_count": null,
   "metadata": {},
   "outputs": [],
   "source": [
    "class Route(object):\n",
    "    def __init__:\n",
    "    \n",
    "    # calculate total travel time from 1st destination to the last destination of the route\n",
    "    def total_travel_time():\n",
    "\n",
    "    # calculate total service delay    \n",
    "    def total_service_delay():\n",
    "        #<to be discuss>\n",
    "\n",
    "    # calculate total_click_to_door \n",
    "    def total_click_to_door():\n",
    "        #<to be discuss>\n",
    "\n",
    "    # calculate route efficiency: travel time per order:\n",
    "    def route_efficiency():\n",
    "\n",
    "    # calculate route cost\n",
    "    def route_cost():\n",
    "        #route_cost = total_travel_time + beta*total_service_delay + gamma*total_click_to_door\n"
   ]
  },
  {
   "cell_type": "markdown",
   "metadata": {},
   "source": [
    "# Implement procedure 1"
   ]
  }
 ],
 "metadata": {
  "kernelspec": {
   "display_name": "Python 3.9.6 64-bit",
   "language": "python",
   "name": "python3"
  },
  "language_info": {
   "codemirror_mode": {
    "name": "ipython",
    "version": 3
   },
   "file_extension": ".py",
   "mimetype": "text/x-python",
   "name": "python",
   "nbconvert_exporter": "python",
   "pygments_lexer": "ipython3",
   "version": "3.9.6"
  },
  "orig_nbformat": 4,
  "vscode": {
   "interpreter": {
    "hash": "aee8b7b246df8f9039afb4144a1f6fd8d2ca17a180786b69acc140d282b71a49"
   }
  }
 },
 "nbformat": 4,
 "nbformat_minor": 2
}
