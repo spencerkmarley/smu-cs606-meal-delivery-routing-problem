{
 "cells": [
  {
   "cell_type": "code",
   "execution_count": 17,
   "outputs": [],
   "source": [
    "import os, math"
   ],
   "metadata": {
    "collapsed": false
   }
  },
  {
   "cell_type": "code",
   "execution_count": 10,
   "outputs": [],
   "source": [
    "### Calculate travel time between two points: origin and destination\n",
    "def traveltime(origin_id,destination_id,meters_per_minute,locations):\n",
    "    dist=np.sqrt((locations.at[destination_id,'x']-locations.at[origin_id,'x'])**2\\\n",
    "                +(locations.at[destination_id,'y']-locations.at[origin_id,'y'])**2)\n",
    "    tt=np.ceil(dist/meters_per_minute)\n",
    "    return tt"
   ],
   "metadata": {
    "collapsed": false
   }
  },
  {
   "cell_type": "markdown",
   "metadata": {},
   "source": [
    "# Read in data instance\n",
    "A folder of data instance has 5 files: (1) couriers.txt, (2) instance_characteristics.txt, (3) instance_parameters.txt, (4) orders.txt, (5) restaurants.txt"
   ]
  },
  {
   "cell_type": "code",
   "execution_count": 55,
   "metadata": {},
   "outputs": [],
   "source": [
    "# Read instance information\n",
    "def read_instance_information(instance_dir):\n",
    "    orders=pd.read_table(os.path.join(instance_dir,'orders.txt'))\n",
    "    restaurants=pd.read_table(os.path.join(instance_dir,'restaurants.txt'))\n",
    "    couriers=pd.read_table(os.path.join(instance_dir,'couriers.txt'))\n",
    "    instanceparams=pd.read_table(os.path.join(instance_dir,'instance_parameters.txt'))\n",
    "\n",
    "    order_locations=pd.DataFrame(data=[orders.order,orders.x,orders.y]).transpose()\n",
    "    order_locations.columns=['id','x','y']\n",
    "    restaurant_locations=pd.DataFrame(data=[restaurants.restaurant,restaurants.x,restaurants.y]).transpose()\n",
    "    restaurant_locations.columns=['id','x','y']\n",
    "    courier_locations=pd.DataFrame(data=[couriers.courier,couriers.x,couriers.y]).transpose()\n",
    "    courier_locations.columns=['id','x','y']\n",
    "    locations=pd.concat([order_locations,restaurant_locations,courier_locations])\n",
    "    # locations.set_index('id',inplace=True)\n",
    "    #\n",
    "    # orders.set_index('order',inplace=True)\n",
    "    # couriers.set_index('courier',inplace=True)\n",
    "    # restaurants.set_index('restaurant',inplace=True)\n",
    "\n",
    "    meters_per_minute=instanceparams.at[0,'meters_per_minute']\n",
    "    pickup_service_minutes=instanceparams.at[0,'pickup service minutes']\n",
    "    dropoff_service_minutes=instanceparams.at[0,'dropoff service minutes']\n",
    "    target_click_to_door=instanceparams.at[0,'target click-to-door']\n",
    "    pay_per_order=instanceparams.at[0,'pay per order']\n",
    "    guaranteed_pay_per_hour=instanceparams.at[0,'guaranteed pay per hour']\n",
    "\n",
    "    return orders,restaurants,couriers,instanceparams,locations"
   ]
  },
  {
   "cell_type": "code",
   "execution_count": 28,
   "metadata": {},
   "outputs": [],
   "source": [
    "import pandas as pd\n",
    "instance_dir = 'data/0o50t75s1p100'\n",
    "orders,restaurants,couriers,instanceparams,locations,meters_per_minute,\\\n",
    "           pickup_service_minutes,dropoff_service_minutes,target_click_to_door,\\\n",
    "           pay_per_order,guaranteed_pay_per_hour=read_instance_information(instance_dir)"
   ]
  },
  {
   "cell_type": "markdown",
   "metadata": {},
   "source": [
    "# Set hyper-parameters:\n",
    "f∶ every f minutes solves a matching problem to prescribe the next pick-up and delivery assignment for each courier<br>\n",
    "t : optimization time<br>\n",
    "∆_(u): t+ ∆_(u ) is the assignment horizon<br>\n",
    "∆_(1); ∆_(2): to determine Z_(t)<br>\n",
    "beta: control the freshness in the construction of bundles\n",
    "gamma: control the click to door time in the construction of bundles\n"
   ]
  },
  {
   "cell_type": "code",
   "execution_count": 14,
   "metadata": {},
   "outputs": [],
   "source": [
    "# Accorting to default values in the paper\n",
    "f = 5\n",
    "delta_u = 10\n",
    "delta_1 = 10\n",
    "delta_2 = 10\n",
    "# Not find in the paper\n",
    "beta = 10 # should be tuned\n",
    "gamma = 10 # should be tuned"
   ]
  },
  {
   "cell_type": "markdown",
   "metadata": {},
   "source": [
    "# Procedure to initialize a solution"
   ]
  },
  {
   "cell_type": "markdown",
   "metadata": {},
   "source": [
    "**Function that return U(t,r)**<br>\n",
    "U(t,r) is the set of upcoming orders at restaurant r"
   ]
  },
  {
   "cell_type": "code",
   "execution_count": 67,
   "metadata": {},
   "outputs": [],
   "source": [
    "def create_set_U_tr(t,r):\n",
    "    ..."
   ]
  },
  {
   "cell_type": "markdown",
   "metadata": {},
   "source": [
    "**Courier Object**"
   ]
  },
  {
   "cell_type": "code",
   "execution_count": 45,
   "outputs": [],
   "source": [
    "class Order:\n",
    "    def __init__(self, order_information : dict):\n",
    "\n",
    "        self.order_id = order_information.get('order')\n",
    "        self.destination = (order_information.get('x'), order_information.get('y'))\n",
    "        self.placement_time = order_information.get('placement_time')\n",
    "        self.restaurant_id = order_information.get('restaurant')\n",
    "        self.ready_time = order_information.get('ready_time')"
   ],
   "metadata": {
    "collapsed": false
   }
  },
  {
   "cell_type": "code",
   "execution_count": 110,
   "metadata": {},
   "outputs": [],
   "source": [
    "class Courier(object):\n",
    "    def __init__(self, courier_information : dict, restaurant : dict):\n",
    "        self.courier = courier_information.get('courier')\n",
    "        self.x = courier_information.get('x')\n",
    "        self.y = courier_information.get('y')\n",
    "        self.on_time = courier_information.get('on_time')\n",
    "        self.off_time = courier_information.get('off_time')\n",
    "\n",
    "        # Update and derived along the way\n",
    "        self.travel = []\n",
    "        self.visited = []\n",
    "        self.orders = []\n",
    "        # self.next_available_time = # a dictionary containing restaurant as key and available time as value\n",
    "        self.current_position = (self.x, self.y)\n",
    "        self.distance_travelled = 0\n",
    "        self.current_time = self.on_time\n",
    "\n",
    "        self.restaurant = restaurant\n",
    "\n",
    "    @staticmethod\n",
    "    def calculate_travel_time(source: tuple, restaurant:tuple, destination: tuple) -> float:\n",
    "        return math.dist(source, restaurant) / meters_per_minute + math.dist(restaurant, destination) / meters_per_minute\n",
    "\n",
    "   # check if the courier can take the order\n",
    "    def can_assign(self, order : Order) -> bool:\n",
    "        # if the ready time < courier's off time\n",
    "        if order.ready_time < self.on_time:\n",
    "            return False\n",
    "        if order.ready_time > self.off_time:\n",
    "            return False\n",
    "\n",
    "    # assign an order to courier\n",
    "    def assign_order(self, order: Order) -> bool:\n",
    "        # update available time for the next assignment\n",
    "        _, restaurant_x, restaurant_y = restaurants[restaurants['restaurant'] == order.restaurant].values[0]\n",
    "        if self.can_assign(order):\n",
    "            self.orders.append(order)\n",
    "            self.current_time += self.calculate_travel_time(self.current_position, (restaurant_x, restaurant_y), orders.destination)"
   ]
  },
  {
   "cell_type": "code",
   "execution_count": 111,
   "outputs": [],
   "source": [
    "class DeliveryRouting:\n",
    "    def __init__(self, instance_dir : str ):\n",
    "        orders, restaurants, couriers, instanceparams, locations = read_instance_information(instance_dir)\n",
    "\n",
    "        self.orders = [Order(order) for order in orders.to_dict(orient = 'records')]\n",
    "        self.restaurants = restaurants.to_dict(orient = 'records')\n",
    "        self.couriers = [Courier(courier, self.restaurants) for courier in couriers.to_dict(orient = 'records')]\n",
    "        self.unassigned_orders = self.orders.copy()\n",
    "\n",
    "        self.instance_params = instanceparams.to_dict(orient = 'records')[0]\n",
    "\n",
    "        self.meters_per_minute, self.pickup_service_minutes, self.dropoff_service_minutes, \\\n",
    "            self.target_click_to_door, self.maximum_click_to_door, self.pay_per_order,\\\n",
    "            self.guaranteed_pay_per_hour = self.instance_params.values()\n",
    "\n",
    "\n",
    "    def random_initialization(self):\n",
    "        pass"
   ],
   "metadata": {
    "collapsed": false
   }
  },
  {
   "cell_type": "code",
   "execution_count": 112,
   "outputs": [],
   "source": [
    "# orders,restaurants,couriers,instanceparams,locations"
   ],
   "metadata": {
    "collapsed": false
   }
  },
  {
   "cell_type": "code",
   "execution_count": 113,
   "outputs": [
    {
     "data": {
      "text/plain": "[<__main__.Order at 0x7feb2029bfd0>,\n <__main__.Order at 0x7feb202a7c88>,\n <__main__.Order at 0x7feb202a7cc0>,\n <__main__.Order at 0x7feb202a7cf8>,\n <__main__.Order at 0x7feb202a7d30>,\n <__main__.Order at 0x7feb202a7d68>,\n <__main__.Order at 0x7feb202a7a90>,\n <__main__.Order at 0x7feb202a7ba8>,\n <__main__.Order at 0x7feb202a7710>,\n <__main__.Order at 0x7feb202a77f0>,\n <__main__.Order at 0x7feb202a7358>,\n <__main__.Order at 0x7feb202a70b8>,\n <__main__.Order at 0x7feb202a7da0>,\n <__main__.Order at 0x7feb202a7dd8>,\n <__main__.Order at 0x7feb202a7e10>,\n <__main__.Order at 0x7feb202a7e48>,\n <__main__.Order at 0x7feb202a7e80>,\n <__main__.Order at 0x7feb202a7eb8>,\n <__main__.Order at 0x7feb202a7ef0>,\n <__main__.Order at 0x7feb202a7f28>,\n <__main__.Order at 0x7feb202a7f60>,\n <__main__.Order at 0x7feb202a7f98>,\n <__main__.Order at 0x7feb202a7fd0>,\n <__main__.Order at 0x7feb202a7240>,\n <__main__.Order at 0x7feb202a72e8>,\n <__main__.Order at 0x7feb202a7278>,\n <__main__.Order at 0x7feb202a72b0>,\n <__main__.Order at 0x7feb202a7198>,\n <__main__.Order at 0x7feb202a7208>,\n <__main__.Order at 0x7feb202a7630>,\n <__main__.Order at 0x7feb202a7668>,\n <__main__.Order at 0x7feb202a76a0>,\n <__main__.Order at 0x7feb202a76d8>,\n <__main__.Order at 0x7feb202a7588>,\n <__main__.Order at 0x7feb202a75f8>,\n <__main__.Order at 0x7feb202a7438>,\n <__main__.Order at 0x7feb202a7978>,\n <__main__.Order at 0x7feb202a7a20>,\n <__main__.Order at 0x7feb202a79b0>,\n <__main__.Order at 0x7feb202a79e8>,\n <__main__.Order at 0x7feb202a78d0>,\n <__main__.Order at 0x7feb202a7940>,\n <__main__.Order at 0x7feb202a7748>,\n <__main__.Order at 0x7fead80a3048>,\n <__main__.Order at 0x7fead80a3080>,\n <__main__.Order at 0x7fead80a30b8>,\n <__main__.Order at 0x7fead80a30f0>,\n <__main__.Order at 0x7fead80a3128>,\n <__main__.Order at 0x7fead80a3160>,\n <__main__.Order at 0x7fead80a3198>,\n <__main__.Order at 0x7fead80a31d0>,\n <__main__.Order at 0x7fead80a3208>,\n <__main__.Order at 0x7fead80a3240>,\n <__main__.Order at 0x7fead80a3278>,\n <__main__.Order at 0x7fead80a32b0>,\n <__main__.Order at 0x7fead80a32e8>,\n <__main__.Order at 0x7fead80a3320>,\n <__main__.Order at 0x7fead80a3358>,\n <__main__.Order at 0x7fead80a3390>,\n <__main__.Order at 0x7fead80a33c8>,\n <__main__.Order at 0x7fead80a3400>,\n <__main__.Order at 0x7fead80a3438>,\n <__main__.Order at 0x7fead80a3470>,\n <__main__.Order at 0x7fead80a34a8>,\n <__main__.Order at 0x7fead80a34e0>,\n <__main__.Order at 0x7fead80a3518>,\n <__main__.Order at 0x7fead80a3550>,\n <__main__.Order at 0x7fead80a3588>,\n <__main__.Order at 0x7fead80a35c0>,\n <__main__.Order at 0x7fead80a35f8>,\n <__main__.Order at 0x7fead80a3630>,\n <__main__.Order at 0x7fead80a3668>,\n <__main__.Order at 0x7fead80a36a0>,\n <__main__.Order at 0x7fead80a36d8>,\n <__main__.Order at 0x7fead80a3710>,\n <__main__.Order at 0x7fead80a3748>,\n <__main__.Order at 0x7fead80a3780>,\n <__main__.Order at 0x7fead80a37b8>,\n <__main__.Order at 0x7fead80a37f0>,\n <__main__.Order at 0x7fead80a3828>,\n <__main__.Order at 0x7fead80a3860>,\n <__main__.Order at 0x7fead80a3898>,\n <__main__.Order at 0x7fead80a38d0>,\n <__main__.Order at 0x7fead80a3908>,\n <__main__.Order at 0x7fead80a3940>,\n <__main__.Order at 0x7fead80a3978>,\n <__main__.Order at 0x7fead80a39b0>,\n <__main__.Order at 0x7fead80a39e8>,\n <__main__.Order at 0x7fead80a3a20>,\n <__main__.Order at 0x7fead80a3a58>,\n <__main__.Order at 0x7fead80a3a90>,\n <__main__.Order at 0x7fead80a3ac8>,\n <__main__.Order at 0x7fead80a3b00>,\n <__main__.Order at 0x7fead80a3b38>,\n <__main__.Order at 0x7fead80a3b70>,\n <__main__.Order at 0x7fead80a3ba8>,\n <__main__.Order at 0x7fead80a3be0>,\n <__main__.Order at 0x7fead80a3c18>,\n <__main__.Order at 0x7fead80a3c50>,\n <__main__.Order at 0x7fead80a3c88>,\n <__main__.Order at 0x7fead80a3cc0>,\n <__main__.Order at 0x7fead80a3cf8>,\n <__main__.Order at 0x7fead80a3d30>,\n <__main__.Order at 0x7fead80a3d68>,\n <__main__.Order at 0x7fead80a3da0>,\n <__main__.Order at 0x7fead80a3dd8>,\n <__main__.Order at 0x7fead80a3e10>,\n <__main__.Order at 0x7fead80a3e48>,\n <__main__.Order at 0x7fead80a3e80>,\n <__main__.Order at 0x7fead80a3eb8>,\n <__main__.Order at 0x7fead80a3ef0>,\n <__main__.Order at 0x7fead80a3f28>,\n <__main__.Order at 0x7fead80a3f60>,\n <__main__.Order at 0x7fead80a3f98>,\n <__main__.Order at 0x7fead80a3fd0>,\n <__main__.Order at 0x7fead80a4048>,\n <__main__.Order at 0x7fead80a4080>,\n <__main__.Order at 0x7fead80a40b8>,\n <__main__.Order at 0x7fead80a40f0>,\n <__main__.Order at 0x7fead80a4128>,\n <__main__.Order at 0x7fead80a4160>,\n <__main__.Order at 0x7fead80a4198>,\n <__main__.Order at 0x7fead80a41d0>,\n <__main__.Order at 0x7fead80a4208>,\n <__main__.Order at 0x7fead80a4240>,\n <__main__.Order at 0x7fead80a4278>,\n <__main__.Order at 0x7fead80a42b0>,\n <__main__.Order at 0x7fead80a42e8>,\n <__main__.Order at 0x7fead80a4320>,\n <__main__.Order at 0x7fead80a4358>,\n <__main__.Order at 0x7fead80a4390>,\n <__main__.Order at 0x7fead80a43c8>,\n <__main__.Order at 0x7fead80a4400>,\n <__main__.Order at 0x7fead80a4438>,\n <__main__.Order at 0x7fead80a4470>,\n <__main__.Order at 0x7fead80a44a8>,\n <__main__.Order at 0x7fead80a44e0>,\n <__main__.Order at 0x7fead80a4518>,\n <__main__.Order at 0x7fead80a4550>,\n <__main__.Order at 0x7fead80a4588>,\n <__main__.Order at 0x7fead80a45c0>,\n <__main__.Order at 0x7fead80a45f8>,\n <__main__.Order at 0x7fead80a4630>,\n <__main__.Order at 0x7fead80a4668>,\n <__main__.Order at 0x7fead80a46a0>,\n <__main__.Order at 0x7fead80a46d8>,\n <__main__.Order at 0x7fead80a4710>,\n <__main__.Order at 0x7fead80a4748>,\n <__main__.Order at 0x7fead80a4780>,\n <__main__.Order at 0x7fead80a47b8>,\n <__main__.Order at 0x7fead80a47f0>,\n <__main__.Order at 0x7fead80a4828>,\n <__main__.Order at 0x7fead80a4860>,\n <__main__.Order at 0x7fead80a4898>,\n <__main__.Order at 0x7fead80a48d0>,\n <__main__.Order at 0x7fead80a4908>,\n <__main__.Order at 0x7fead80a4940>,\n <__main__.Order at 0x7fead80a4978>,\n <__main__.Order at 0x7fead80a49b0>,\n <__main__.Order at 0x7fead80a49e8>,\n <__main__.Order at 0x7fead80a4a20>,\n <__main__.Order at 0x7fead80a4a58>,\n <__main__.Order at 0x7fead80a4a90>,\n <__main__.Order at 0x7fead80a4ac8>,\n <__main__.Order at 0x7fead80a4b00>,\n <__main__.Order at 0x7fead80a4b38>,\n <__main__.Order at 0x7fead80a4b70>,\n <__main__.Order at 0x7fead80a4ba8>,\n <__main__.Order at 0x7fead80a4be0>,\n <__main__.Order at 0x7fead80a4c18>,\n <__main__.Order at 0x7fead80a4c50>,\n <__main__.Order at 0x7fead80a4c88>,\n <__main__.Order at 0x7fead80a4cc0>,\n <__main__.Order at 0x7fead80a4cf8>,\n <__main__.Order at 0x7fead80a4d30>,\n <__main__.Order at 0x7fead80a4d68>,\n <__main__.Order at 0x7fead80a4da0>,\n <__main__.Order at 0x7fead80a4dd8>,\n <__main__.Order at 0x7fead80a4e10>,\n <__main__.Order at 0x7fead80a4e48>,\n <__main__.Order at 0x7fead80a4e80>,\n <__main__.Order at 0x7fead80a4eb8>,\n <__main__.Order at 0x7fead80a4ef0>,\n <__main__.Order at 0x7fead80a4f28>,\n <__main__.Order at 0x7fead80a4f60>,\n <__main__.Order at 0x7fead80a4f98>,\n <__main__.Order at 0x7fead80a4fd0>,\n <__main__.Order at 0x7fead80a5048>,\n <__main__.Order at 0x7fead80a5080>,\n <__main__.Order at 0x7fead80a50b8>,\n <__main__.Order at 0x7fead80a50f0>,\n <__main__.Order at 0x7fead80a5128>,\n <__main__.Order at 0x7fead80a5160>,\n <__main__.Order at 0x7fead80a5198>,\n <__main__.Order at 0x7fead80a51d0>,\n <__main__.Order at 0x7fead80a5208>,\n <__main__.Order at 0x7fead80a5240>,\n <__main__.Order at 0x7fead80a5278>,\n <__main__.Order at 0x7fead80a52b0>,\n <__main__.Order at 0x7fead80a52e8>,\n <__main__.Order at 0x7fead80a5320>,\n <__main__.Order at 0x7fead80a5358>,\n <__main__.Order at 0x7fead80a5390>,\n <__main__.Order at 0x7fead80a53c8>,\n <__main__.Order at 0x7fead80a5400>,\n <__main__.Order at 0x7fead80a5438>,\n <__main__.Order at 0x7fead80a5470>,\n <__main__.Order at 0x7fead80a54a8>,\n <__main__.Order at 0x7fead80a54e0>,\n <__main__.Order at 0x7fead80a5518>,\n <__main__.Order at 0x7fead80a5550>,\n <__main__.Order at 0x7fead80a5588>,\n <__main__.Order at 0x7fead80a55c0>,\n <__main__.Order at 0x7fead80a55f8>,\n <__main__.Order at 0x7fead80a5630>,\n <__main__.Order at 0x7fead80a5668>,\n <__main__.Order at 0x7fead80a56a0>,\n <__main__.Order at 0x7fead80a56d8>,\n <__main__.Order at 0x7fead80a5710>,\n <__main__.Order at 0x7fead80a5748>,\n <__main__.Order at 0x7fead80a5780>,\n <__main__.Order at 0x7fead80a57b8>,\n <__main__.Order at 0x7fead80a57f0>,\n <__main__.Order at 0x7fead80a5828>,\n <__main__.Order at 0x7fead80a5860>,\n <__main__.Order at 0x7fead80a5898>,\n <__main__.Order at 0x7fead80a58d0>,\n <__main__.Order at 0x7fead80a5908>,\n <__main__.Order at 0x7fead80a5940>,\n <__main__.Order at 0x7fead80a5978>,\n <__main__.Order at 0x7fead80a59b0>,\n <__main__.Order at 0x7fead80a59e8>,\n <__main__.Order at 0x7fead80a5a20>,\n <__main__.Order at 0x7fead80a5a58>,\n <__main__.Order at 0x7fead80a5a90>,\n <__main__.Order at 0x7fead80a5ac8>,\n <__main__.Order at 0x7fead80a5b00>,\n <__main__.Order at 0x7fead80a5b38>,\n <__main__.Order at 0x7fead80a5b70>,\n <__main__.Order at 0x7fead80a5ba8>,\n <__main__.Order at 0x7fead80a5be0>,\n <__main__.Order at 0x7fead80a5c18>,\n <__main__.Order at 0x7fead80a5c50>,\n <__main__.Order at 0x7fead80a5c88>,\n <__main__.Order at 0x7fead80a5cc0>,\n <__main__.Order at 0x7fead80a5cf8>,\n <__main__.Order at 0x7fead80a5d30>,\n <__main__.Order at 0x7fead80a5d68>,\n <__main__.Order at 0x7fead80a5da0>,\n <__main__.Order at 0x7fead80a5dd8>,\n <__main__.Order at 0x7fead80a5e10>,\n <__main__.Order at 0x7fead80a5e48>]"
     },
     "execution_count": 113,
     "metadata": {},
     "output_type": "execute_result"
    }
   ],
   "source": [
    "instance_dir = 'data/0o50t75s1p100'\n",
    "dr = DeliveryRouting(instance_dir)\n",
    "dr.unassigned_orders"
   ],
   "metadata": {
    "collapsed": false
   }
  },
  {
   "cell_type": "markdown",
   "metadata": {},
   "source": [
    "**Funtion that calculate bundel size Z(t)**"
   ]
  },
  {
   "cell_type": "code",
   "execution_count": null,
   "metadata": {},
   "outputs": [],
   "source": [
    "def get_bundel_size():\n",
    "    ..."
   ]
  },
  {
   "cell_type": "markdown",
   "metadata": {},
   "source": [
    "**Function that calculate k(r,t)**<br>\n",
    "k(r,t) is the number of couriers who are available at restaurant r"
   ]
  },
  {
   "cell_type": "code",
   "execution_count": null,
   "metadata": {},
   "outputs": [],
   "source": [
    "def get_available_courier(t,r):\n",
    "    ..."
   ]
  },
  {
   "cell_type": "markdown",
   "metadata": {},
   "source": [
    "**Route object**<br>\n",
    "A route is a bundle,i.e: a list of ordered orders"
   ]
  },
  {
   "cell_type": "code",
   "execution_count": null,
   "metadata": {},
   "outputs": [],
   "source": [
    "class Route(object):\n",
    "    def __init__:\n",
    "    \n",
    "    # calculate total travel time from 1st destination to the last destination of the route\n",
    "    def total_travel_time():\n",
    "\n",
    "    # calculate total service delay    \n",
    "    def total_service_delay():\n",
    "        #<to be discuss>\n",
    "\n",
    "    # calculate total_click_to_door \n",
    "    def total_click_to_door():\n",
    "        #<to be discuss>\n",
    "\n",
    "    # calculate route efficiency: travel time per order:\n",
    "    def route_efficiency():\n",
    "\n",
    "    # calculate route cost\n",
    "    def route_cost():\n",
    "        #route_cost = total_travel_time + beta*total_service_delay + gamma*total_click_to_door\n"
   ]
  },
  {
   "cell_type": "markdown",
   "metadata": {},
   "source": [
    "# Implement procedure 1"
   ]
  },
  {
   "cell_type": "code",
   "execution_count": null,
   "metadata": {},
   "outputs": [],
   "source": []
  }
 ],
 "metadata": {
  "kernelspec": {
   "display_name": "Python 3.9.6 64-bit",
   "language": "python",
   "name": "python3"
  },
  "language_info": {
   "codemirror_mode": {
    "name": "ipython",
    "version": 3
   },
   "file_extension": ".py",
   "mimetype": "text/x-python",
   "name": "python",
   "nbconvert_exporter": "python",
   "pygments_lexer": "ipython3",
   "version": "3.9.6"
  },
  "orig_nbformat": 4,
  "vscode": {
   "interpreter": {
    "hash": "aee8b7b246df8f9039afb4144a1f6fd8d2ca17a180786b69acc140d282b71a49"
   }
  }
 },
 "nbformat": 4,
 "nbformat_minor": 2
}
