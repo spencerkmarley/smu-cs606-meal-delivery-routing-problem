{
 "cells": [
  {
   "cell_type": "code",
   "execution_count": 17,
   "outputs": [],
   "source": [
    "import os, math"
   ],
   "metadata": {
    "collapsed": false
   }
  },
  {
   "cell_type": "code",
   "execution_count": 10,
   "outputs": [],
   "source": [
    "### Calculate travel time between two points: origin and destination\n",
    "def traveltime(origin_id,destination_id,meters_per_minute,locations):\n",
    "    dist=np.sqrt((locations.at[destination_id,'x']-locations.at[origin_id,'x'])**2\\\n",
    "                +(locations.at[destination_id,'y']-locations.at[origin_id,'y'])**2)\n",
    "    tt=np.ceil(dist/meters_per_minute)\n",
    "    return tt"
   ],
   "metadata": {
    "collapsed": false
   }
  },
  {
   "cell_type": "markdown",
   "metadata": {},
   "source": [
    "# Read in data instance\n",
    "A folder of data instance has 5 files: (1) couriers.txt, (2) instance_characteristics.txt, (3) instance_parameters.txt, (4) orders.txt, (5) restaurants.txt"
   ]
  },
  {
   "cell_type": "code",
   "execution_count": 27,
   "metadata": {},
   "outputs": [],
   "source": [
    "# Read instance information\n",
    "def read_instance_information(instance_dir):\n",
    "    orders=pd.read_table(os.path.join(instance_dir,'orders.txt'))\n",
    "    restaurants=pd.read_table(os.path.join(instance_dir,'restaurants.txt'))\n",
    "    couriers=pd.read_table(os.path.join(instance_dir,'couriers.txt'))\n",
    "    instanceparams=pd.read_table(os.path.join(instance_dir,'instance_parameters.txt'))\n",
    "\n",
    "    order_locations=pd.DataFrame(data=[orders.order,orders.x,orders.y]).transpose()\n",
    "    order_locations.columns=['id','x','y']\n",
    "    restaurant_locations=pd.DataFrame(data=[restaurants.restaurant,restaurants.x,restaurants.y]).transpose()\n",
    "    restaurant_locations.columns=['id','x','y']\n",
    "    courier_locations=pd.DataFrame(data=[couriers.courier,couriers.x,couriers.y]).transpose()\n",
    "    courier_locations.columns=['id','x','y']\n",
    "    locations=pd.concat([order_locations,restaurant_locations,courier_locations])\n",
    "    # locations.set_index('id',inplace=True)\n",
    "    #\n",
    "    # orders.set_index('order',inplace=True)\n",
    "    # couriers.set_index('courier',inplace=True)\n",
    "    # restaurants.set_index('restaurant',inplace=True)\n",
    "\n",
    "    meters_per_minute=instanceparams.at[0,'meters_per_minute']\n",
    "    pickup_service_minutes=instanceparams.at[0,'pickup service minutes']\n",
    "    dropoff_service_minutes=instanceparams.at[0,'dropoff service minutes']\n",
    "    target_click_to_door=instanceparams.at[0,'target click-to-door']\n",
    "    pay_per_order=instanceparams.at[0,'pay per order']\n",
    "    guaranteed_pay_per_hour=instanceparams.at[0,'guaranteed pay per hour']\n",
    "\n",
    "    return orders,restaurants,couriers,instanceparams,locations,meters_per_minute,\\\n",
    "           pickup_service_minutes,dropoff_service_minutes,target_click_to_door,\\\n",
    "           pay_per_order,guaranteed_pay_per_hour"
   ]
  },
  {
   "cell_type": "code",
   "execution_count": 28,
   "metadata": {},
   "outputs": [],
   "source": [
    "import pandas as pd\n",
    "instance_dir = 'data/0o50t75s1p100'\n",
    "orders,restaurants,couriers,instanceparams,locations,meters_per_minute,\\\n",
    "           pickup_service_minutes,dropoff_service_minutes,target_click_to_door,\\\n",
    "           pay_per_order,guaranteed_pay_per_hour=read_instance_information(instance_dir)"
   ]
  },
  {
   "cell_type": "code",
   "execution_count": 37,
   "metadata": {},
   "outputs": [
    {
     "data": {
      "text/plain": "numpy.ndarray"
     },
     "execution_count": 37,
     "metadata": {},
     "output_type": "execute_result"
    }
   ],
   "source": [
    "type(restaurants[restaurants['restaurant'] == 'r1'].values)\n",
    "# restaurants"
   ]
  },
  {
   "cell_type": "code",
   "execution_count": 41,
   "outputs": [
    {
     "data": {
      "text/plain": "    order      x     y  placement_time restaurant  ready_time\n0      o1   8317  5587             743         r1         753\n1      o2   8183  4908             541         r2         557\n2      o3   4953  5140             626         r3         656\n3      o4   5268  3678             566         r4         582\n4      o5   6245  3071             574         r5         582\n..    ...    ...   ...             ...        ...         ...\n247  o248  10538  6376             698        r28         709\n248  o249   7327  7640             610        r92         640\n249  o250   7043  7568             498        r14         541\n250  o251   5424  5846             557        r93         568\n251  o252   9258  5960             578         r2         589\n\n[252 rows x 6 columns]",
      "text/html": "<div>\n<style scoped>\n    .dataframe tbody tr th:only-of-type {\n        vertical-align: middle;\n    }\n\n    .dataframe tbody tr th {\n        vertical-align: top;\n    }\n\n    .dataframe thead th {\n        text-align: right;\n    }\n</style>\n<table border=\"1\" class=\"dataframe\">\n  <thead>\n    <tr style=\"text-align: right;\">\n      <th></th>\n      <th>order</th>\n      <th>x</th>\n      <th>y</th>\n      <th>placement_time</th>\n      <th>restaurant</th>\n      <th>ready_time</th>\n    </tr>\n  </thead>\n  <tbody>\n    <tr>\n      <th>0</th>\n      <td>o1</td>\n      <td>8317</td>\n      <td>5587</td>\n      <td>743</td>\n      <td>r1</td>\n      <td>753</td>\n    </tr>\n    <tr>\n      <th>1</th>\n      <td>o2</td>\n      <td>8183</td>\n      <td>4908</td>\n      <td>541</td>\n      <td>r2</td>\n      <td>557</td>\n    </tr>\n    <tr>\n      <th>2</th>\n      <td>o3</td>\n      <td>4953</td>\n      <td>5140</td>\n      <td>626</td>\n      <td>r3</td>\n      <td>656</td>\n    </tr>\n    <tr>\n      <th>3</th>\n      <td>o4</td>\n      <td>5268</td>\n      <td>3678</td>\n      <td>566</td>\n      <td>r4</td>\n      <td>582</td>\n    </tr>\n    <tr>\n      <th>4</th>\n      <td>o5</td>\n      <td>6245</td>\n      <td>3071</td>\n      <td>574</td>\n      <td>r5</td>\n      <td>582</td>\n    </tr>\n    <tr>\n      <th>...</th>\n      <td>...</td>\n      <td>...</td>\n      <td>...</td>\n      <td>...</td>\n      <td>...</td>\n      <td>...</td>\n    </tr>\n    <tr>\n      <th>247</th>\n      <td>o248</td>\n      <td>10538</td>\n      <td>6376</td>\n      <td>698</td>\n      <td>r28</td>\n      <td>709</td>\n    </tr>\n    <tr>\n      <th>248</th>\n      <td>o249</td>\n      <td>7327</td>\n      <td>7640</td>\n      <td>610</td>\n      <td>r92</td>\n      <td>640</td>\n    </tr>\n    <tr>\n      <th>249</th>\n      <td>o250</td>\n      <td>7043</td>\n      <td>7568</td>\n      <td>498</td>\n      <td>r14</td>\n      <td>541</td>\n    </tr>\n    <tr>\n      <th>250</th>\n      <td>o251</td>\n      <td>5424</td>\n      <td>5846</td>\n      <td>557</td>\n      <td>r93</td>\n      <td>568</td>\n    </tr>\n    <tr>\n      <th>251</th>\n      <td>o252</td>\n      <td>9258</td>\n      <td>5960</td>\n      <td>578</td>\n      <td>r2</td>\n      <td>589</td>\n    </tr>\n  </tbody>\n</table>\n<p>252 rows × 6 columns</p>\n</div>"
     },
     "execution_count": 41,
     "metadata": {},
     "output_type": "execute_result"
    }
   ],
   "source": [
    "orders"
   ],
   "metadata": {
    "collapsed": false
   }
  },
  {
   "cell_type": "markdown",
   "metadata": {},
   "source": [
    "# Set hyper-parameters:\n",
    "f∶ every f minutes solves a matching problem to prescribe the next pick-up and delivery assignment for each courier<br>\n",
    "t : optimization time<br>\n",
    "∆_(u): t+ ∆_(u ) is the assignment horizon<br>\n",
    "∆_(1); ∆_(2): to determine Z_(t)<br>\n",
    "beta: control the freshness in the construction of bundles\n",
    "gamma: control the click to door time in the construction of bundles\n"
   ]
  },
  {
   "cell_type": "code",
   "execution_count": 14,
   "metadata": {},
   "outputs": [],
   "source": [
    "# Accorting to default values in the paper\n",
    "f = 5\n",
    "delta_u = 10\n",
    "delta_1 = 10\n",
    "delta_2 = 10\n",
    "# Not find in the paper\n",
    "beta = 10 # should be tuned\n",
    "gamma = 10 # should be tuned"
   ]
  },
  {
   "cell_type": "markdown",
   "metadata": {},
   "source": [
    "# Procedure to initialize a solution"
   ]
  },
  {
   "cell_type": "markdown",
   "metadata": {},
   "source": [
    "**Function that return U(t,r)**<br>\n",
    "U(t,r) is the set of upcoming orders at restaurant r"
   ]
  },
  {
   "cell_type": "code",
   "execution_count": 67,
   "metadata": {},
   "outputs": [],
   "source": [
    "def create_set_U_tr(t,r):\n",
    "    ..."
   ]
  },
  {
   "cell_type": "markdown",
   "metadata": {},
   "source": [
    "**Courier Object**"
   ]
  },
  {
   "cell_type": "code",
   "execution_count": 44,
   "outputs": [
    {
     "data": {
      "text/plain": "    order      x     y  placement_time restaurant  ready_time\n0      o1   8317  5587             743         r1         753\n1      o2   8183  4908             541         r2         557\n2      o3   4953  5140             626         r3         656\n3      o4   5268  3678             566         r4         582\n4      o5   6245  3071             574         r5         582\n..    ...    ...   ...             ...        ...         ...\n247  o248  10538  6376             698        r28         709\n248  o249   7327  7640             610        r92         640\n249  o250   7043  7568             498        r14         541\n250  o251   5424  5846             557        r93         568\n251  o252   9258  5960             578         r2         589\n\n[252 rows x 6 columns]",
      "text/html": "<div>\n<style scoped>\n    .dataframe tbody tr th:only-of-type {\n        vertical-align: middle;\n    }\n\n    .dataframe tbody tr th {\n        vertical-align: top;\n    }\n\n    .dataframe thead th {\n        text-align: right;\n    }\n</style>\n<table border=\"1\" class=\"dataframe\">\n  <thead>\n    <tr style=\"text-align: right;\">\n      <th></th>\n      <th>order</th>\n      <th>x</th>\n      <th>y</th>\n      <th>placement_time</th>\n      <th>restaurant</th>\n      <th>ready_time</th>\n    </tr>\n  </thead>\n  <tbody>\n    <tr>\n      <th>0</th>\n      <td>o1</td>\n      <td>8317</td>\n      <td>5587</td>\n      <td>743</td>\n      <td>r1</td>\n      <td>753</td>\n    </tr>\n    <tr>\n      <th>1</th>\n      <td>o2</td>\n      <td>8183</td>\n      <td>4908</td>\n      <td>541</td>\n      <td>r2</td>\n      <td>557</td>\n    </tr>\n    <tr>\n      <th>2</th>\n      <td>o3</td>\n      <td>4953</td>\n      <td>5140</td>\n      <td>626</td>\n      <td>r3</td>\n      <td>656</td>\n    </tr>\n    <tr>\n      <th>3</th>\n      <td>o4</td>\n      <td>5268</td>\n      <td>3678</td>\n      <td>566</td>\n      <td>r4</td>\n      <td>582</td>\n    </tr>\n    <tr>\n      <th>4</th>\n      <td>o5</td>\n      <td>6245</td>\n      <td>3071</td>\n      <td>574</td>\n      <td>r5</td>\n      <td>582</td>\n    </tr>\n    <tr>\n      <th>...</th>\n      <td>...</td>\n      <td>...</td>\n      <td>...</td>\n      <td>...</td>\n      <td>...</td>\n      <td>...</td>\n    </tr>\n    <tr>\n      <th>247</th>\n      <td>o248</td>\n      <td>10538</td>\n      <td>6376</td>\n      <td>698</td>\n      <td>r28</td>\n      <td>709</td>\n    </tr>\n    <tr>\n      <th>248</th>\n      <td>o249</td>\n      <td>7327</td>\n      <td>7640</td>\n      <td>610</td>\n      <td>r92</td>\n      <td>640</td>\n    </tr>\n    <tr>\n      <th>249</th>\n      <td>o250</td>\n      <td>7043</td>\n      <td>7568</td>\n      <td>498</td>\n      <td>r14</td>\n      <td>541</td>\n    </tr>\n    <tr>\n      <th>250</th>\n      <td>o251</td>\n      <td>5424</td>\n      <td>5846</td>\n      <td>557</td>\n      <td>r93</td>\n      <td>568</td>\n    </tr>\n    <tr>\n      <th>251</th>\n      <td>o252</td>\n      <td>9258</td>\n      <td>5960</td>\n      <td>578</td>\n      <td>r2</td>\n      <td>589</td>\n    </tr>\n  </tbody>\n</table>\n<p>252 rows × 6 columns</p>\n</div>"
     },
     "execution_count": 44,
     "metadata": {},
     "output_type": "execute_result"
    }
   ],
   "source": [
    "orders"
   ],
   "metadata": {
    "collapsed": false
   }
  },
  {
   "cell_type": "code",
   "execution_count": 45,
   "outputs": [],
   "source": [
    "class Order:\n",
    "    def __init__(self, order_information : dict):\n",
    "\n",
    "        self.order_id = order_information.get('order')\n",
    "        self.destination = (order_information.get('x'), order_information.get('y'))\n",
    "        self.placement_time = order_information.get('placement_time')\n",
    "        self.restaurant_id = order_information.get('restaurant')\n",
    "        self.ready_time = order_information.get('ready_time')"
   ],
   "metadata": {
    "collapsed": false
   }
  },
  {
   "cell_type": "code",
   "execution_count": 46,
   "metadata": {},
   "outputs": [],
   "source": [
    "class Courier(object):\n",
    "    def __init__(self, courier_information : dict, restaurant : dict):\n",
    "        self.courier = courier_information.get('courier')\n",
    "        self.x = courier_information.get('x')\n",
    "        self.y = courier_information.get('y')\n",
    "        self.on_time = courier_information.get('on_time')\n",
    "        self.off_time = courier_information.get('off_time')\n",
    "\n",
    "        # Update and derived along the way\n",
    "        self.travel = []\n",
    "        self.visited = []\n",
    "        self.orders = []\n",
    "        # self.next_available_time = # a dictionary containing restaurant as key and available time as value\n",
    "        self.current_position = (self.x, self.y)\n",
    "        self.distance_travelled = 0\n",
    "        self.current_time = self.on_time\n",
    "\n",
    "        self.restaurant = restaurant\n",
    "\n",
    "   # check if the courier can take the order\n",
    "    def can_assign(self, order : Order) -> bool:\n",
    "        # if the ready time < courier's off time\n",
    "        if order.ready_time < self.on_time:\n",
    "            return False\n",
    "        if order.ready_time > self.off_time:\n",
    "            return False\n",
    "\n",
    "    # assign an order to courier\n",
    "    def assign_order(self, order: Order) -> bool:\n",
    "        # update available time for the next assignment\n",
    "        _, restaurant_x, restaurant_y = restaurants[restaurants['restaurant'] == order.restaurant].values[0]\n",
    "        if self.can_assign(order):\n",
    "            self.orders.append(order)\n",
    "            self.current_time += self.calculate_travel_time(self.current_position, (restaurant_x, restaurant_y), orders.destination)\n",
    "\n",
    "    @staticmethod\n",
    "    def calculate_travel_time(source: tuple, restaurant:tuple, destination: tuple) -> float:\n",
    "        return math.dist(source, restaurant) / meters_per_minute + math.dist(restaurant, destination) / meters_per_minute"
   ]
  },
  {
   "cell_type": "markdown",
   "metadata": {},
   "source": [
    "**Funtion that calculate bundel size Z(t)**"
   ]
  },
  {
   "cell_type": "code",
   "execution_count": null,
   "metadata": {},
   "outputs": [],
   "source": [
    "def get_bundel_size():\n",
    "    ..."
   ]
  },
  {
   "cell_type": "markdown",
   "metadata": {},
   "source": [
    "**Function that calculate k(r,t)**<br>\n",
    "k(r,t) is the number of couriers who are available at restaurant r"
   ]
  },
  {
   "cell_type": "code",
   "execution_count": null,
   "metadata": {},
   "outputs": [],
   "source": [
    "def get_available_courier(t,r):\n",
    "    ..."
   ]
  },
  {
   "cell_type": "markdown",
   "metadata": {},
   "source": [
    "**Route object**<br>\n",
    "A route is a bundle,i.e: a list of ordered orders"
   ]
  },
  {
   "cell_type": "code",
   "execution_count": null,
   "metadata": {},
   "outputs": [],
   "source": [
    "class Route(object):\n",
    "    def __init__:\n",
    "    \n",
    "    # calculate total travel time from 1st destination to the last destination of the route\n",
    "    def total_travel_time():\n",
    "\n",
    "    # calculate total service delay    \n",
    "    def total_service_delay():\n",
    "        #<to be discuss>\n",
    "\n",
    "    # calculate total_click_to_door \n",
    "    def total_click_to_door():\n",
    "        #<to be discuss>\n",
    "\n",
    "    # calculate route efficiency: travel time per order:\n",
    "    def route_efficiency():\n",
    "\n",
    "    # calculate route cost\n",
    "    def route_cost():\n",
    "        #route_cost = total_travel_time + beta*total_service_delay + gamma*total_click_to_door\n"
   ]
  },
  {
   "cell_type": "markdown",
   "metadata": {},
   "source": [
    "# Implement procedure 1"
   ]
  },
  {
   "cell_type": "code",
   "execution_count": null,
   "metadata": {},
   "outputs": [],
   "source": []
  }
 ],
 "metadata": {
  "kernelspec": {
   "display_name": "Python 3.9.6 64-bit",
   "language": "python",
   "name": "python3"
  },
  "language_info": {
   "codemirror_mode": {
    "name": "ipython",
    "version": 3
   },
   "file_extension": ".py",
   "mimetype": "text/x-python",
   "name": "python",
   "nbconvert_exporter": "python",
   "pygments_lexer": "ipython3",
   "version": "3.9.6"
  },
  "orig_nbformat": 4,
  "vscode": {
   "interpreter": {
    "hash": "aee8b7b246df8f9039afb4144a1f6fd8d2ca17a180786b69acc140d282b71a49"
   }
  }
 },
 "nbformat": 4,
 "nbformat_minor": 2
}
