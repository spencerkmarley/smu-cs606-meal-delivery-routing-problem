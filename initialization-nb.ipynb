{
 "cells": [
  {
   "cell_type": "code",
   "execution_count": 7,
   "metadata": {
    "collapsed": false
   },
   "outputs": [],
   "source": [
    "import os, math, numpy as np\n",
    "import pandas as pd\n",
    "import copy\n",
    "from collections import defaultdict"
   ]
  },
  {
   "cell_type": "code",
   "execution_count": 6,
   "metadata": {
    "collapsed": false
   },
   "outputs": [],
   "source": [
    "def get_distance(source: tuple, destination : tuple) -> float:\n",
    "    return ((source[1] - destination[1]) ** 2 + (source[0] - destination[0]) ** 2)**0.5"
   ]
  },
  {
   "cell_type": "code",
   "execution_count": 7,
   "metadata": {
    "collapsed": false
   },
   "outputs": [],
   "source": [
    "### Calculate travel time between two points: origin and destination\n",
    "def traveltime(origin_id,destination_id,meters_per_minute,locations):\n",
    "    dist=np.sqrt((locations.at[destination_id,'x']-locations.at[origin_id,'x'])**2\\\n",
    "                +(locations.at[destination_id,'y']-locations.at[origin_id,'y'])**2)\n",
    "    tt=np.ceil(dist/meters_per_minute)\n",
    "    return tt"
   ]
  },
  {
   "cell_type": "markdown",
   "metadata": {},
   "source": [
    "# Read in data instance\n",
    "A folder of data instance has 5 files: (1) couriers.txt, (2) instance_characteristics.txt, (3) instance_parameters.txt, (4) orders.txt, (5) restaurants.txt"
   ]
  },
  {
   "cell_type": "code",
   "execution_count": 3,
   "metadata": {},
   "outputs": [],
   "source": [
    "# Read instance information\n",
    "def read_instance_information(instance_dir):\n",
    "    orders=pd.read_table(os.path.join(instance_dir,'orders.txt'))\n",
    "    restaurants=pd.read_table(os.path.join(instance_dir,'restaurants.txt'))\n",
    "    couriers=pd.read_table(os.path.join(instance_dir,'couriers.txt'))\n",
    "    instanceparams=pd.read_table(os.path.join(instance_dir,'instance_parameters.txt'))\n",
    "\n",
    "    order_locations=pd.DataFrame(data=[orders.order,orders.x,orders.y]).transpose()\n",
    "    order_locations.columns=['id','x','y']\n",
    "    restaurant_locations=pd.DataFrame(data=[restaurants.restaurant,restaurants.x,restaurants.y]).transpose()\n",
    "    restaurant_locations.columns=['id','x','y']\n",
    "    courier_locations=pd.DataFrame(data=[couriers.courier,couriers.x,couriers.y]).transpose()\n",
    "    courier_locations.columns=['id','x','y']\n",
    "    locations=pd.concat([order_locations,restaurant_locations,courier_locations])\n",
    "\n",
    "    meters_per_minute=instanceparams.at[0,'meters_per_minute']\n",
    "    pickup_service_minutes=instanceparams.at[0,'pickup service minutes']\n",
    "    dropoff_service_minutes=instanceparams.at[0,'dropoff service minutes']\n",
    "    target_click_to_door=instanceparams.at[0,'target click-to-door']\n",
    "    pay_per_order=instanceparams.at[0,'pay per order']\n",
    "    guaranteed_pay_per_hour=instanceparams.at[0,'guaranteed pay per hour']\n",
    "\n",
    "    return orders,restaurants,couriers,instanceparams,locations"
   ]
  },
  {
   "cell_type": "code",
   "execution_count": 4,
   "metadata": {},
   "outputs": [],
   "source": [
    "instance_dir = 'data/0o50t75s1p100'\n",
    "orders,restaurants,couriers,instanceparams,locations=read_instance_information(instance_dir)"
   ]
  },
  {
   "cell_type": "markdown",
   "metadata": {},
   "source": [
    "# Set hyper-parameters:\n",
    "f∶ every f minutes solves a matching problem to prescribe the next pick-up and delivery assignment for each courier<br>\n",
    "t : optimization time<br>\n",
    "∆_(u): t+ ∆_(u ) is the assignment horizon<br>\n",
    "∆_(1); ∆_(2): to determine Z_(t)<br>\n",
    "beta: control the freshness in the construction of bundles\n",
    "gamma: control the click to door time in the construction of bundles\n"
   ]
  },
  {
   "cell_type": "code",
   "execution_count": 10,
   "metadata": {},
   "outputs": [],
   "source": [
    "# Accorting to default values in the paper\n",
    "f = 5\n",
    "delta_u = 10\n",
    "delta_1 = 10\n",
    "delta_2 = 10\n",
    "# Not find in the paper\n",
    "beta = 10 # should be tuned\n",
    "gamma = 10 # should be tuned"
   ]
  },
  {
   "cell_type": "markdown",
   "metadata": {},
   "source": [
    "# Procedure to initialize a solution"
   ]
  },
  {
   "cell_type": "markdown",
   "metadata": {},
   "source": [
    "**Function that return U(t,r)**<br>\n",
    "U(t,r) is the set of upcoming orders at restaurant r"
   ]
  },
  {
   "cell_type": "code",
   "execution_count": 11,
   "metadata": {},
   "outputs": [],
   "source": [
    "# Done\n",
    "def create_set_U_tr(t,r):\n",
    "    pass\n",
    "# Done under class DeliverRouting"
   ]
  },
  {
   "cell_type": "markdown",
   "metadata": {},
   "source": [
    "**Courier Object**"
   ]
  },
  {
   "cell_type": "code",
   "execution_count": 12,
   "metadata": {
    "collapsed": false
   },
   "outputs": [],
   "source": [
    "class Order:\n",
    "    def __init__(self, order_information : dict):\n",
    "\n",
    "        self.order_id = order_information.get('order')\n",
    "        self.destination = (order_information.get('x'), order_information.get('y'))\n",
    "        self.placement_time = order_information.get('placement_time')\n",
    "        self.restaurant_id = order_information.get('restaurant')\n",
    "        self.ready_time = order_information.get('ready_time')"
   ]
  },
  {
   "cell_type": "code",
   "execution_count": 13,
   "metadata": {},
   "outputs": [],
   "source": [
    "class Courier(object):\n",
    "    def __init__(self, courier_information : dict, restaurant : dict):\n",
    "        self.courier = courier_information.get('courier')\n",
    "        self.x = courier_information.get('x')\n",
    "        self.y = courier_information.get('y')\n",
    "        self.on_time = courier_information.get('on_time')\n",
    "        self.off_time = courier_information.get('off_time')\n",
    "\n",
    "        # Update and derived along the way\n",
    "        self.travel = []\n",
    "        self.visited = []\n",
    "        self.orders = []\n",
    "        # self.next_available_time = # a dictionary containing restaurant as key and available time as value\n",
    "        self.current_position = (self.x, self.y)\n",
    "        self.current_restaurant = None\n",
    "        self.distance_travelled = 0\n",
    "        self.current_time = self.on_time\n",
    "        self.restaurant = restaurant\n",
    "\n",
    "    @staticmethod\n",
    "    def calculate_travel_time(source: tuple,\n",
    "                              restaurant:tuple,\n",
    "                              destination: tuple,\n",
    "                              meters_per_minute : float) -> float:\n",
    "\n",
    "        return np.ceil(get_distance(source, restaurant) / meters_per_minute + get_distance(restaurant, destination) / meters_per_minute)\n",
    "\n",
    "   # check if the courier can take the order\n",
    "    def can_assign(self, order : Order) -> bool:\n",
    "        # if the ready time < courier's off time\n",
    "        if order.ready_time < self.on_time:\n",
    "            return False\n",
    "        if order.ready_time > self.off_time:\n",
    "            return False\n",
    "\n",
    "    # assign an order to courier\n",
    "    def assign_order(self, order: Order) -> bool:\n",
    "        # update available time for the next assignment\n",
    "        _, restaurant_x, restaurant_y = restaurants[restaurants['restaurant'] == order.restaurant].values[0]\n",
    "        if self.can_assign(order):\n",
    "            self.orders.append(order)\n",
    "            self.current_time += self.calculate_travel_time(self.current_position, (restaurant_x, restaurant_y), orders.destination)"
   ]
  },
  {
   "cell_type": "code",
   "execution_count": 17,
   "metadata": {
    "collapsed": false
   },
   "outputs": [],
   "source": [
    "class DeliveryRouting:\n",
    "    def __init__(self, instance_dir : str, target_bundle_size : int):\n",
    "        self.target_bundle_size = target_bundle_size\n",
    "\n",
    "        orders, restaurants, couriers, instanceparams, locations = read_instance_information(instance_dir)\n",
    "\n",
    "        self.orders = [Order(order) for order in orders.to_dict(orient = 'records')]\n",
    "        self.orders = sorted(self.orders, key = lambda x: x.order_id)\n",
    "\n",
    "        self.restaurants = restaurants.to_dict(orient = 'records')\n",
    "        self.couriers = [Courier(courier, self.restaurants) for courier in couriers.to_dict(orient = 'records')]\n",
    "        self.unassigned_orders = self.orders.copy()\n",
    "\n",
    "        self.instance_params = instanceparams.to_dict(orient = 'records')[0]\n",
    "\n",
    "        self.meters_per_minute, self.pickup_service_minutes, self.dropoff_service_minutes, \\\n",
    "            self.target_click_to_door, self.maximum_click_to_door, self.pay_per_order,\\\n",
    "            self.guaranteed_pay_per_hour = self.instance_params.values()\n",
    "        \n",
    "        self.orders_by_horizon_interval = defaultdict(list)\n",
    "    \n",
    "    def calculate_travel_time(self,\n",
    "                              source: tuple,\n",
    "                              restaurant:tuple,\n",
    "                              destination: tuple) -> float:\n",
    "\n",
    "        meters_per_minute = self.meters_per_minute\n",
    "        return np.ceil(get_distance(source, restaurant) / meters_per_minute + get_distance(restaurant, destination) / meters_per_minute)\n",
    "\n",
    "    def get_ready_orders(self,f: int,delta_u: int) -> dict:\n",
    "        '''\n",
    "        This function return orders which have ready time fall into the corresponding horizon.\n",
    "        This function should be run only once.\n",
    "        '''\n",
    "        # starting time of each interval\n",
    "        f_list = [*range(0,24*60+1,f)]\n",
    "        # get ready orders correspoding to each horizon interval\n",
    "        for i in range(1,len(f_list)):\n",
    "            for o in self.orders:\n",
    "                if o.placement_time < f_list[i] and o.placement_time >= f_list[i-1] and o.ready_time < f_list[i]+delta_u:\n",
    "                     self.orders_by_horizon_interval[f].append(o)\n",
    "\n",
    "    def get_num_ready_orders(self,f):\n",
    "        '''\n",
    "        Function that return U(t,r)\n",
    "        U(t,r) is the set of upcoming orders at restaurant r\n",
    "        '''\n",
    "        return len(self.orders_by_horizon_interval[f])\n",
    "\n",
    "    \n",
    "    def copy(self):\n",
    "        return copy.deepcopy(self)\n",
    "\n",
    "    def can_arrive(self,\n",
    "                   source : tuple,\n",
    "                   restaurant : tuple,\n",
    "                   destination : tuple,\n",
    "                   current_time : float,\n",
    "                   ready_time : float):\n",
    "\n",
    "        travel_time = self.calculate_travel_time(source, restaurant, destination)\n",
    "\n",
    "        if current_time + travel_time <= ready_time:\n",
    "            return False\n",
    "        return True\n",
    "\n",
    "    def get_bundle_size(self, z : int) -> int :\n",
    "        # available = [courier for courier in self.couriers if courier.]\n",
    "        pass\n",
    "\n",
    "    def number_of_bundles(self, restaurant_id, t):\n",
    "\n",
    "        # First get the time when they move from current position to each order for each restaurant\n",
    "\n",
    "\n",
    "        # If arrival_time >= ready_time: count\n",
    "\n",
    "\n",
    "\n",
    "\n",
    "\n",
    "\n",
    "\n",
    "\n",
    "\n",
    "\n",
    "    def random_initialization(self):\n",
    "        pass"
   ]
  },
  {
   "cell_type": "code",
   "execution_count": 18,
   "metadata": {
    "collapsed": false
   },
   "outputs": [],
   "source": [
    "instance_dir = 'data/0o50t75s1p100'\n",
    "dr = DeliveryRouting(instance_dir)"
   ]
  },
  {
   "cell_type": "markdown",
   "metadata": {},
   "source": [
    "**Funtion that calculate bundel size Z(t)**"
   ]
  },
  {
   "cell_type": "code",
   "execution_count": null,
   "metadata": {},
   "outputs": [],
   "source": [
    "def get_bundel_size():\n",
    "    ..."
   ]
  },
  {
   "cell_type": "markdown",
   "metadata": {},
   "source": [
    "**Function that calculate k(r,t)**<br>\n",
    "k(r,t) is the number of couriers who are available at restaurant r"
   ]
  },
  {
   "cell_type": "code",
   "execution_count": null,
   "metadata": {},
   "outputs": [],
   "source": [
    "def get_available_courier(t,r):\n",
    "    ..."
   ]
  },
  {
   "cell_type": "markdown",
   "metadata": {},
   "source": [
    "**Route object**<br>\n",
    "A route is a bundle,i.e: a list of ordered orders"
   ]
  },
  {
   "cell_type": "code",
   "execution_count": null,
   "metadata": {},
   "outputs": [],
   "source": [
    "class Route(object):\n",
    "    def __init__:\n",
    "    \n",
    "    # calculate total travel time from 1st destination to the last destination of the route\n",
    "    def total_travel_time():\n",
    "\n",
    "    # calculate total service delay    \n",
    "    def total_service_delay():\n",
    "        #<to be discuss>\n",
    "\n",
    "    # calculate total_click_to_door \n",
    "    def total_click_to_door():\n",
    "        #<to be discuss>\n",
    "\n",
    "    # calculate route efficiency: travel time per order:\n",
    "    def route_efficiency():\n",
    "\n",
    "    # calculate route cost\n",
    "    def route_cost():\n",
    "        #route_cost = total_travel_time + beta*total_service_delay + gamma*total_click_to_door\n"
   ]
  },
  {
   "cell_type": "markdown",
   "metadata": {},
   "source": [
    "# Implement procedure 1"
   ]
  },
  {
   "cell_type": "code",
   "execution_count": null,
   "metadata": {},
   "outputs": [],
   "source": []
  }
 ],
 "metadata": {
  "kernelspec": {
   "display_name": "Python 3.9.6 64-bit",
   "language": "python",
   "name": "python3"
  },
  "language_info": {
   "codemirror_mode": {
    "name": "ipython",
    "version": 3
   },
   "file_extension": ".py",
   "mimetype": "text/x-python",
   "name": "python",
   "nbconvert_exporter": "python",
   "pygments_lexer": "ipython3",
   "version": "3.9.6"
  },
  "orig_nbformat": 4,
  "vscode": {
   "interpreter": {
    "hash": "aee8b7b246df8f9039afb4144a1f6fd8d2ca17a180786b69acc140d282b71a49"
   }
  }
 },
 "nbformat": 4,
 "nbformat_minor": 2
}
