{
 "cells": [
  {
   "cell_type": "code",
   "execution_count": 7,
   "metadata": {
    "collapsed": false
   },
   "outputs": [],
   "source": [
    "import os, math, numpy as np\n",
    "import pandas as pd\n",
    "import copy\n",
    "from collections import defaultdict"
   ]
  },
  {
   "cell_type": "code",
   "execution_count": 6,
   "metadata": {
    "collapsed": false
   },
   "outputs": [],
   "source": [
    "def get_distance(source: tuple, destination : tuple) -> float:\n",
    "    return ((source[1] - destination[1]) ** 2 + (source[0] - destination[0]) ** 2)**0.5"
   ]
  },
  {
   "cell_type": "code",
   "execution_count": 7,
   "metadata": {
    "collapsed": false
   },
   "outputs": [],
   "source": [
    "### Calculate travel time between two points: origin and destination\n",
    "def traveltime(origin_id,destination_id,meters_per_minute,locations):\n",
    "    dist=np.sqrt((locations.at[destination_id,'x']-locations.at[origin_id,'x'])**2\\\n",
    "                +(locations.at[destination_id,'y']-locations.at[origin_id,'y'])**2)\n",
    "    tt=np.ceil(dist/meters_per_minute)\n",
    "    return tt"
   ]
  },
  {
   "cell_type": "markdown",
   "metadata": {},
   "source": [
    "# Read in data instance\n",
    "A folder of data instance has 5 files: (1) couriers.txt, (2) instance_characteristics.txt, (3) instance_parameters.txt, (4) orders.txt, (5) restaurants.txt"
   ]
  },
  {
   "cell_type": "code",
   "execution_count": 14,
   "metadata": {},
   "outputs": [],
   "source": [
    "# Read instance information\n",
    "def read_instance_information(instance_dir):\n",
    "    orders=pd.read_table(os.path.join(instance_dir,'orders.txt'))\n",
    "    restaurants=pd.read_table(os.path.join(instance_dir,'restaurants.txt'))\n",
    "    couriers=pd.read_table(os.path.join(instance_dir,'couriers.txt'))\n",
    "    instanceparams=pd.read_table(os.path.join(instance_dir,'instance_parameters.txt'))\n",
    "\n",
    "    order_locations=pd.DataFrame(data=[orders.order,orders.x,orders.y]).transpose()\n",
    "    order_locations.columns=['id','x','y']\n",
    "    restaurant_locations=pd.DataFrame(data=[restaurants.restaurant,restaurants.x,restaurants.y]).transpose()\n",
    "    restaurant_locations.columns=['id','x','y']\n",
    "    courier_locations=pd.DataFrame(data=[couriers.courier,couriers.x,couriers.y]).transpose()\n",
    "    courier_locations.columns=['id','x','y']\n",
    "    locations=pd.concat([order_locations,restaurant_locations,courier_locations])\n",
    "\n",
    "    meters_per_minute=instanceparams.at[0,'meters_per_minute']\n",
    "    pickup_service_minutes=instanceparams.at[0,'pickup service minutes']\n",
    "    dropoff_service_minutes=instanceparams.at[0,'dropoff service minutes']\n",
    "    target_click_to_door=instanceparams.at[0,'target click-to-door']\n",
    "    pay_per_order=instanceparams.at[0,'pay per order']\n",
    "    guaranteed_pay_per_hour=instanceparams.at[0,'guaranteed pay per hour']\n",
    "\n",
    "    return orders,restaurants,couriers,instanceparams,locations, meters_per_minute, pickup_service_minutes, dropoff_service_minutes, \\\n",
    "            target_click_to_door, pay_per_order,\\\n",
    "            guaranteed_pay_per_hour"
   ]
  },
  {
   "cell_type": "code",
   "execution_count": 15,
   "metadata": {},
   "outputs": [],
   "source": [
    "instance_dir = 'data/0o50t75s1p100'\n",
    "orders,restaurants,couriers,instanceparams,locations, meters_per_minute, pickup_service_minutes, dropoff_service_minutes, \\\n",
    "            target_click_to_door, pay_per_order,\\\n",
    "            guaranteed_pay_per_hour=read_instance_information(instance_dir)"
   ]
  },
  {
   "cell_type": "code",
   "execution_count": 16,
   "metadata": {},
   "outputs": [
    {
     "data": {
      "text/html": [
       "<div>\n",
       "<style scoped>\n",
       "    .dataframe tbody tr th:only-of-type {\n",
       "        vertical-align: middle;\n",
       "    }\n",
       "\n",
       "    .dataframe tbody tr th {\n",
       "        vertical-align: top;\n",
       "    }\n",
       "\n",
       "    .dataframe thead th {\n",
       "        text-align: right;\n",
       "    }\n",
       "</style>\n",
       "<table border=\"1\" class=\"dataframe\">\n",
       "  <thead>\n",
       "    <tr style=\"text-align: right;\">\n",
       "      <th></th>\n",
       "      <th>order</th>\n",
       "      <th>x</th>\n",
       "      <th>y</th>\n",
       "      <th>placement_time</th>\n",
       "      <th>restaurant</th>\n",
       "      <th>ready_time</th>\n",
       "    </tr>\n",
       "  </thead>\n",
       "  <tbody>\n",
       "    <tr>\n",
       "      <th>0</th>\n",
       "      <td>o1</td>\n",
       "      <td>8317</td>\n",
       "      <td>5587</td>\n",
       "      <td>743</td>\n",
       "      <td>r1</td>\n",
       "      <td>753</td>\n",
       "    </tr>\n",
       "    <tr>\n",
       "      <th>1</th>\n",
       "      <td>o2</td>\n",
       "      <td>8183</td>\n",
       "      <td>4908</td>\n",
       "      <td>541</td>\n",
       "      <td>r2</td>\n",
       "      <td>557</td>\n",
       "    </tr>\n",
       "    <tr>\n",
       "      <th>2</th>\n",
       "      <td>o3</td>\n",
       "      <td>4953</td>\n",
       "      <td>5140</td>\n",
       "      <td>626</td>\n",
       "      <td>r3</td>\n",
       "      <td>656</td>\n",
       "    </tr>\n",
       "    <tr>\n",
       "      <th>3</th>\n",
       "      <td>o4</td>\n",
       "      <td>5268</td>\n",
       "      <td>3678</td>\n",
       "      <td>566</td>\n",
       "      <td>r4</td>\n",
       "      <td>582</td>\n",
       "    </tr>\n",
       "    <tr>\n",
       "      <th>4</th>\n",
       "      <td>o5</td>\n",
       "      <td>6245</td>\n",
       "      <td>3071</td>\n",
       "      <td>574</td>\n",
       "      <td>r5</td>\n",
       "      <td>582</td>\n",
       "    </tr>\n",
       "    <tr>\n",
       "      <th>...</th>\n",
       "      <td>...</td>\n",
       "      <td>...</td>\n",
       "      <td>...</td>\n",
       "      <td>...</td>\n",
       "      <td>...</td>\n",
       "      <td>...</td>\n",
       "    </tr>\n",
       "    <tr>\n",
       "      <th>247</th>\n",
       "      <td>o248</td>\n",
       "      <td>10538</td>\n",
       "      <td>6376</td>\n",
       "      <td>698</td>\n",
       "      <td>r28</td>\n",
       "      <td>709</td>\n",
       "    </tr>\n",
       "    <tr>\n",
       "      <th>248</th>\n",
       "      <td>o249</td>\n",
       "      <td>7327</td>\n",
       "      <td>7640</td>\n",
       "      <td>610</td>\n",
       "      <td>r92</td>\n",
       "      <td>640</td>\n",
       "    </tr>\n",
       "    <tr>\n",
       "      <th>249</th>\n",
       "      <td>o250</td>\n",
       "      <td>7043</td>\n",
       "      <td>7568</td>\n",
       "      <td>498</td>\n",
       "      <td>r14</td>\n",
       "      <td>541</td>\n",
       "    </tr>\n",
       "    <tr>\n",
       "      <th>250</th>\n",
       "      <td>o251</td>\n",
       "      <td>5424</td>\n",
       "      <td>5846</td>\n",
       "      <td>557</td>\n",
       "      <td>r93</td>\n",
       "      <td>568</td>\n",
       "    </tr>\n",
       "    <tr>\n",
       "      <th>251</th>\n",
       "      <td>o252</td>\n",
       "      <td>9258</td>\n",
       "      <td>5960</td>\n",
       "      <td>578</td>\n",
       "      <td>r2</td>\n",
       "      <td>589</td>\n",
       "    </tr>\n",
       "  </tbody>\n",
       "</table>\n",
       "<p>252 rows × 6 columns</p>\n",
       "</div>"
      ],
      "text/plain": [
       "    order      x     y  placement_time restaurant  ready_time\n",
       "0      o1   8317  5587             743         r1         753\n",
       "1      o2   8183  4908             541         r2         557\n",
       "2      o3   4953  5140             626         r3         656\n",
       "3      o4   5268  3678             566         r4         582\n",
       "4      o5   6245  3071             574         r5         582\n",
       "..    ...    ...   ...             ...        ...         ...\n",
       "247  o248  10538  6376             698        r28         709\n",
       "248  o249   7327  7640             610        r92         640\n",
       "249  o250   7043  7568             498        r14         541\n",
       "250  o251   5424  5846             557        r93         568\n",
       "251  o252   9258  5960             578         r2         589\n",
       "\n",
       "[252 rows x 6 columns]"
      ]
     },
     "execution_count": 16,
     "metadata": {},
     "output_type": "execute_result"
    }
   ],
   "source": [
    "orders"
   ]
  },
  {
   "cell_type": "markdown",
   "metadata": {},
   "source": [
    "# Set hyper-parameters:\n",
    "f∶ every f minutes solves a matching problem to prescribe the next pick-up and delivery assignment for each courier<br>\n",
    "t : optimization time<br>\n",
    "∆_(u): t+ ∆_(u ) is the assignment horizon<br>\n",
    "∆_(1); ∆_(2): to determine Z_(t)<br>\n",
    "beta: control the freshness in the construction of bundles\n",
    "gamma: control the click to door time in the construction of bundles\n"
   ]
  },
  {
   "cell_type": "code",
   "execution_count": 10,
   "metadata": {},
   "outputs": [],
   "source": [
    "# Accorting to default values in the paper\n",
    "f = 5\n",
    "delta_u = 10\n",
    "delta_1 = 10\n",
    "delta_2 = 10\n",
    "# Not find in the paper\n",
    "beta = 10 # should be tuned\n",
    "gamma = 10 # should be tuned"
   ]
  },
  {
   "cell_type": "markdown",
   "metadata": {},
   "source": [
    "# Procedure to initialize a solution"
   ]
  },
  {
   "cell_type": "markdown",
   "metadata": {},
   "source": [
    "**Function that return U(t,r)**<br>\n",
    "U(t,r) is the set of upcoming orders at restaurant r"
   ]
  },
  {
   "cell_type": "code",
   "execution_count": 11,
   "metadata": {},
   "outputs": [],
   "source": [
    "# Done\n",
    "def create_set_U_tr(t,r):\n",
    "    pass\n",
    "# Done under class DeliverRouting"
   ]
  },
  {
   "cell_type": "markdown",
   "metadata": {},
   "source": [
    "**Order Object**"
   ]
  },
  {
   "cell_type": "code",
   "execution_count": 12,
   "metadata": {
    "collapsed": false
   },
   "outputs": [],
   "source": [
    "class Order:\n",
    "    def __init__(self, order_information : dict):\n",
    "\n",
    "        self.id = order_information.get('order')\n",
    "        self.destination = (order_information.get('x'), order_information.get('y'))\n",
    "        self.placement_time = order_information.get('placement_time')\n",
    "        self.restaurant_id = order_information.get('restaurant')\n",
    "        self.ready_time = order_information.get('ready_time')\n",
    "        \n",
    "        # To be updated after assignment\n",
    "        self.pickup_time = 0\n",
    "        self.dropoff_time = 0\n",
    "        self.courier_id = \"\""
   ]
  },
  {
   "cell_type": "markdown",
   "metadata": {},
   "source": [
    "**Route object**<br>\n",
    "A route is a bundle,i.e: a list of ordered orders"
   ]
  },
  {
   "cell_type": "code",
   "execution_count": 9,
   "metadata": {},
   "outputs": [],
   "source": [
    "class Route(object):\n",
    "    def __init__(self,bundle : list, restaurant_id : str):\n",
    "        self.bundle = bundle\n",
    "        self.ready_time = 0\n",
    "        self.restaurant_id = restaurant_id\n",
    "        \n",
    "        # Hyperparameters\n",
    "        self.beta = 10 \n",
    "        self.gamma = 10\n",
    "        \n",
    "    def get_ready_time(self):\n",
    "        self.ready_time = max([o.ready_time for o in self.bundle])\n",
    "\n",
    "    # calculate total travel time from 1st destination to the last destination of the route\n",
    "    # do not include pickup service time and drop off service time\n",
    "    def get_total_travel_time(self):\n",
    "        total_travel_time = 0\n",
    "        for i in range(len(self.bundle)-1):\n",
    "            total_travel_time += traveltime(self.bundle[i].id, self.bundle[i+1].id)\n",
    "        return total_travel_time\n",
    "\n",
    "    def get_end_position(self):\n",
    "        return self.bundle[-1].id\n",
    "\n",
    "    # calculate total service delay    \n",
    "    def total_service_delay(self):\n",
    "        for o in self.\n",
    "        pass\n",
    "\n",
    "    # calculate total_click_to_door \n",
    "    def total_click_to_door():\n",
    "        #<to be discuss>\n",
    "        pass\n",
    "\n",
    "    # calculate route efficiency: travel time per order:\n",
    "    def route_efficiency():\n",
    "        pass\n",
    "\n",
    "    # calculate route cost\n",
    "    def route_cost():\n",
    "        #route_cost = total_travel_time + beta*total_service_delay + gamma*total_click_to_door\n",
    "        pass\n"
   ]
  },
  {
   "cell_type": "markdown",
   "metadata": {},
   "source": [
    "**Assignment Object**"
   ]
  },
  {
   "cell_type": "code",
   "execution_count": null,
   "metadata": {},
   "outputs": [],
   "source": [
    "class Assignment():\n",
    "    def __init__(self, assign_time : int , restaurant_id : str, courier: object, route : Route):\n",
    "        self.assign_time = assign_time\n",
    "        self.restaurant_id = restaurant_id  # each assignment of a bundle has only one corresponding restaurant\n",
    "        self.pickup_time = 0\n",
    "        self.courier = courier\n",
    "        self.route = route\n",
    "        self.isfinal_flag = 0 # indicate if the assignment is final (can not be updated)\n",
    "        self.update_time = 0\n",
    "\n",
    "    def update(self):\n",
    "        pass\n",
    "        # 0+1 = 1\n",
    "        # 0+0 and no_order_long_ready_time = 0\n",
    "        # 0+0 and not no_order_long_ready_time = 1\n",
    "    def no_order_long_ready_time(self,t) -> bool:\n",
    "        pass"
   ]
  },
  {
   "cell_type": "markdown",
   "metadata": {},
   "source": [
    "**Courier Object**"
   ]
  },
  {
   "cell_type": "code",
   "execution_count": 13,
   "metadata": {},
   "outputs": [],
   "source": [
    "class Courier(object):\n",
    "    def __init__(self, courier_information : dict, ):\n",
    "        self.id = courier_information.get('courier')\n",
    "        self.x = courier_information.get('x')\n",
    "        self.y = courier_information.get('y')\n",
    "        self.on_time = courier_information.get('on_time')\n",
    "        self.off_time = courier_information.get('off_time')\n",
    "\n",
    "        # Sequence of moves of the courier\n",
    "        # Update and derived along the way\n",
    "        self.assignments = []                           # containing assigned assigments \n",
    "        self.next_available_time = 0                   # when the courier is available for the next assignment (or the drop off time of the last order of the last assignment)\n",
    "        self.position_after_last_assignment = self.id  # the position of the courier after completing the last assignment           "
   ]
  },
  {
   "cell_type": "code",
   "execution_count": 17,
   "metadata": {
    "collapsed": false
   },
   "outputs": [],
   "source": [
    "class DeliveryRouting:\n",
    "    def __init__(self, instance_dir : str, target_bundle_size : int):\n",
    "        self.target_bundle_size = target_bundle_size\n",
    "\n",
    "        orders, restaurants, couriers, instanceparams, locations = read_instance_information(instance_dir)\n",
    "        \n",
    "        self.instance_params = instanceparams.to_dict(orient = 'records')[0]\n",
    "\n",
    "        self.meters_per_minute, self.pickup_service_minutes, self.dropoff_service_minutes, \\\n",
    "            self.target_click_to_door, self.maximum_click_to_door, self.pay_per_order,\\\n",
    "            self.guaranteed_pay_per_hour = self.instance_params.values()\n",
    "\n",
    "        self.orders = [Order(order) for order in orders.to_dict(orient = 'records')]\n",
    "        self.orders = sorted(self.orders, key = lambda x: x.order_id)\n",
    "\n",
    "        self.restaurants = restaurants.to_dict(orient = 'records')\n",
    "        self.couriers = [Courier(courier) for courier in couriers.to_dict(orient = 'records')]\n",
    "        self.unassigned_orders = self.copy(self.orders)\n",
    "\n",
    "        self.instance_params = instanceparams.to_dict(orient = 'records')[0]\n",
    "\n",
    "        self.meters_per_minute, self.pickup_service_minutes, self.dropoff_service_minutes, \\\n",
    "            self.target_click_to_door, self.maximum_click_to_door, self.pay_per_order,\\\n",
    "            self.guaranteed_pay_per_hour = self.instance_params.values()\n",
    "        \n",
    "        self.orders_by_horizon_interval = defaultdict(list)\n",
    "        self.locations = locations\n",
    "\n",
    "        # Hyperparameters\n",
    "        self.f = 5\n",
    "        self.delta_u = 10\n",
    "        self.delta_1 = 10\n",
    "        self.delta_2 = 10\n",
    "\n",
    "\n",
    "    def traveltime(self, origin_id,destination_id):\n",
    "        dist=np.sqrt((self.locations.at[destination_id,'x']-self.locations.at[origin_id,'x'])**2\\\n",
    "                    +(self.locations.at[destination_id,'y']-self.locations.at[origin_id,'y'])**2)\n",
    "        tt=np.ceil(dist/self.meters_per_minute)\n",
    "        return tt\n",
    "\n",
    "    def copy(self):\n",
    "        return copy.deepcopy(self)\n",
    "\n",
    "    def get_ready_orders(self) -> dict:\n",
    "        '''\n",
    "        This function return orders which have ready time fall into the corresponding horizon.\n",
    "        This function should be run only once.\n",
    "        '''\n",
    "        # starting time of each interval\n",
    "        f_list = [*range(0,24*60+1,self.f)]\n",
    "        # get ready orders correspoding to each horizon interval\n",
    "        for i in range(1,len(f_list)):\n",
    "            for o in self.orders:\n",
    "                if o.placement_time < f_list[i] and o.placement_time >= f_list[i-1] and o.ready_time < f_list[i]+self.delta_u:\n",
    "                     self.orders_by_horizon_interval[f].append(o)\n",
    "\n",
    "    def get_num_ready_orders(self,f):\n",
    "        '''\n",
    "        Function that return U(t,r)\n",
    "        U(t,r) is the set of upcoming orders at restaurant r\n",
    "        '''\n",
    "        return len(self.orders_by_horizon_interval[f])\n",
    "\n",
    "\n",
    "\n",
    "    def get_bundle_size(self, z : int) -> int :\n",
    "        # available = [courier for courier in self.couriers if courier.]\n",
    "        pass\n",
    "\n",
    "    def number_of_bundles(self, restaurant_id, t):\n",
    "\n",
    "        # First get the time when they move from current position to each order for each restaurant\n",
    "\n",
    "\n",
    "        # If arrival_time >= ready_time: count\n",
    "        pass\n",
    "\n",
    "    # check if the courier can take a bundle. \n",
    "    def can_assign(self, t, courier, route : Route) -> bool:\n",
    "        if route.ready_time < self.on_time:\n",
    "            return False\n",
    "        if route.ready_time > self.off_time:\n",
    "            return False\n",
    "        if len(courier.assignements) > 0:\n",
    "            if courier.assignements[-1].isfinal_flag == 0:\n",
    "                if courier.assignements[-1].restaurant_id != route.restaurant_id:\n",
    "                    return False\n",
    "        return True\n",
    "\n",
    "    # assign a bundle to a courier\n",
    "    def assign_bundle(self, t: int, courier: Courier, route: Route):\n",
    "        # calculate courier's arrival time to the bundle's restaurant:\n",
    "        arrival_time = courier.next_available_time +\\\n",
    "                        self.dropoff_service_minutes/2 +\\\n",
    "                         self.traveltime(courier.position_after_last_assignment,route.restaurant_id) +\\\n",
    "                          self.pickup_service_minutes/2\n",
    "        \n",
    "        ### Commitment strategy\n",
    "        # If d can reach restaurant r before t + f and all orders in s are estimated to be ready by t + f,\n",
    "        # make a final commitment of d to s: instruct d to travel to rs, pick up and deliver orders in s.\n",
    "        if arrival_time <= t+self.f and route.ready_time <= t+self.f:\n",
    "            pickup_time = max(arrival_time,route.ready_time)\n",
    "            assignment = Assignment(t, route.restaurant_id, courier, route)\n",
    "            assignment.isfinal_flag = 1\n",
    "            assignment.pickup_time = pickup_time\n",
    "            \n",
    "            if len(courier.assignments) > 0:\n",
    "                # if the last assignment can be updated\n",
    "                # the last assignment can be updated if its isfinal_flag = 0\n",
    "                if courier.assignments[-1].isfinal_flag == 0:\n",
    "                    # Combine bundle\n",
    "                    courier.assignments[-1].update(assignment) # the old courier.assignments[-1] is combined with the new assignment to become new courier.assignments[-1]\n",
    "                    pickup_time = max(arrival_time,courier.assignments[-1].ready_time)\n",
    "                    courier.next_available_time = pickup_time +  self.pickup_service_minutes/2 +\\\n",
    "                                                    courier.assignments[-1].route.get_total_travel_time() +  self.dropoff_service_minutes/2     \n",
    "                    courier.position_after_last_assignment = courier.assignments[-1].route.get_end_position()\n",
    "                else: # if the last assignment can not be updated\n",
    "                    courier.assignments.append(assignment)\n",
    "                    courier.next_available_time = pickup_time +  self.pickup_service_minutes/2 +\\\n",
    "                                                        courier.assignments[-1].route.get_total_travel_time() +  self.dropoff_service_minutes/2\n",
    "                    courier.position_after_last_assignment = courier.assignments[-1].route.get_end_position()\n",
    "            else: \n",
    "                courier.assignments.append(assignment)\n",
    "                courier.next_available_time = pickup_time +  self.pickup_service_minutes/2 +\\\n",
    "                                                        courier.assignments[-1].route.get_total_travel_time()+  self.dropoff_service_minutes/2\n",
    "                courier.position_after_last_assignment = courier.assignments[-1].route.get_end_position()\n",
    "        \n",
    "        else:\n",
    "            pickup_time = max(arrival_time,route.ready_time)\n",
    "            assignment = Assignment(t, route.restaurant_id, courier, route)\n",
    "            assignment.isfinal_flag = 0\n",
    "            assignment.pickup_time = pickup_time\n",
    "            if len(courier.assignments) > 0:\n",
    "                # if the last assignment can be updated\n",
    "                # the last assignment can be updated if its isfinal_flag = 0\n",
    "                if courier.assignments[-1].isfinal_flag == 0:\n",
    "                    # Combine bundle\n",
    "                    courier.assignments[-1].update(assignment) # the old courier.assignments[-1] is combined with the new assignment to become new courier.assignments[-1]\n",
    "                    pickup_time = max(arrival_time,courier.assignments[-1].ready_time)\n",
    "                    if courier.assignments[-1].isfinal_flag == 1:\n",
    "                        courier.next_available_time = pickup_time +  self.pickup_service_minutes/2 +\\\n",
    "                                                        courier.assignments[-1].route.get_total_travel_time() +  self.dropoff_service_minutes/2\n",
    "                        courier.position_after_last_assignment = courier.assignments[-1].route.get_end_position()\n",
    "                    else:\n",
    "                        pass\n",
    "                else: # if the last assignment can not be updated\n",
    "                    courier.assignments.append(assignment)\n",
    "            else: \n",
    "                courier.assignments.append(assignment)\n",
    "\n",
    "\n",
    "\n",
    "\n",
    "\n",
    "\n",
    "    def random_initialization(self):\n",
    "        pass"
   ]
  },
  {
   "cell_type": "code",
   "execution_count": 18,
   "metadata": {
    "collapsed": false
   },
   "outputs": [],
   "source": [
    "instance_dir = 'data/0o50t75s1p100'\n",
    "dr = DeliveryRouting(instance_dir)"
   ]
  },
  {
   "cell_type": "markdown",
   "metadata": {},
   "source": [
    "**Funtion that calculate bundel size Z(t)**"
   ]
  },
  {
   "cell_type": "code",
   "execution_count": null,
   "metadata": {},
   "outputs": [],
   "source": [
    "def get_bundel_size():\n",
    "    ..."
   ]
  },
  {
   "cell_type": "markdown",
   "metadata": {},
   "source": [
    "**Function that calculate k(r,t)**<br>\n",
    "k(r,t) is the number of couriers who are available at restaurant r"
   ]
  },
  {
   "cell_type": "code",
   "execution_count": null,
   "metadata": {},
   "outputs": [],
   "source": [
    "def get_available_courier(t,r):\n",
    "    ..."
   ]
  },
  {
   "cell_type": "markdown",
   "metadata": {},
   "source": [
    "# Implement procedure 1"
   ]
  },
  {
   "cell_type": "code",
   "execution_count": null,
   "metadata": {},
   "outputs": [],
   "source": []
  }
 ],
 "metadata": {
  "kernelspec": {
   "display_name": "Python 3.9.6 64-bit",
   "language": "python",
   "name": "python3"
  },
  "language_info": {
   "codemirror_mode": {
    "name": "ipython",
    "version": 3
   },
   "file_extension": ".py",
   "mimetype": "text/x-python",
   "name": "python",
   "nbconvert_exporter": "python",
   "pygments_lexer": "ipython3",
   "version": "3.9.6"
  },
  "orig_nbformat": 4,
  "vscode": {
   "interpreter": {
    "hash": "aee8b7b246df8f9039afb4144a1f6fd8d2ca17a180786b69acc140d282b71a49"
   }
  }
 },
 "nbformat": 4,
 "nbformat_minor": 2
}
